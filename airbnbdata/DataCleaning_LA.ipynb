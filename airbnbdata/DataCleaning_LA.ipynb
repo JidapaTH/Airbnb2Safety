{
 "cells": [
  {
   "cell_type": "code",
   "execution_count": 1,
   "metadata": {},
   "outputs": [],
   "source": [
    "import pandas as pd\n",
    "import numpy as np\n",
    "import re\n",
    "import scipy.stats as stats\n",
    "from sklearn import linear_model\n",
    "from sklearn import model_selection\n",
    "from sklearn.neighbors import KNeighborsClassifier"
   ]
  },
  {
   "cell_type": "code",
   "execution_count": 2,
   "metadata": {
    "scrolled": true
   },
   "outputs": [
    {
     "data": {
      "text/html": [
       "<div>\n",
       "<style scoped>\n",
       "    .dataframe tbody tr th:only-of-type {\n",
       "        vertical-align: middle;\n",
       "    }\n",
       "\n",
       "    .dataframe tbody tr th {\n",
       "        vertical-align: top;\n",
       "    }\n",
       "\n",
       "    .dataframe thead th {\n",
       "        text-align: right;\n",
       "    }\n",
       "</style>\n",
       "<table border=\"1\" class=\"dataframe\">\n",
       "  <thead>\n",
       "    <tr style=\"text-align: right;\">\n",
       "      <th></th>\n",
       "      <th>id</th>\n",
       "      <th>listing_url</th>\n",
       "      <th>scrape_id</th>\n",
       "      <th>last_scraped</th>\n",
       "      <th>name</th>\n",
       "      <th>summary</th>\n",
       "      <th>space</th>\n",
       "      <th>description</th>\n",
       "      <th>experiences_offered</th>\n",
       "      <th>neighborhood_overview</th>\n",
       "      <th>...</th>\n",
       "      <th>requires_license</th>\n",
       "      <th>license</th>\n",
       "      <th>jurisdiction_names</th>\n",
       "      <th>instant_bookable</th>\n",
       "      <th>is_business_travel_ready</th>\n",
       "      <th>cancellation_policy</th>\n",
       "      <th>require_guest_profile_picture</th>\n",
       "      <th>require_guest_phone_verification</th>\n",
       "      <th>calculated_host_listings_count</th>\n",
       "      <th>reviews_per_month</th>\n",
       "    </tr>\n",
       "  </thead>\n",
       "  <tbody>\n",
       "    <tr>\n",
       "      <th>0</th>\n",
       "      <td>109</td>\n",
       "      <td>https://www.airbnb.com/rooms/109</td>\n",
       "      <td>20180908131025</td>\n",
       "      <td>2018-09-08</td>\n",
       "      <td>Amazing bright elegant condo park front *UPGRA...</td>\n",
       "      <td>*** Unit upgraded with new bamboo flooring, br...</td>\n",
       "      <td>*** Unit upgraded with new bamboo flooring, br...</td>\n",
       "      <td>*** Unit upgraded with new bamboo flooring, br...</td>\n",
       "      <td>none</td>\n",
       "      <td>NaN</td>\n",
       "      <td>...</td>\n",
       "      <td>f</td>\n",
       "      <td>NaN</td>\n",
       "      <td>NaN</td>\n",
       "      <td>f</td>\n",
       "      <td>f</td>\n",
       "      <td>strict_14_with_grace_period</td>\n",
       "      <td>t</td>\n",
       "      <td>f</td>\n",
       "      <td>1</td>\n",
       "      <td>0.02</td>\n",
       "    </tr>\n",
       "    <tr>\n",
       "      <th>1</th>\n",
       "      <td>344</td>\n",
       "      <td>https://www.airbnb.com/rooms/344</td>\n",
       "      <td>20180908131025</td>\n",
       "      <td>2018-09-08</td>\n",
       "      <td>Family perfect;Pool;Near Studios!</td>\n",
       "      <td>This home is perfect for families; aspiring ch...</td>\n",
       "      <td>Cheerful &amp; comfortable; near studios, amusemen...</td>\n",
       "      <td>This home is perfect for families; aspiring ch...</td>\n",
       "      <td>none</td>\n",
       "      <td>Quiet-yet-close to all the fun in LA! Hollywoo...</td>\n",
       "      <td>...</td>\n",
       "      <td>f</td>\n",
       "      <td>NaN</td>\n",
       "      <td>NaN</td>\n",
       "      <td>t</td>\n",
       "      <td>f</td>\n",
       "      <td>flexible</td>\n",
       "      <td>f</td>\n",
       "      <td>f</td>\n",
       "      <td>1</td>\n",
       "      <td>0.11</td>\n",
       "    </tr>\n",
       "    <tr>\n",
       "      <th>2</th>\n",
       "      <td>2404</td>\n",
       "      <td>https://www.airbnb.com/rooms/2404</td>\n",
       "      <td>20180908131025</td>\n",
       "      <td>2018-09-08</td>\n",
       "      <td>deleted</td>\n",
       "      <td>NaN</td>\n",
       "      <td>deleted</td>\n",
       "      <td>deleted</td>\n",
       "      <td>none</td>\n",
       "      <td>NaN</td>\n",
       "      <td>...</td>\n",
       "      <td>f</td>\n",
       "      <td>NaN</td>\n",
       "      <td>{\"City of Los Angeles\",\" CA\"}</td>\n",
       "      <td>f</td>\n",
       "      <td>f</td>\n",
       "      <td>moderate</td>\n",
       "      <td>f</td>\n",
       "      <td>f</td>\n",
       "      <td>1</td>\n",
       "      <td>NaN</td>\n",
       "    </tr>\n",
       "    <tr>\n",
       "      <th>3</th>\n",
       "      <td>2708</td>\n",
       "      <td>https://www.airbnb.com/rooms/2708</td>\n",
       "      <td>20180908131025</td>\n",
       "      <td>2018-09-08</td>\n",
       "      <td>Gold Memory Foam Bed &amp; Breakfast in West Holly...</td>\n",
       "      <td>Complementary, Peet's coffee, latte-style coff...</td>\n",
       "      <td>This space is completely upgraded and updated....</td>\n",
       "      <td>Complementary, Peet's coffee, latte-style coff...</td>\n",
       "      <td>none</td>\n",
       "      <td>We are minutes away from the Mentor Language I...</td>\n",
       "      <td>...</td>\n",
       "      <td>f</td>\n",
       "      <td>NaN</td>\n",
       "      <td>{\"City of Los Angeles\",\" CA\"}</td>\n",
       "      <td>t</td>\n",
       "      <td>f</td>\n",
       "      <td>strict_14_with_grace_period</td>\n",
       "      <td>f</td>\n",
       "      <td>f</td>\n",
       "      <td>1</td>\n",
       "      <td>0.23</td>\n",
       "    </tr>\n",
       "    <tr>\n",
       "      <th>4</th>\n",
       "      <td>2732</td>\n",
       "      <td>https://www.airbnb.com/rooms/2732</td>\n",
       "      <td>20180908131025</td>\n",
       "      <td>2018-09-08</td>\n",
       "      <td>Zen Life at the Beach</td>\n",
       "      <td>NaN</td>\n",
       "      <td>This is a three story townhouse with the follo...</td>\n",
       "      <td>This is a three story townhouse with the follo...</td>\n",
       "      <td>none</td>\n",
       "      <td>NaN</td>\n",
       "      <td>...</td>\n",
       "      <td>t</td>\n",
       "      <td>228269</td>\n",
       "      <td>{\"Santa Monica\"}</td>\n",
       "      <td>f</td>\n",
       "      <td>f</td>\n",
       "      <td>strict_14_with_grace_period</td>\n",
       "      <td>f</td>\n",
       "      <td>f</td>\n",
       "      <td>2</td>\n",
       "      <td>0.19</td>\n",
       "    </tr>\n",
       "  </tbody>\n",
       "</table>\n",
       "<p>5 rows × 96 columns</p>\n",
       "</div>"
      ],
      "text/plain": [
       "     id                        listing_url       scrape_id last_scraped  \\\n",
       "0   109   https://www.airbnb.com/rooms/109  20180908131025   2018-09-08   \n",
       "1   344   https://www.airbnb.com/rooms/344  20180908131025   2018-09-08   \n",
       "2  2404  https://www.airbnb.com/rooms/2404  20180908131025   2018-09-08   \n",
       "3  2708  https://www.airbnb.com/rooms/2708  20180908131025   2018-09-08   \n",
       "4  2732  https://www.airbnb.com/rooms/2732  20180908131025   2018-09-08   \n",
       "\n",
       "                                                name  \\\n",
       "0  Amazing bright elegant condo park front *UPGRA...   \n",
       "1                  Family perfect;Pool;Near Studios!   \n",
       "2                                            deleted   \n",
       "3  Gold Memory Foam Bed & Breakfast in West Holly...   \n",
       "4                              Zen Life at the Beach   \n",
       "\n",
       "                                             summary  \\\n",
       "0  *** Unit upgraded with new bamboo flooring, br...   \n",
       "1  This home is perfect for families; aspiring ch...   \n",
       "2                                                NaN   \n",
       "3  Complementary, Peet's coffee, latte-style coff...   \n",
       "4                                                NaN   \n",
       "\n",
       "                                               space  \\\n",
       "0  *** Unit upgraded with new bamboo flooring, br...   \n",
       "1  Cheerful & comfortable; near studios, amusemen...   \n",
       "2                                            deleted   \n",
       "3  This space is completely upgraded and updated....   \n",
       "4  This is a three story townhouse with the follo...   \n",
       "\n",
       "                                         description experiences_offered  \\\n",
       "0  *** Unit upgraded with new bamboo flooring, br...                none   \n",
       "1  This home is perfect for families; aspiring ch...                none   \n",
       "2                                            deleted                none   \n",
       "3  Complementary, Peet's coffee, latte-style coff...                none   \n",
       "4  This is a three story townhouse with the follo...                none   \n",
       "\n",
       "                               neighborhood_overview        ...          \\\n",
       "0                                                NaN        ...           \n",
       "1  Quiet-yet-close to all the fun in LA! Hollywoo...        ...           \n",
       "2                                                NaN        ...           \n",
       "3  We are minutes away from the Mentor Language I...        ...           \n",
       "4                                                NaN        ...           \n",
       "\n",
       "  requires_license license             jurisdiction_names instant_bookable  \\\n",
       "0                f     NaN                            NaN                f   \n",
       "1                f     NaN                            NaN                t   \n",
       "2                f     NaN  {\"City of Los Angeles\",\" CA\"}                f   \n",
       "3                f     NaN  {\"City of Los Angeles\",\" CA\"}                t   \n",
       "4                t  228269               {\"Santa Monica\"}                f   \n",
       "\n",
       "  is_business_travel_ready          cancellation_policy  \\\n",
       "0                        f  strict_14_with_grace_period   \n",
       "1                        f                     flexible   \n",
       "2                        f                     moderate   \n",
       "3                        f  strict_14_with_grace_period   \n",
       "4                        f  strict_14_with_grace_period   \n",
       "\n",
       "   require_guest_profile_picture require_guest_phone_verification  \\\n",
       "0                              t                                f   \n",
       "1                              f                                f   \n",
       "2                              f                                f   \n",
       "3                              f                                f   \n",
       "4                              f                                f   \n",
       "\n",
       "   calculated_host_listings_count  reviews_per_month  \n",
       "0                               1               0.02  \n",
       "1                               1               0.11  \n",
       "2                               1                NaN  \n",
       "3                               1               0.23  \n",
       "4                               2               0.19  \n",
       "\n",
       "[5 rows x 96 columns]"
      ]
     },
     "execution_count": 2,
     "metadata": {},
     "output_type": "execute_result"
    }
   ],
   "source": [
    "la = pd.read_csv('listings.csv')\n",
    "# la = pd.read_csv('listings_review_location_imputed.csv')\n",
    "\n",
    "la.head()"
   ]
  },
  {
   "cell_type": "code",
   "execution_count": 3,
   "metadata": {},
   "outputs": [],
   "source": [
    "#feature selection\n",
    "keep = ['host_is_superhost', 'host_total_listings_count', 'host_identity_verified',\n",
    "        'zipcode','property_type','bathrooms', 'bedrooms', 'beds','price','cancellation_policy',\n",
    "        'availability_30','availability_60','availability_90','availability_365',\n",
    "        'reviews_per_month','review_scores_location']\n",
    "la_sub = la[keep]"
   ]
  },
  {
   "cell_type": "code",
   "execution_count": 4,
   "metadata": {},
   "outputs": [
    {
     "data": {
      "text/plain": [
       "host_is_superhost               7\n",
       "host_total_listings_count       7\n",
       "host_identity_verified          7\n",
       "zipcode                       530\n",
       "property_type                   0\n",
       "bathrooms                      38\n",
       "bedrooms                       21\n",
       "beds                           43\n",
       "price                           0\n",
       "cancellation_policy             0\n",
       "availability_30                 0\n",
       "availability_60                 0\n",
       "availability_90                 0\n",
       "availability_365                0\n",
       "reviews_per_month            8913\n",
       "review_scores_location       9639\n",
       "dtype: int64"
      ]
     },
     "execution_count": 4,
     "metadata": {},
     "output_type": "execute_result"
    }
   ],
   "source": [
    "#check the number of NaNs for each feature\n",
    "la_sub.isnull().sum()"
   ]
  },
  {
   "cell_type": "markdown",
   "metadata": {},
   "source": [
    "#### Step 1,  clean up NaN values\n",
    "\n",
    "1) Impute `review_scores_location`"
   ]
  },
  {
   "cell_type": "markdown",
   "metadata": {},
   "source": [
    "a) Extract relevant col's from original dataset"
   ]
  },
  {
   "cell_type": "code",
   "execution_count": 5,
   "metadata": {},
   "outputs": [],
   "source": [
    "listDtaSubset = la[['latitude','longitude',\"neighbourhood_cleansed\", \"review_scores_location\"]]"
   ]
  },
  {
   "cell_type": "code",
   "execution_count": 6,
   "metadata": {},
   "outputs": [],
   "source": [
    "# listDtaSubset.shape\n",
    "# listDtaSubset.isna().sum(axis = 0)"
   ]
  },
  {
   "cell_type": "markdown",
   "metadata": {},
   "source": [
    "b) One-hot encode neighbourhood variable"
   ]
  },
  {
   "cell_type": "code",
   "execution_count": 7,
   "metadata": {},
   "outputs": [],
   "source": [
    "neighbourhood = pd.get_dummies(listDtaSubset.neighbourhood_cleansed)  # a matrix with number of rows equal to the number of rows in the original dataset and number cols = number unique neighborhood values. For each row, only one element is 1, everything else are 0's.\n",
    "listDtaSubset = listDtaSubset.join(neighbourhood)\n",
    "listDtaSubset.drop(columns = \"neighbourhood_cleansed\", inplace= True)"
   ]
  },
  {
   "cell_type": "code",
   "execution_count": 8,
   "metadata": {},
   "outputs": [],
   "source": [
    "# listDtaSubset.shape"
   ]
  },
  {
   "cell_type": "markdown",
   "metadata": {},
   "source": [
    "c) Use subset of data to train KNN (rows with all model variable and label non-missing)"
   ]
  },
  {
   "cell_type": "code",
   "execution_count": 9,
   "metadata": {},
   "outputs": [],
   "source": [
    "# drop all observations with either x or y missing w.r.t. the model\n",
    "# Note: I remember none of the latitude, longiture info is missing\n",
    "data = listDtaSubset.dropna(axis = 0, subset = ['latitude','longitude',\"review_scores_location\"])\n",
    "# data.shape"
   ]
  },
  {
   "cell_type": "markdown",
   "metadata": {},
   "source": [
    "d) Use KNN model to predict all location review scores"
   ]
  },
  {
   "cell_type": "code",
   "execution_count": 10,
   "metadata": {},
   "outputs": [],
   "source": [
    "# split valid data set into training and testing data sets\n",
    "tmp_train, tmp_test = model_selection.train_test_split(data, test_size = 0.3)\n",
    "tmp_train_X = tmp_train.drop(columns=\"review_scores_location\")\n",
    "tmp_train_Y = tmp_train[\"review_scores_location\"]\n",
    "\n",
    "tmp_test_X = tmp_test.drop(columns=\"review_scores_location\")\n",
    "tmp_test_Y = tmp_test[\"review_scores_location\"]"
   ]
  },
  {
   "cell_type": "code",
   "execution_count": 11,
   "metadata": {},
   "outputs": [],
   "source": [
    "# tmp_test_X.shape\n",
    "# tmp_train_Y.shape"
   ]
  },
  {
   "cell_type": "code",
   "execution_count": 12,
   "metadata": {},
   "outputs": [
    {
     "name": "stdout",
     "output_type": "stream",
     "text": [
      "training accuracy:  0.777399446691 \n",
      "testing accuracy:  0.747169811321\n"
     ]
    }
   ],
   "source": [
    "# Train KNN model\n",
    "KNN = KNeighborsClassifier(n_neighbors = 11)  #  I tried k = 3-5. 11 is significantly better than 3, but similar to 12-15 or 10\n",
    "\n",
    "KNN.fit(tmp_train_X, tmp_train_Y)\n",
    "KNN_train_score = KNN.score(tmp_train_X,tmp_train_Y)\n",
    "KNN_test_score = KNN.score(tmp_test_X, tmp_test_Y)\n",
    "\n",
    "print(\"training accuracy: \", KNN_train_score, \"\\ntesting accuracy: \", KNN_test_score)"
   ]
  },
  {
   "cell_type": "markdown",
   "metadata": {},
   "source": [
    "e) Fill missing location review score with predicted missing value"
   ]
  },
  {
   "cell_type": "code",
   "execution_count": 13,
   "metadata": {},
   "outputs": [],
   "source": [
    "data2 = listDtaSubset.dropna(axis = 0, subset = ['latitude','longitude'])  # should not make any change since none of the latitude and longitude is missing in LA listing dataset\n",
    "# data2.shape\n",
    "data2 = data2.drop(columns=\"review_scores_location\")\n",
    "\n",
    "# predict the location score for ALL observations\n",
    "review_scores_location_imputed = KNN.predict(data2)"
   ]
  },
  {
   "cell_type": "code",
   "execution_count": 14,
   "metadata": {},
   "outputs": [],
   "source": [
    "# For observation with NA as review score, substitue in the predicted score\n",
    "mask = la[\"review_scores_location\"].isna()\n",
    "la.loc[mask,\"review_scores_location\"] = review_scores_location_imputed[mask]\n",
    "# listDta = listDta.is (value = pd.Series(review_scores_location_imputed), axis = 0)"
   ]
  },
  {
   "cell_type": "markdown",
   "metadata": {},
   "source": [
    "2) Clean up other features"
   ]
  },
  {
   "cell_type": "code",
   "execution_count": 15,
   "metadata": {},
   "outputs": [
    {
     "data": {
      "text/html": [
       "<div>\n",
       "<style scoped>\n",
       "    .dataframe tbody tr th:only-of-type {\n",
       "        vertical-align: middle;\n",
       "    }\n",
       "\n",
       "    .dataframe tbody tr th {\n",
       "        vertical-align: top;\n",
       "    }\n",
       "\n",
       "    .dataframe thead th {\n",
       "        text-align: right;\n",
       "    }\n",
       "</style>\n",
       "<table border=\"1\" class=\"dataframe\">\n",
       "  <thead>\n",
       "    <tr style=\"text-align: right;\">\n",
       "      <th></th>\n",
       "      <th>0</th>\n",
       "      <th>manipulation</th>\n",
       "    </tr>\n",
       "  </thead>\n",
       "  <tbody>\n",
       "    <tr>\n",
       "      <th>host_is_superhost</th>\n",
       "      <td>7</td>\n",
       "      <td>Drop rows with NaN(7)</td>\n",
       "    </tr>\n",
       "    <tr>\n",
       "      <th>host_total_listings_count</th>\n",
       "      <td>7</td>\n",
       "      <td>/</td>\n",
       "    </tr>\n",
       "    <tr>\n",
       "      <th>host_identity_verified</th>\n",
       "      <td>7</td>\n",
       "      <td>/</td>\n",
       "    </tr>\n",
       "    <tr>\n",
       "      <th>zipcode</th>\n",
       "      <td>530</td>\n",
       "      <td>Drop rows with NaN(530)</td>\n",
       "    </tr>\n",
       "    <tr>\n",
       "      <th>property_type</th>\n",
       "      <td>0</td>\n",
       "      <td>/</td>\n",
       "    </tr>\n",
       "    <tr>\n",
       "      <th>bathrooms</th>\n",
       "      <td>38</td>\n",
       "      <td>Drop rows with NaN(37)</td>\n",
       "    </tr>\n",
       "    <tr>\n",
       "      <th>bedrooms</th>\n",
       "      <td>21</td>\n",
       "      <td>Drop rows with NaN(19)</td>\n",
       "    </tr>\n",
       "    <tr>\n",
       "      <th>beds</th>\n",
       "      <td>43</td>\n",
       "      <td>Drop rows with NaN(21)</td>\n",
       "    </tr>\n",
       "    <tr>\n",
       "      <th>price</th>\n",
       "      <td>0</td>\n",
       "      <td>/</td>\n",
       "    </tr>\n",
       "    <tr>\n",
       "      <th>cancellation_policy</th>\n",
       "      <td>0</td>\n",
       "      <td>/</td>\n",
       "    </tr>\n",
       "    <tr>\n",
       "      <th>availability_30</th>\n",
       "      <td>0</td>\n",
       "      <td>/</td>\n",
       "    </tr>\n",
       "    <tr>\n",
       "      <th>availability_60</th>\n",
       "      <td>0</td>\n",
       "      <td>/</td>\n",
       "    </tr>\n",
       "    <tr>\n",
       "      <th>availability_90</th>\n",
       "      <td>0</td>\n",
       "      <td>/</td>\n",
       "    </tr>\n",
       "    <tr>\n",
       "      <th>availability_365</th>\n",
       "      <td>0</td>\n",
       "      <td>/</td>\n",
       "    </tr>\n",
       "    <tr>\n",
       "      <th>reviews_per_month</th>\n",
       "      <td>8913</td>\n",
       "      <td>?</td>\n",
       "    </tr>\n",
       "    <tr>\n",
       "      <th>review_scores_location</th>\n",
       "      <td>0</td>\n",
       "      <td>/</td>\n",
       "    </tr>\n",
       "  </tbody>\n",
       "</table>\n",
       "</div>"
      ],
      "text/plain": [
       "                              0             manipulation\n",
       "host_is_superhost             7    Drop rows with NaN(7)\n",
       "host_total_listings_count     7                        /\n",
       "host_identity_verified        7                        /\n",
       "zipcode                     530  Drop rows with NaN(530)\n",
       "property_type                 0                        /\n",
       "bathrooms                    38   Drop rows with NaN(37)\n",
       "bedrooms                     21   Drop rows with NaN(19)\n",
       "beds                         43   Drop rows with NaN(21)\n",
       "price                         0                        /\n",
       "cancellation_policy           0                        /\n",
       "availability_30               0                        /\n",
       "availability_60               0                        /\n",
       "availability_90               0                        /\n",
       "availability_365              0                        /\n",
       "reviews_per_month          8913                        ?\n",
       "review_scores_location        0                        /"
      ]
     },
     "execution_count": 15,
     "metadata": {},
     "output_type": "execute_result"
    }
   ],
   "source": [
    "la_sub = la[keep]\n",
    "summary = pd.DataFrame(la_sub.isnull().sum())\n",
    "man = ['Drop rows with NaN(7)','/','/','Drop rows with NaN(530)','/','Drop rows with NaN(37)','Drop rows with NaN(19)','Drop rows with NaN(21)','/','/','/','/','/','/','?','/']\n",
    "summary['manipulation']=man\n",
    "summary"
   ]
  },
  {
   "cell_type": "code",
   "execution_count": 16,
   "metadata": {},
   "outputs": [],
   "source": [
    "#host_is_superhost #7 missing features\n",
    "la[la['host_is_superhost'].isnull()][['host_id','host_is_superhost']]\n",
    "la_sub = la_sub[pd.notnull(la_sub['host_is_superhost'])]\n",
    "#host with missing values just do not have values for all of the listings\n",
    "#Drop NaN values, then host_total_listings_count and host_identity_verified are cleaned up as well"
   ]
  },
  {
   "cell_type": "code",
   "execution_count": 17,
   "metadata": {},
   "outputs": [],
   "source": [
    "#zipcode #drop the NaN values\n",
    "la_sub = la_sub[pd.notnull(la_sub['zipcode'])]"
   ]
  },
  {
   "cell_type": "code",
   "execution_count": 18,
   "metadata": {},
   "outputs": [],
   "source": [
    "la_sub = la_sub[pd.notnull(la_sub['bathrooms'])]\n",
    "la_sub = la_sub[pd.notnull(la_sub['bedrooms'])]\n",
    "la_sub = la_sub[pd.notnull(la_sub['beds'])].reset_index(drop=True)"
   ]
  },
  {
   "cell_type": "code",
   "execution_count": 19,
   "metadata": {},
   "outputs": [],
   "source": [
    "#fill missing value in `reviews_per_month` with median value\n",
    "sub = la_sub[\"reviews_per_month\"].median()\n",
    "la_sub[\"reviews_per_month\"] = la_sub[\"reviews_per_month\"].fillna(value =sub)"
   ]
  },
  {
   "cell_type": "code",
   "execution_count": 20,
   "metadata": {},
   "outputs": [
    {
     "data": {
      "text/plain": [
       "host_is_superhost            0\n",
       "host_total_listings_count    0\n",
       "host_identity_verified       0\n",
       "zipcode                      0\n",
       "property_type                0\n",
       "bathrooms                    0\n",
       "bedrooms                     0\n",
       "beds                         0\n",
       "price                        0\n",
       "cancellation_policy          0\n",
       "availability_30              0\n",
       "availability_60              0\n",
       "availability_90              0\n",
       "availability_365             0\n",
       "reviews_per_month            0\n",
       "review_scores_location       0\n",
       "dtype: int64"
      ]
     },
     "execution_count": 20,
     "metadata": {},
     "output_type": "execute_result"
    }
   ],
   "source": [
    "la_sub.isnull().sum()"
   ]
  },
  {
   "cell_type": "markdown",
   "metadata": {},
   "source": [
    "#### Step 2, Features Transformation"
   ]
  },
  {
   "cell_type": "code",
   "execution_count": 21,
   "metadata": {},
   "outputs": [],
   "source": [
    "##host_is_superhost: 0-False, 1-True\n",
    "la_sub['host_is_superhost']=[0 if la_sub['host_is_superhost'][i]=='f' else 1 for i in range(la_sub.shape[0])]"
   ]
  },
  {
   "cell_type": "code",
   "execution_count": 22,
   "metadata": {},
   "outputs": [],
   "source": [
    "##host_identity_verified: 0-False, 1-True\n",
    "la_sub['host_identity_verified']= [0 if la_sub['host_identity_verified'][i]=='f' else 1 for i in range(la_sub.shape[0])]"
   ]
  },
  {
   "cell_type": "code",
   "execution_count": 23,
   "metadata": {},
   "outputs": [
    {
     "data": {
      "text/plain": [
       "array([ 5, 10, 12,  4,  6,  7])"
      ]
     },
     "execution_count": 23,
     "metadata": {},
     "output_type": "execute_result"
    }
   ],
   "source": [
    "##zipcode\n",
    "la_sub['len']=[len(la_sub['zipcode'][i]) for i in range(la_sub.shape[0])]\n",
    "la_sub['len'].unique()"
   ]
  },
  {
   "cell_type": "code",
   "execution_count": 24,
   "metadata": {},
   "outputs": [],
   "source": [
    "#Case 1: with 'CA', len=7\n",
    "la_sub['zipcode']=[la_sub['zipcode'][i][2:] if la_sub['len'][i]==7 else la_sub['zipcode'][i] for i in range(la_sub.shape[0])]\n",
    "#Case 2: with '-', len=10\n",
    "la_sub['zipcode']=[la_sub['zipcode'][i][0:5] if re.search(r'-',la_sub['zipcode'][i]) else la_sub['zipcode'][i] for i in range(la_sub.shape[0])]\n",
    "#Case 3: with 'Near' or '/n/n'\n",
    "la_sub['zipcode']=[re.sub(\"[^0-9]\", \"\", la_sub['zipcode'][i]) for i in range(la_sub.shape[0])]\n",
    "#Case 4: len>6, take first 5 digits\n",
    "la_sub['zipcode']=[la_sub['zipcode'][i][0:5] if len(la_sub['zipcode'][i])>5 else la_sub['zipcode'][i] for i in range(la_sub.shape[0])]\n",
    "#Case 5: len<5 drop it\n",
    "la_sub['len2']=[len(la_sub['zipcode'][i]) for i in range(la_sub.shape[0])]\n",
    "la_sub = la_sub[la_sub['len2']==5].reset_index(drop=True)\n",
    "\n",
    "#drop len & len2\n",
    "la_sub = la_sub.drop(['len','len2'],axis=1)"
   ]
  },
  {
   "cell_type": "code",
   "execution_count": 25,
   "metadata": {},
   "outputs": [
    {
     "data": {
      "text/plain": [
       "array(['strict_14_with_grace_period', 'flexible', 'moderate',\n",
       "       'super_strict_30', 'strict', 'super_strict_60'], dtype=object)"
      ]
     },
     "execution_count": 25,
     "metadata": {},
     "output_type": "execute_result"
    }
   ],
   "source": [
    "##cancellation_policy\n",
    "la_sub['cancellation_policy'].unique()"
   ]
  },
  {
   "cell_type": "code",
   "execution_count": 26,
   "metadata": {},
   "outputs": [],
   "source": [
    "##cancellation_policy - only keep three levels: flexible, moderate, strict, and make them binary encoded\n",
    "la_sub['cancellation_policy'] = la_sub['cancellation_policy'].replace(['strict_14_with_grace_period','super_strict_30','strict','super_strict_60'],'strict')\n",
    "binary_encoded = pd.get_dummies(la_sub.cancellation_policy)\n",
    "newcols = binary_encoded.columns\n",
    "la_sub[newcols] = binary_encoded"
   ]
  },
  {
   "cell_type": "code",
   "execution_count": 27,
   "metadata": {},
   "outputs": [],
   "source": [
    "###remove $ from price\n",
    "la_sub['price'] = (la_sub['price'].str[1:])\n",
    "la_sub['price'] = la_sub['price'].str.replace(',', '')\n",
    "la_sub['price'] = la_sub['price'].astype(float)"
   ]
  },
  {
   "cell_type": "code",
   "execution_count": 28,
   "metadata": {},
   "outputs": [
    {
     "data": {
      "text/html": [
       "<div>\n",
       "<style scoped>\n",
       "    .dataframe tbody tr th:only-of-type {\n",
       "        vertical-align: middle;\n",
       "    }\n",
       "\n",
       "    .dataframe tbody tr th {\n",
       "        vertical-align: top;\n",
       "    }\n",
       "\n",
       "    .dataframe thead th {\n",
       "        text-align: right;\n",
       "    }\n",
       "</style>\n",
       "<table border=\"1\" class=\"dataframe\">\n",
       "  <thead>\n",
       "    <tr style=\"text-align: right;\">\n",
       "      <th></th>\n",
       "      <th>host_is_superhost</th>\n",
       "      <th>host_total_listings_count</th>\n",
       "      <th>host_identity_verified</th>\n",
       "      <th>zipcode</th>\n",
       "      <th>property_type</th>\n",
       "      <th>bathrooms</th>\n",
       "      <th>bedrooms</th>\n",
       "      <th>beds</th>\n",
       "      <th>price</th>\n",
       "      <th>cancellation_policy</th>\n",
       "      <th>availability_30</th>\n",
       "      <th>availability_60</th>\n",
       "      <th>availability_90</th>\n",
       "      <th>availability_365</th>\n",
       "      <th>reviews_per_month</th>\n",
       "      <th>review_scores_location</th>\n",
       "      <th>flexible</th>\n",
       "      <th>moderate</th>\n",
       "      <th>strict</th>\n",
       "    </tr>\n",
       "  </thead>\n",
       "  <tbody>\n",
       "    <tr>\n",
       "      <th>0</th>\n",
       "      <td>0</td>\n",
       "      <td>1.0</td>\n",
       "      <td>1</td>\n",
       "      <td>90230</td>\n",
       "      <td>Condominium</td>\n",
       "      <td>2.0</td>\n",
       "      <td>2.0</td>\n",
       "      <td>3.0</td>\n",
       "      <td>122.0</td>\n",
       "      <td>strict</td>\n",
       "      <td>0</td>\n",
       "      <td>0</td>\n",
       "      <td>0</td>\n",
       "      <td>146</td>\n",
       "      <td>0.02</td>\n",
       "      <td>10.0</td>\n",
       "      <td>0</td>\n",
       "      <td>0</td>\n",
       "      <td>1</td>\n",
       "    </tr>\n",
       "    <tr>\n",
       "      <th>1</th>\n",
       "      <td>0</td>\n",
       "      <td>1.0</td>\n",
       "      <td>1</td>\n",
       "      <td>91505</td>\n",
       "      <td>House</td>\n",
       "      <td>1.0</td>\n",
       "      <td>3.0</td>\n",
       "      <td>3.0</td>\n",
       "      <td>168.0</td>\n",
       "      <td>flexible</td>\n",
       "      <td>4</td>\n",
       "      <td>9</td>\n",
       "      <td>9</td>\n",
       "      <td>62</td>\n",
       "      <td>0.11</td>\n",
       "      <td>10.0</td>\n",
       "      <td>1</td>\n",
       "      <td>0</td>\n",
       "      <td>0</td>\n",
       "    </tr>\n",
       "    <tr>\n",
       "      <th>2</th>\n",
       "      <td>0</td>\n",
       "      <td>1.0</td>\n",
       "      <td>1</td>\n",
       "      <td>90046</td>\n",
       "      <td>Apartment</td>\n",
       "      <td>1.5</td>\n",
       "      <td>1.0</td>\n",
       "      <td>1.0</td>\n",
       "      <td>79.0</td>\n",
       "      <td>strict</td>\n",
       "      <td>3</td>\n",
       "      <td>3</td>\n",
       "      <td>3</td>\n",
       "      <td>272</td>\n",
       "      <td>0.23</td>\n",
       "      <td>10.0</td>\n",
       "      <td>0</td>\n",
       "      <td>0</td>\n",
       "      <td>1</td>\n",
       "    </tr>\n",
       "    <tr>\n",
       "      <th>3</th>\n",
       "      <td>0</td>\n",
       "      <td>2.0</td>\n",
       "      <td>0</td>\n",
       "      <td>90405</td>\n",
       "      <td>Apartment</td>\n",
       "      <td>1.0</td>\n",
       "      <td>1.0</td>\n",
       "      <td>1.0</td>\n",
       "      <td>140.0</td>\n",
       "      <td>strict</td>\n",
       "      <td>7</td>\n",
       "      <td>7</td>\n",
       "      <td>29</td>\n",
       "      <td>304</td>\n",
       "      <td>0.19</td>\n",
       "      <td>10.0</td>\n",
       "      <td>0</td>\n",
       "      <td>0</td>\n",
       "      <td>1</td>\n",
       "    </tr>\n",
       "    <tr>\n",
       "      <th>4</th>\n",
       "      <td>0</td>\n",
       "      <td>1.0</td>\n",
       "      <td>1</td>\n",
       "      <td>90706</td>\n",
       "      <td>Apartment</td>\n",
       "      <td>1.0</td>\n",
       "      <td>1.0</td>\n",
       "      <td>1.0</td>\n",
       "      <td>80.0</td>\n",
       "      <td>strict</td>\n",
       "      <td>0</td>\n",
       "      <td>0</td>\n",
       "      <td>0</td>\n",
       "      <td>0</td>\n",
       "      <td>1.21</td>\n",
       "      <td>10.0</td>\n",
       "      <td>0</td>\n",
       "      <td>0</td>\n",
       "      <td>1</td>\n",
       "    </tr>\n",
       "  </tbody>\n",
       "</table>\n",
       "</div>"
      ],
      "text/plain": [
       "   host_is_superhost  host_total_listings_count  host_identity_verified  \\\n",
       "0                  0                        1.0                       1   \n",
       "1                  0                        1.0                       1   \n",
       "2                  0                        1.0                       1   \n",
       "3                  0                        2.0                       0   \n",
       "4                  0                        1.0                       1   \n",
       "\n",
       "  zipcode property_type  bathrooms  bedrooms  beds  price cancellation_policy  \\\n",
       "0   90230   Condominium        2.0       2.0   3.0  122.0              strict   \n",
       "1   91505         House        1.0       3.0   3.0  168.0            flexible   \n",
       "2   90046     Apartment        1.5       1.0   1.0   79.0              strict   \n",
       "3   90405     Apartment        1.0       1.0   1.0  140.0              strict   \n",
       "4   90706     Apartment        1.0       1.0   1.0   80.0              strict   \n",
       "\n",
       "   availability_30  availability_60  availability_90  availability_365  \\\n",
       "0                0                0                0               146   \n",
       "1                4                9                9                62   \n",
       "2                3                3                3               272   \n",
       "3                7                7               29               304   \n",
       "4                0                0                0                 0   \n",
       "\n",
       "   reviews_per_month  review_scores_location  flexible  moderate  strict  \n",
       "0               0.02                    10.0         0         0       1  \n",
       "1               0.11                    10.0         1         0       0  \n",
       "2               0.23                    10.0         0         0       1  \n",
       "3               0.19                    10.0         0         0       1  \n",
       "4               1.21                    10.0         0         0       1  "
      ]
     },
     "execution_count": 28,
     "metadata": {},
     "output_type": "execute_result"
    }
   ],
   "source": [
    "la_sub.head()"
   ]
  },
  {
   "cell_type": "code",
   "execution_count": 29,
   "metadata": {},
   "outputs": [
    {
     "data": {
      "text/plain": [
       "Apartment             16434\n",
       "House                 14389\n",
       "Condominium            2155\n",
       "Guesthouse             2013\n",
       "Townhouse              1379\n",
       "Guest suite            1249\n",
       "Bungalow               1198\n",
       "Loft                    930\n",
       "Villa                   772\n",
       "Serviced apartment      391\n",
       "Hostel                  389\n",
       "Other                   229\n",
       "Bed and breakfast       206\n",
       "Camper/RV               165\n",
       "Cottage                 151\n",
       "Boutique hotel          141\n",
       "Cabin                    87\n",
       "Tiny house               40\n",
       "Hotel                    33\n",
       "Boat                     32\n",
       "Farm stay                31\n",
       "Aparthotel               30\n",
       "Tent                     28\n",
       "Yurt                     17\n",
       "Castle                   16\n",
       "Chalet                   13\n",
       "Treehouse                12\n",
       "Earth house               9\n",
       "Campsite                  7\n",
       "Tipi                      7\n",
       "Hut                       6\n",
       "Dome house                5\n",
       "Houseboat                 4\n",
       "Barn                      4\n",
       "Resort                    3\n",
       "Bus                       3\n",
       "Dorm                      3\n",
       "Lighthouse                2\n",
       "Island                    2\n",
       "Minsu (Taiwan)            1\n",
       "Plane                     1\n",
       "In-law                    1\n",
       "Name: property_type, dtype: int64"
      ]
     },
     "execution_count": 29,
     "metadata": {},
     "output_type": "execute_result"
    }
   ],
   "source": [
    "la_sub['property_type'].value_counts()"
   ]
  },
  {
   "cell_type": "code",
   "execution_count": 30,
   "metadata": {},
   "outputs": [],
   "source": [
    "###binary-encoding for property_type\n",
    "la_sub['property_type_cleaned'] = la_sub['property_type']\n",
    "la_sub.loc[(la_sub['property_type'] != 'Apartment') & (la_sub['property_type'] != 'House') \n",
    "           & (la_sub['property_type'] != 'Condominium') & (la_sub['property_type'] != 'Guesthouse')\n",
    "           & (la_sub['property_type'] != 'Townhouse') & (la_sub['property_type'] != 'Guest suite')\n",
    "           & (la_sub['property_type'] != 'Bungalow') & (la_sub['property_type'] != 'Loft'), \n",
    "           'property_type_cleaned'] = 'Other'"
   ]
  },
  {
   "cell_type": "code",
   "execution_count": 31,
   "metadata": {},
   "outputs": [
    {
     "data": {
      "text/plain": [
       "Apartment      16434\n",
       "House          14389\n",
       "Other           2841\n",
       "Condominium     2155\n",
       "Guesthouse      2013\n",
       "Townhouse       1379\n",
       "Guest suite     1249\n",
       "Bungalow        1198\n",
       "Loft             930\n",
       "Name: property_type_cleaned, dtype: int64"
      ]
     },
     "execution_count": 31,
     "metadata": {},
     "output_type": "execute_result"
    }
   ],
   "source": [
    "la_sub['property_type_cleaned'].value_counts()"
   ]
  },
  {
   "cell_type": "code",
   "execution_count": 32,
   "metadata": {},
   "outputs": [],
   "source": [
    "#one-hot encoding \n",
    "binary_encoded1 = pd.get_dummies(la_sub.property_type_cleaned)\n",
    "newcols1 = binary_encoded1.columns\n",
    "la_sub[newcols1] = binary_encoded1"
   ]
  },
  {
   "cell_type": "code",
   "execution_count": 33,
   "metadata": {},
   "outputs": [],
   "source": [
    "# output cleaned listing data \n",
    "la_sub.to_csv(\"listings_cleaned.csv\")  # only have a subset of features"
   ]
  },
  {
   "cell_type": "code",
   "execution_count": 34,
   "metadata": {},
   "outputs": [
    {
     "data": {
      "text/plain": [
       "host_is_superhost            0\n",
       "host_total_listings_count    0\n",
       "host_identity_verified       0\n",
       "zipcode                      0\n",
       "property_type                0\n",
       "bathrooms                    0\n",
       "bedrooms                     0\n",
       "beds                         0\n",
       "price                        0\n",
       "cancellation_policy          0\n",
       "availability_30              0\n",
       "availability_60              0\n",
       "availability_90              0\n",
       "availability_365             0\n",
       "reviews_per_month            0\n",
       "review_scores_location       0\n",
       "flexible                     0\n",
       "moderate                     0\n",
       "strict                       0\n",
       "property_type_cleaned        0\n",
       "Apartment                    0\n",
       "Bungalow                     0\n",
       "Condominium                  0\n",
       "Guest suite                  0\n",
       "Guesthouse                   0\n",
       "House                        0\n",
       "Loft                         0\n",
       "Other                        0\n",
       "Townhouse                    0\n",
       "dtype: int64"
      ]
     },
     "execution_count": 34,
     "metadata": {},
     "output_type": "execute_result"
    }
   ],
   "source": [
    "la_sub.isna().sum()"
   ]
  }
 ],
 "metadata": {
  "kernelspec": {
   "display_name": "Python 3",
   "language": "python",
   "name": "python3"
  },
  "language_info": {
   "codemirror_mode": {
    "name": "ipython",
    "version": 3
   },
   "file_extension": ".py",
   "mimetype": "text/x-python",
   "name": "python",
   "nbconvert_exporter": "python",
   "pygments_lexer": "ipython3",
   "version": "3.6.5"
  }
 },
 "nbformat": 4,
 "nbformat_minor": 2
}
