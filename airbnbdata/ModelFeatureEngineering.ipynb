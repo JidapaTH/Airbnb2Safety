{
 "cells": [
  {
   "cell_type": "code",
   "execution_count": 1,
   "metadata": {},
   "outputs": [],
   "source": [
    "import numpy as np\n",
    "import pandas as pd\n",
    "import matplotlib.pyplot as plt\n",
    "import scipy.stats as stats\n",
    "from statsmodels.formula.api import ols\n",
    "import warnings\n",
    "warnings.filterwarnings('ignore')"
   ]
  },
  {
   "cell_type": "markdown",
   "metadata": {},
   "source": [
    "### Crime Score Version"
   ]
  },
  {
   "cell_type": "code",
   "execution_count": 2,
   "metadata": {},
   "outputs": [],
   "source": [
    "# crime1 = pd.read_csv(\"safety_score.csv\")# 1st version\n",
    "# crime2 = pd.read_csv(\"safety_score_LA_old.csv\") # 2nd version\n",
    "crime3 = pd.read_csv(\"safety_score_LA.csv\") # 3rd version"
   ]
  },
  {
   "cell_type": "code",
   "execution_count": 3,
   "metadata": {},
   "outputs": [
    {
     "data": {
      "text/html": [
       "<div>\n",
       "<style scoped>\n",
       "    .dataframe tbody tr th:only-of-type {\n",
       "        vertical-align: middle;\n",
       "    }\n",
       "\n",
       "    .dataframe tbody tr th {\n",
       "        vertical-align: top;\n",
       "    }\n",
       "\n",
       "    .dataframe thead th {\n",
       "        text-align: right;\n",
       "    }\n",
       "</style>\n",
       "<table border=\"1\" class=\"dataframe\">\n",
       "  <thead>\n",
       "    <tr style=\"text-align: right;\">\n",
       "      <th></th>\n",
       "      <th>Unnamed: 0</th>\n",
       "      <th>ZIP</th>\n",
       "      <th>score</th>\n",
       "      <th>crime</th>\n",
       "      <th>adjusted_score</th>\n",
       "      <th>pop</th>\n",
       "      <th>score/population</th>\n",
       "      <th>log</th>\n",
       "      <th>level2</th>\n",
       "    </tr>\n",
       "  </thead>\n",
       "  <tbody>\n",
       "    <tr>\n",
       "      <th>0</th>\n",
       "      <td>0</td>\n",
       "      <td>90001.0</td>\n",
       "      <td>10576</td>\n",
       "      <td>1942</td>\n",
       "      <td>10576</td>\n",
       "      <td>57942.0</td>\n",
       "      <td>0.182527</td>\n",
       "      <td>-1.700855</td>\n",
       "      <td>3.0</td>\n",
       "    </tr>\n",
       "    <tr>\n",
       "      <th>1</th>\n",
       "      <td>1</td>\n",
       "      <td>90002.0</td>\n",
       "      <td>3392</td>\n",
       "      <td>631</td>\n",
       "      <td>3392</td>\n",
       "      <td>51826.0</td>\n",
       "      <td>0.065450</td>\n",
       "      <td>-2.726472</td>\n",
       "      <td>3.0</td>\n",
       "    </tr>\n",
       "    <tr>\n",
       "      <th>2</th>\n",
       "      <td>2</td>\n",
       "      <td>90003.0</td>\n",
       "      <td>164</td>\n",
       "      <td>36</td>\n",
       "      <td>164</td>\n",
       "      <td>70208.0</td>\n",
       "      <td>0.002336</td>\n",
       "      <td>-6.059351</td>\n",
       "      <td>2.0</td>\n",
       "    </tr>\n",
       "    <tr>\n",
       "      <th>3</th>\n",
       "      <td>3</td>\n",
       "      <td>90004.0</td>\n",
       "      <td>43</td>\n",
       "      <td>9</td>\n",
       "      <td>43</td>\n",
       "      <td>63095.0</td>\n",
       "      <td>0.000682</td>\n",
       "      <td>-7.291197</td>\n",
       "      <td>1.0</td>\n",
       "    </tr>\n",
       "    <tr>\n",
       "      <th>4</th>\n",
       "      <td>4</td>\n",
       "      <td>90005.0</td>\n",
       "      <td>40</td>\n",
       "      <td>11</td>\n",
       "      <td>40</td>\n",
       "      <td>39338.0</td>\n",
       "      <td>0.001017</td>\n",
       "      <td>-6.891067</td>\n",
       "      <td>1.0</td>\n",
       "    </tr>\n",
       "  </tbody>\n",
       "</table>\n",
       "</div>"
      ],
      "text/plain": [
       "   Unnamed: 0      ZIP  score  crime  adjusted_score      pop  \\\n",
       "0           0  90001.0  10576   1942           10576  57942.0   \n",
       "1           1  90002.0   3392    631            3392  51826.0   \n",
       "2           2  90003.0    164     36             164  70208.0   \n",
       "3           3  90004.0     43      9              43  63095.0   \n",
       "4           4  90005.0     40     11              40  39338.0   \n",
       "\n",
       "   score/population       log  level2  \n",
       "0          0.182527 -1.700855     3.0  \n",
       "1          0.065450 -2.726472     3.0  \n",
       "2          0.002336 -6.059351     2.0  \n",
       "3          0.000682 -7.291197     1.0  \n",
       "4          0.001017 -6.891067     1.0  "
      ]
     },
     "execution_count": 3,
     "metadata": {},
     "output_type": "execute_result"
    }
   ],
   "source": [
    "crime3.head()"
   ]
  },
  {
   "cell_type": "code",
   "execution_count": 4,
   "metadata": {},
   "outputs": [
    {
     "data": {
      "text/plain": [
       "array([ 3.,  2.,  1., nan])"
      ]
     },
     "execution_count": 4,
     "metadata": {},
     "output_type": "execute_result"
    }
   ],
   "source": [
    "crime3.level2.unique()"
   ]
  },
  {
   "cell_type": "code",
   "execution_count": 5,
   "metadata": {
    "scrolled": false
   },
   "outputs": [
    {
     "data": {
      "text/html": [
       "<div>\n",
       "<style scoped>\n",
       "    .dataframe tbody tr th:only-of-type {\n",
       "        vertical-align: middle;\n",
       "    }\n",
       "\n",
       "    .dataframe tbody tr th {\n",
       "        vertical-align: top;\n",
       "    }\n",
       "\n",
       "    .dataframe thead th {\n",
       "        text-align: right;\n",
       "    }\n",
       "</style>\n",
       "<table border=\"1\" class=\"dataframe\">\n",
       "  <thead>\n",
       "    <tr style=\"text-align: right;\">\n",
       "      <th></th>\n",
       "      <th>Unnamed: 0</th>\n",
       "      <th>ZIP</th>\n",
       "      <th>score</th>\n",
       "      <th>crime</th>\n",
       "      <th>adjusted_score</th>\n",
       "      <th>pop</th>\n",
       "      <th>score/population</th>\n",
       "      <th>log</th>\n",
       "      <th>level2</th>\n",
       "    </tr>\n",
       "  </thead>\n",
       "  <tbody>\n",
       "    <tr>\n",
       "      <th>71</th>\n",
       "      <td>71</td>\n",
       "      <td>90095.0</td>\n",
       "      <td>0</td>\n",
       "      <td>1</td>\n",
       "      <td>0</td>\n",
       "      <td>0.0</td>\n",
       "      <td>NaN</td>\n",
       "      <td>NaN</td>\n",
       "      <td>NaN</td>\n",
       "    </tr>\n",
       "  </tbody>\n",
       "</table>\n",
       "</div>"
      ],
      "text/plain": [
       "    Unnamed: 0      ZIP  score  crime  adjusted_score  pop  score/population  \\\n",
       "71          71  90095.0      0      1               0  0.0               NaN   \n",
       "\n",
       "    log  level2  \n",
       "71  NaN     NaN  "
      ]
     },
     "execution_count": 5,
     "metadata": {},
     "output_type": "execute_result"
    }
   ],
   "source": [
    "crime3[crime3.level2.isna()]"
   ]
  },
  {
   "cell_type": "code",
   "execution_count": 6,
   "metadata": {},
   "outputs": [],
   "source": [
    "crime = crime3\n",
    "crime = crime[['ZIP','level2']]\n",
    "crime.columns = ['zipcode', 'cat_score']"
   ]
  },
  {
   "cell_type": "code",
   "execution_count": 7,
   "metadata": {
    "scrolled": true
   },
   "outputs": [
    {
     "data": {
      "text/plain": [
       "1.0    119\n",
       "2.0    118\n",
       "3.0    118\n",
       "Name: cat_score, dtype: int64"
      ]
     },
     "execution_count": 7,
     "metadata": {},
     "output_type": "execute_result"
    }
   ],
   "source": [
    "crime['cat_score'].value_counts()"
   ]
  },
  {
   "cell_type": "code",
   "execution_count": 8,
   "metadata": {},
   "outputs": [
    {
     "data": {
      "text/plain": [
       "(356, 2)"
      ]
     },
     "execution_count": 8,
     "metadata": {},
     "output_type": "execute_result"
    }
   ],
   "source": [
    "crime.shape"
   ]
  },
  {
   "cell_type": "code",
   "execution_count": 9,
   "metadata": {
    "scrolled": true
   },
   "outputs": [
    {
     "name": "stdout",
     "output_type": "stream",
     "text": [
      "<class 'pandas.core.frame.DataFrame'>\n",
      "RangeIndex: 356 entries, 0 to 355\n",
      "Data columns (total 2 columns):\n",
      "zipcode      356 non-null float64\n",
      "cat_score    355 non-null float64\n",
      "dtypes: float64(2)\n",
      "memory usage: 5.6 KB\n"
     ]
    }
   ],
   "source": [
    "crime.info()"
   ]
  },
  {
   "cell_type": "code",
   "execution_count": 10,
   "metadata": {},
   "outputs": [
    {
     "data": {
      "text/plain": [
       "array([ 3.,  2.,  1., nan])"
      ]
     },
     "execution_count": 10,
     "metadata": {},
     "output_type": "execute_result"
    }
   ],
   "source": [
    "crime['cat_score'].unique()"
   ]
  },
  {
   "cell_type": "code",
   "execution_count": 11,
   "metadata": {},
   "outputs": [
    {
     "data": {
      "text/plain": [
       "<matplotlib.axes._subplots.AxesSubplot at 0x7fa8ed3e3860>"
      ]
     },
     "execution_count": 11,
     "metadata": {},
     "output_type": "execute_result"
    },
    {
     "data": {
      "image/png": "[encoded data removed]",
      "text/plain": [
       "<Figure size 432x288 with 1 Axes>"
      ]
     },
     "metadata": {
      "needs_background": "light"
     },
     "output_type": "display_data"
    }
   ],
   "source": [
    "crime['cat_score'].hist()"
   ]
  },
  {
   "cell_type": "markdown",
   "metadata": {},
   "source": [
    "### Merge cleaned listings data and safety score based on zipcode"
   ]
  },
  {
   "cell_type": "code",
   "execution_count": 12,
   "metadata": {},
   "outputs": [],
   "source": [
    "listing_zip = pd.read_csv(\"listings_cleaned_zipcode.csv\")\n",
    "#crime = pd.read_csv(\"safety_score_LA.csv\")\n",
    "#crime = pd.read_csv(\"crime_score.csv\")"
   ]
  },
  {
   "cell_type": "code",
   "execution_count": 13,
   "metadata": {
    "scrolled": false
   },
   "outputs": [
    {
     "data": {
      "text/html": [
       "<div>\n",
       "<style scoped>\n",
       "    .dataframe tbody tr th:only-of-type {\n",
       "        vertical-align: middle;\n",
       "    }\n",
       "\n",
       "    .dataframe tbody tr th {\n",
       "        vertical-align: top;\n",
       "    }\n",
       "\n",
       "    .dataframe thead th {\n",
       "        text-align: right;\n",
       "    }\n",
       "</style>\n",
       "<table border=\"1\" class=\"dataframe\">\n",
       "  <thead>\n",
       "    <tr style=\"text-align: right;\">\n",
       "      <th></th>\n",
       "      <th>host_total_listings_count</th>\n",
       "      <th>bathrooms</th>\n",
       "      <th>bedrooms</th>\n",
       "      <th>beds</th>\n",
       "      <th>price</th>\n",
       "      <th>availability_30</th>\n",
       "      <th>availability_60</th>\n",
       "      <th>availability_90</th>\n",
       "      <th>availability_365</th>\n",
       "      <th>reviews_per_month</th>\n",
       "      <th>...</th>\n",
       "      <th>wordperrev</th>\n",
       "      <th>count</th>\n",
       "      <th>good_y</th>\n",
       "      <th>safe_y</th>\n",
       "      <th>peaceful_y</th>\n",
       "      <th>night_y</th>\n",
       "      <th>walk_y</th>\n",
       "      <th>unsafe_y</th>\n",
       "      <th>bad_y</th>\n",
       "      <th>dangerous_y</th>\n",
       "    </tr>\n",
       "    <tr>\n",
       "      <th>zipcode</th>\n",
       "      <th></th>\n",
       "      <th></th>\n",
       "      <th></th>\n",
       "      <th></th>\n",
       "      <th></th>\n",
       "      <th></th>\n",
       "      <th></th>\n",
       "      <th></th>\n",
       "      <th></th>\n",
       "      <th></th>\n",
       "      <th></th>\n",
       "      <th></th>\n",
       "      <th></th>\n",
       "      <th></th>\n",
       "      <th></th>\n",
       "      <th></th>\n",
       "      <th></th>\n",
       "      <th></th>\n",
       "      <th></th>\n",
       "      <th></th>\n",
       "      <th></th>\n",
       "    </tr>\n",
       "  </thead>\n",
       "  <tbody>\n",
       "    <tr>\n",
       "      <th>90001</th>\n",
       "      <td>7.090909</td>\n",
       "      <td>1.045455</td>\n",
       "      <td>1.000000</td>\n",
       "      <td>1.727273</td>\n",
       "      <td>69.181818</td>\n",
       "      <td>14.909091</td>\n",
       "      <td>33.363636</td>\n",
       "      <td>51.000000</td>\n",
       "      <td>213.181818</td>\n",
       "      <td>1.342727</td>\n",
       "      <td>...</td>\n",
       "      <td>31.947962</td>\n",
       "      <td>80.555556</td>\n",
       "      <td>0.000000</td>\n",
       "      <td>0.111111</td>\n",
       "      <td>0.000000</td>\n",
       "      <td>0.000000</td>\n",
       "      <td>0.000000</td>\n",
       "      <td>0.0</td>\n",
       "      <td>0.000000</td>\n",
       "      <td>0.0</td>\n",
       "    </tr>\n",
       "    <tr>\n",
       "      <th>90002</th>\n",
       "      <td>1.444444</td>\n",
       "      <td>1.000000</td>\n",
       "      <td>1.111111</td>\n",
       "      <td>1.444444</td>\n",
       "      <td>75.555556</td>\n",
       "      <td>18.555556</td>\n",
       "      <td>40.777778</td>\n",
       "      <td>64.888889</td>\n",
       "      <td>247.555556</td>\n",
       "      <td>2.413333</td>\n",
       "      <td>...</td>\n",
       "      <td>36.027004</td>\n",
       "      <td>28.400000</td>\n",
       "      <td>0.000000</td>\n",
       "      <td>0.000000</td>\n",
       "      <td>0.000000</td>\n",
       "      <td>0.000000</td>\n",
       "      <td>0.000000</td>\n",
       "      <td>0.0</td>\n",
       "      <td>0.000000</td>\n",
       "      <td>0.0</td>\n",
       "    </tr>\n",
       "    <tr>\n",
       "      <th>90003</th>\n",
       "      <td>2.391304</td>\n",
       "      <td>1.217391</td>\n",
       "      <td>1.130435</td>\n",
       "      <td>1.695652</td>\n",
       "      <td>67.652174</td>\n",
       "      <td>14.652174</td>\n",
       "      <td>32.260870</td>\n",
       "      <td>51.695652</td>\n",
       "      <td>171.347826</td>\n",
       "      <td>2.061739</td>\n",
       "      <td>...</td>\n",
       "      <td>32.300323</td>\n",
       "      <td>58.266667</td>\n",
       "      <td>0.066667</td>\n",
       "      <td>0.133333</td>\n",
       "      <td>0.000000</td>\n",
       "      <td>0.000000</td>\n",
       "      <td>0.666667</td>\n",
       "      <td>0.0</td>\n",
       "      <td>0.066667</td>\n",
       "      <td>0.0</td>\n",
       "    </tr>\n",
       "    <tr>\n",
       "      <th>90004</th>\n",
       "      <td>5.148077</td>\n",
       "      <td>1.391346</td>\n",
       "      <td>1.205769</td>\n",
       "      <td>1.923077</td>\n",
       "      <td>153.842308</td>\n",
       "      <td>12.180769</td>\n",
       "      <td>27.986538</td>\n",
       "      <td>45.863462</td>\n",
       "      <td>147.350000</td>\n",
       "      <td>1.455731</td>\n",
       "      <td>...</td>\n",
       "      <td>40.439221</td>\n",
       "      <td>54.334311</td>\n",
       "      <td>0.026393</td>\n",
       "      <td>0.123167</td>\n",
       "      <td>0.002933</td>\n",
       "      <td>0.082111</td>\n",
       "      <td>0.246334</td>\n",
       "      <td>0.0</td>\n",
       "      <td>0.000000</td>\n",
       "      <td>0.0</td>\n",
       "    </tr>\n",
       "    <tr>\n",
       "      <th>90005</th>\n",
       "      <td>10.917143</td>\n",
       "      <td>1.254286</td>\n",
       "      <td>0.971429</td>\n",
       "      <td>1.662857</td>\n",
       "      <td>87.171429</td>\n",
       "      <td>14.545714</td>\n",
       "      <td>33.634286</td>\n",
       "      <td>53.357143</td>\n",
       "      <td>172.000000</td>\n",
       "      <td>2.106829</td>\n",
       "      <td>...</td>\n",
       "      <td>35.063114</td>\n",
       "      <td>54.121212</td>\n",
       "      <td>0.070707</td>\n",
       "      <td>0.101010</td>\n",
       "      <td>0.025253</td>\n",
       "      <td>0.136364</td>\n",
       "      <td>0.176768</td>\n",
       "      <td>0.0</td>\n",
       "      <td>0.015152</td>\n",
       "      <td>0.0</td>\n",
       "    </tr>\n",
       "  </tbody>\n",
       "</table>\n",
       "<p>5 rows × 63 columns</p>\n",
       "</div>"
      ],
      "text/plain": [
       "         host_total_listings_count  bathrooms  bedrooms      beds       price  \\\n",
       "zipcode                                                                         \n",
       "90001                     7.090909   1.045455  1.000000  1.727273   69.181818   \n",
       "90002                     1.444444   1.000000  1.111111  1.444444   75.555556   \n",
       "90003                     2.391304   1.217391  1.130435  1.695652   67.652174   \n",
       "90004                     5.148077   1.391346  1.205769  1.923077  153.842308   \n",
       "90005                    10.917143   1.254286  0.971429  1.662857   87.171429   \n",
       "\n",
       "         availability_30  availability_60  availability_90  availability_365  \\\n",
       "zipcode                                                                        \n",
       "90001          14.909091        33.363636        51.000000        213.181818   \n",
       "90002          18.555556        40.777778        64.888889        247.555556   \n",
       "90003          14.652174        32.260870        51.695652        171.347826   \n",
       "90004          12.180769        27.986538        45.863462        147.350000   \n",
       "90005          14.545714        33.634286        53.357143        172.000000   \n",
       "\n",
       "         reviews_per_month     ...       wordperrev      count    good_y  \\\n",
       "zipcode                        ...                                         \n",
       "90001             1.342727     ...        31.947962  80.555556  0.000000   \n",
       "90002             2.413333     ...        36.027004  28.400000  0.000000   \n",
       "90003             2.061739     ...        32.300323  58.266667  0.066667   \n",
       "90004             1.455731     ...        40.439221  54.334311  0.026393   \n",
       "90005             2.106829     ...        35.063114  54.121212  0.070707   \n",
       "\n",
       "           safe_y  peaceful_y   night_y    walk_y  unsafe_y     bad_y  \\\n",
       "zipcode                                                                 \n",
       "90001    0.111111    0.000000  0.000000  0.000000       0.0  0.000000   \n",
       "90002    0.000000    0.000000  0.000000  0.000000       0.0  0.000000   \n",
       "90003    0.133333    0.000000  0.000000  0.666667       0.0  0.066667   \n",
       "90004    0.123167    0.002933  0.082111  0.246334       0.0  0.000000   \n",
       "90005    0.101010    0.025253  0.136364  0.176768       0.0  0.015152   \n",
       "\n",
       "         dangerous_y  \n",
       "zipcode               \n",
       "90001            0.0  \n",
       "90002            0.0  \n",
       "90003            0.0  \n",
       "90004            0.0  \n",
       "90005            0.0  \n",
       "\n",
       "[5 rows x 63 columns]"
      ]
     },
     "execution_count": 13,
     "metadata": {},
     "output_type": "execute_result"
    }
   ],
   "source": [
    "listing_zip = listing_zip.set_index('zipcode')\n",
    "listing_zip.head()"
   ]
  },
  {
   "cell_type": "code",
   "execution_count": 14,
   "metadata": {},
   "outputs": [
    {
     "data": {
      "text/html": [
       "<div>\n",
       "<style scoped>\n",
       "    .dataframe tbody tr th:only-of-type {\n",
       "        vertical-align: middle;\n",
       "    }\n",
       "\n",
       "    .dataframe tbody tr th {\n",
       "        vertical-align: top;\n",
       "    }\n",
       "\n",
       "    .dataframe thead th {\n",
       "        text-align: right;\n",
       "    }\n",
       "</style>\n",
       "<table border=\"1\" class=\"dataframe\">\n",
       "  <thead>\n",
       "    <tr style=\"text-align: right;\">\n",
       "      <th></th>\n",
       "      <th>zipcode</th>\n",
       "      <th>cat_score</th>\n",
       "    </tr>\n",
       "  </thead>\n",
       "  <tbody>\n",
       "    <tr>\n",
       "      <th>0</th>\n",
       "      <td>90001.0</td>\n",
       "      <td>3.0</td>\n",
       "    </tr>\n",
       "    <tr>\n",
       "      <th>1</th>\n",
       "      <td>90002.0</td>\n",
       "      <td>3.0</td>\n",
       "    </tr>\n",
       "    <tr>\n",
       "      <th>2</th>\n",
       "      <td>90003.0</td>\n",
       "      <td>2.0</td>\n",
       "    </tr>\n",
       "    <tr>\n",
       "      <th>3</th>\n",
       "      <td>90004.0</td>\n",
       "      <td>1.0</td>\n",
       "    </tr>\n",
       "    <tr>\n",
       "      <th>4</th>\n",
       "      <td>90005.0</td>\n",
       "      <td>1.0</td>\n",
       "    </tr>\n",
       "  </tbody>\n",
       "</table>\n",
       "</div>"
      ],
      "text/plain": [
       "   zipcode  cat_score\n",
       "0  90001.0        3.0\n",
       "1  90002.0        3.0\n",
       "2  90003.0        2.0\n",
       "3  90004.0        1.0\n",
       "4  90005.0        1.0"
      ]
     },
     "execution_count": 14,
     "metadata": {},
     "output_type": "execute_result"
    }
   ],
   "source": [
    "crime.head()"
   ]
  },
  {
   "cell_type": "code",
   "execution_count": 15,
   "metadata": {},
   "outputs": [],
   "source": [
    "crime = crime.set_index('zipcode')\n",
    "cla_data = listing_zip.join(crime, how ='inner')"
   ]
  },
  {
   "cell_type": "code",
   "execution_count": 16,
   "metadata": {
    "scrolled": true
   },
   "outputs": [
    {
     "data": {
      "text/html": [
       "<div>\n",
       "<style scoped>\n",
       "    .dataframe tbody tr th:only-of-type {\n",
       "        vertical-align: middle;\n",
       "    }\n",
       "\n",
       "    .dataframe tbody tr th {\n",
       "        vertical-align: top;\n",
       "    }\n",
       "\n",
       "    .dataframe thead th {\n",
       "        text-align: right;\n",
       "    }\n",
       "</style>\n",
       "<table border=\"1\" class=\"dataframe\">\n",
       "  <thead>\n",
       "    <tr style=\"text-align: right;\">\n",
       "      <th></th>\n",
       "      <th>host_total_listings_count</th>\n",
       "      <th>bathrooms</th>\n",
       "      <th>bedrooms</th>\n",
       "      <th>beds</th>\n",
       "      <th>price</th>\n",
       "      <th>availability_30</th>\n",
       "      <th>availability_60</th>\n",
       "      <th>availability_90</th>\n",
       "      <th>availability_365</th>\n",
       "      <th>reviews_per_month</th>\n",
       "      <th>...</th>\n",
       "      <th>count</th>\n",
       "      <th>good_y</th>\n",
       "      <th>safe_y</th>\n",
       "      <th>peaceful_y</th>\n",
       "      <th>night_y</th>\n",
       "      <th>walk_y</th>\n",
       "      <th>unsafe_y</th>\n",
       "      <th>bad_y</th>\n",
       "      <th>dangerous_y</th>\n",
       "      <th>cat_score</th>\n",
       "    </tr>\n",
       "    <tr>\n",
       "      <th>zipcode</th>\n",
       "      <th></th>\n",
       "      <th></th>\n",
       "      <th></th>\n",
       "      <th></th>\n",
       "      <th></th>\n",
       "      <th></th>\n",
       "      <th></th>\n",
       "      <th></th>\n",
       "      <th></th>\n",
       "      <th></th>\n",
       "      <th></th>\n",
       "      <th></th>\n",
       "      <th></th>\n",
       "      <th></th>\n",
       "      <th></th>\n",
       "      <th></th>\n",
       "      <th></th>\n",
       "      <th></th>\n",
       "      <th></th>\n",
       "      <th></th>\n",
       "      <th></th>\n",
       "    </tr>\n",
       "  </thead>\n",
       "  <tbody>\n",
       "    <tr>\n",
       "      <th>90001.0</th>\n",
       "      <td>7.090909</td>\n",
       "      <td>1.045455</td>\n",
       "      <td>1.000000</td>\n",
       "      <td>1.727273</td>\n",
       "      <td>69.181818</td>\n",
       "      <td>14.909091</td>\n",
       "      <td>33.363636</td>\n",
       "      <td>51.000000</td>\n",
       "      <td>213.181818</td>\n",
       "      <td>1.342727</td>\n",
       "      <td>...</td>\n",
       "      <td>80.555556</td>\n",
       "      <td>0.000000</td>\n",
       "      <td>0.111111</td>\n",
       "      <td>0.000000</td>\n",
       "      <td>0.000000</td>\n",
       "      <td>0.000000</td>\n",
       "      <td>0.0</td>\n",
       "      <td>0.000000</td>\n",
       "      <td>0.0</td>\n",
       "      <td>3.0</td>\n",
       "    </tr>\n",
       "    <tr>\n",
       "      <th>90002.0</th>\n",
       "      <td>1.444444</td>\n",
       "      <td>1.000000</td>\n",
       "      <td>1.111111</td>\n",
       "      <td>1.444444</td>\n",
       "      <td>75.555556</td>\n",
       "      <td>18.555556</td>\n",
       "      <td>40.777778</td>\n",
       "      <td>64.888889</td>\n",
       "      <td>247.555556</td>\n",
       "      <td>2.413333</td>\n",
       "      <td>...</td>\n",
       "      <td>28.400000</td>\n",
       "      <td>0.000000</td>\n",
       "      <td>0.000000</td>\n",
       "      <td>0.000000</td>\n",
       "      <td>0.000000</td>\n",
       "      <td>0.000000</td>\n",
       "      <td>0.0</td>\n",
       "      <td>0.000000</td>\n",
       "      <td>0.0</td>\n",
       "      <td>3.0</td>\n",
       "    </tr>\n",
       "    <tr>\n",
       "      <th>90003.0</th>\n",
       "      <td>2.391304</td>\n",
       "      <td>1.217391</td>\n",
       "      <td>1.130435</td>\n",
       "      <td>1.695652</td>\n",
       "      <td>67.652174</td>\n",
       "      <td>14.652174</td>\n",
       "      <td>32.260870</td>\n",
       "      <td>51.695652</td>\n",
       "      <td>171.347826</td>\n",
       "      <td>2.061739</td>\n",
       "      <td>...</td>\n",
       "      <td>58.266667</td>\n",
       "      <td>0.066667</td>\n",
       "      <td>0.133333</td>\n",
       "      <td>0.000000</td>\n",
       "      <td>0.000000</td>\n",
       "      <td>0.666667</td>\n",
       "      <td>0.0</td>\n",
       "      <td>0.066667</td>\n",
       "      <td>0.0</td>\n",
       "      <td>2.0</td>\n",
       "    </tr>\n",
       "    <tr>\n",
       "      <th>90004.0</th>\n",
       "      <td>5.148077</td>\n",
       "      <td>1.391346</td>\n",
       "      <td>1.205769</td>\n",
       "      <td>1.923077</td>\n",
       "      <td>153.842308</td>\n",
       "      <td>12.180769</td>\n",
       "      <td>27.986538</td>\n",
       "      <td>45.863462</td>\n",
       "      <td>147.350000</td>\n",
       "      <td>1.455731</td>\n",
       "      <td>...</td>\n",
       "      <td>54.334311</td>\n",
       "      <td>0.026393</td>\n",
       "      <td>0.123167</td>\n",
       "      <td>0.002933</td>\n",
       "      <td>0.082111</td>\n",
       "      <td>0.246334</td>\n",
       "      <td>0.0</td>\n",
       "      <td>0.000000</td>\n",
       "      <td>0.0</td>\n",
       "      <td>1.0</td>\n",
       "    </tr>\n",
       "    <tr>\n",
       "      <th>90005.0</th>\n",
       "      <td>10.917143</td>\n",
       "      <td>1.254286</td>\n",
       "      <td>0.971429</td>\n",
       "      <td>1.662857</td>\n",
       "      <td>87.171429</td>\n",
       "      <td>14.545714</td>\n",
       "      <td>33.634286</td>\n",
       "      <td>53.357143</td>\n",
       "      <td>172.000000</td>\n",
       "      <td>2.106829</td>\n",
       "      <td>...</td>\n",
       "      <td>54.121212</td>\n",
       "      <td>0.070707</td>\n",
       "      <td>0.101010</td>\n",
       "      <td>0.025253</td>\n",
       "      <td>0.136364</td>\n",
       "      <td>0.176768</td>\n",
       "      <td>0.0</td>\n",
       "      <td>0.015152</td>\n",
       "      <td>0.0</td>\n",
       "      <td>1.0</td>\n",
       "    </tr>\n",
       "  </tbody>\n",
       "</table>\n",
       "<p>5 rows × 64 columns</p>\n",
       "</div>"
      ],
      "text/plain": [
       "         host_total_listings_count  bathrooms  bedrooms      beds       price  \\\n",
       "zipcode                                                                         \n",
       "90001.0                   7.090909   1.045455  1.000000  1.727273   69.181818   \n",
       "90002.0                   1.444444   1.000000  1.111111  1.444444   75.555556   \n",
       "90003.0                   2.391304   1.217391  1.130435  1.695652   67.652174   \n",
       "90004.0                   5.148077   1.391346  1.205769  1.923077  153.842308   \n",
       "90005.0                  10.917143   1.254286  0.971429  1.662857   87.171429   \n",
       "\n",
       "         availability_30  availability_60  availability_90  availability_365  \\\n",
       "zipcode                                                                        \n",
       "90001.0        14.909091        33.363636        51.000000        213.181818   \n",
       "90002.0        18.555556        40.777778        64.888889        247.555556   \n",
       "90003.0        14.652174        32.260870        51.695652        171.347826   \n",
       "90004.0        12.180769        27.986538        45.863462        147.350000   \n",
       "90005.0        14.545714        33.634286        53.357143        172.000000   \n",
       "\n",
       "         reviews_per_month    ...          count    good_y    safe_y  \\\n",
       "zipcode                       ...                                      \n",
       "90001.0           1.342727    ...      80.555556  0.000000  0.111111   \n",
       "90002.0           2.413333    ...      28.400000  0.000000  0.000000   \n",
       "90003.0           2.061739    ...      58.266667  0.066667  0.133333   \n",
       "90004.0           1.455731    ...      54.334311  0.026393  0.123167   \n",
       "90005.0           2.106829    ...      54.121212  0.070707  0.101010   \n",
       "\n",
       "         peaceful_y   night_y    walk_y  unsafe_y     bad_y  dangerous_y  \\\n",
       "zipcode                                                                    \n",
       "90001.0    0.000000  0.000000  0.000000       0.0  0.000000          0.0   \n",
       "90002.0    0.000000  0.000000  0.000000       0.0  0.000000          0.0   \n",
       "90003.0    0.000000  0.000000  0.666667       0.0  0.066667          0.0   \n",
       "90004.0    0.002933  0.082111  0.246334       0.0  0.000000          0.0   \n",
       "90005.0    0.025253  0.136364  0.176768       0.0  0.015152          0.0   \n",
       "\n",
       "         cat_score  \n",
       "zipcode             \n",
       "90001.0        3.0  \n",
       "90002.0        3.0  \n",
       "90003.0        2.0  \n",
       "90004.0        1.0  \n",
       "90005.0        1.0  \n",
       "\n",
       "[5 rows x 64 columns]"
      ]
     },
     "execution_count": 16,
     "metadata": {},
     "output_type": "execute_result"
    }
   ],
   "source": [
    "cla_data.head()"
   ]
  },
  {
   "cell_type": "code",
   "execution_count": 17,
   "metadata": {
    "scrolled": false
   },
   "outputs": [
    {
     "data": {
      "text/plain": [
       "good         6\n",
       "safe         6\n",
       "peaceful     6\n",
       "night        6\n",
       "walk         6\n",
       "unsafe       6\n",
       "bad          6\n",
       "dangerous    6\n",
       "dtype: int64"
      ]
     },
     "execution_count": 17,
     "metadata": {},
     "output_type": "execute_result"
    }
   ],
   "source": [
    "cla_data.isnull().sum()[cla_data.isnull().sum() != 0]"
   ]
  },
  {
   "cell_type": "code",
   "execution_count": 18,
   "metadata": {},
   "outputs": [],
   "source": [
    "cla_data = cla_data[cla_data['good'].isnull() == False]"
   ]
  },
  {
   "cell_type": "code",
   "execution_count": 19,
   "metadata": {},
   "outputs": [
    {
     "data": {
      "text/plain": [
       "(262, 64)"
      ]
     },
     "execution_count": 19,
     "metadata": {},
     "output_type": "execute_result"
    }
   ],
   "source": [
    "cla_data.shape"
   ]
  },
  {
   "cell_type": "code",
   "execution_count": 20,
   "metadata": {},
   "outputs": [],
   "source": [
    "corr_data = cla_data.loc[:, cla_data.columns != 'cat_score']"
   ]
  },
  {
   "cell_type": "code",
   "execution_count": 21,
   "metadata": {
    "scrolled": true
   },
   "outputs": [
    {
     "data": {
      "image/png": "[encoded data removed]",
      "text/plain": [
       "<Figure size 1440x720 with 2 Axes>"
      ]
     },
     "metadata": {
      "needs_background": "light"
     },
     "output_type": "display_data"
    }
   ],
   "source": [
    "corr = corr_data.corr()\n",
    "fig = plt.figure(figsize=(20,10))\n",
    "ax = fig.add_subplot(111)\n",
    "cax = ax.matshow(corr,cmap='coolwarm', vmin=-1, vmax=1)\n",
    "fig.colorbar(cax)\n",
    "ticks = np.arange(0,len(corr_data.columns),1)\n",
    "ax.set_xticks(ticks)\n",
    "plt.xticks(rotation=90)\n",
    "ax.set_yticks(ticks)\n",
    "ax.set_xticklabels(corr_data.columns)\n",
    "ax.set_yticklabels(corr_data.columns)\n",
    "plt.show()"
   ]
  },
  {
   "cell_type": "code",
   "execution_count": 22,
   "metadata": {},
   "outputs": [
    {
     "data": {
      "image/png": "[encoded data removed]",
      "text/plain": [
       "<Figure size 1440x720 with 2 Axes>"
      ]
     },
     "metadata": {
      "needs_background": "light"
     },
     "output_type": "display_data"
    }
   ],
   "source": [
    "nlp_rev = ['good','safe','night','walk','unsafe','bad','dangerous']\n",
    "corr_data = corr_data[nlp_rev]\n",
    "corr = corr_data.corr()\n",
    "fig = plt.figure(figsize=(20,10))\n",
    "ax = fig.add_subplot(111)\n",
    "cax = ax.matshow(corr,cmap='coolwarm', vmin=-1, vmax=1)\n",
    "fig.colorbar(cax)\n",
    "ticks = np.arange(0,len(corr_data.columns),1)\n",
    "ax.set_xticks(ticks)\n",
    "plt.xticks(rotation=90)\n",
    "ax.set_yticks(ticks)\n",
    "ax.set_xticklabels(corr_data.columns)\n",
    "ax.set_yticklabels(corr_data.columns)\n",
    "plt.show()"
   ]
  },
  {
   "cell_type": "code",
   "execution_count": 23,
   "metadata": {},
   "outputs": [],
   "source": [
    "cla_data.drop('bad', axis=1, inplace=True)\n",
    "cla_data.drop('dangerous', axis=1, inplace=True)"
   ]
  },
  {
   "cell_type": "code",
   "execution_count": 24,
   "metadata": {},
   "outputs": [],
   "source": [
    "cla_data.drop('safe', axis=1, inplace=True)"
   ]
  },
  {
   "cell_type": "code",
   "execution_count": 25,
   "metadata": {},
   "outputs": [],
   "source": [
    "cla_data.drop('availability_30', axis=1, inplace=True)\n",
    "cla_data.drop('availability_60', axis=1, inplace=True)\n",
    "cla_data.drop('availability_365', axis=1, inplace=True)"
   ]
  },
  {
   "cell_type": "code",
   "execution_count": 26,
   "metadata": {},
   "outputs": [],
   "source": [
    "cla_data.drop('bathrooms', axis=1, inplace=True)\n",
    "cla_data.drop('bedrooms', axis=1, inplace=True)"
   ]
  },
  {
   "cell_type": "code",
   "execution_count": 27,
   "metadata": {},
   "outputs": [
    {
     "data": {
      "text/plain": [
       "(262, 56)"
      ]
     },
     "execution_count": 27,
     "metadata": {},
     "output_type": "execute_result"
    }
   ],
   "source": [
    "cla_data.shape"
   ]
  },
  {
   "cell_type": "markdown",
   "metadata": {},
   "source": [
    "### Classfication"
   ]
  },
  {
   "cell_type": "code",
   "execution_count": 28,
   "metadata": {},
   "outputs": [],
   "source": [
    "cla_data['cat_score'] = cla_data['cat_score'].astype(str)"
   ]
  },
  {
   "cell_type": "code",
   "execution_count": 29,
   "metadata": {},
   "outputs": [],
   "source": [
    "def acc(Y_true, Y_pred):\n",
    "    acc = round(sum(Y_pred == Y_true)/len(Y_true),2)\n",
    "    return acc"
   ]
  },
  {
   "cell_type": "code",
   "execution_count": 30,
   "metadata": {},
   "outputs": [
    {
     "name": "stderr",
     "output_type": "stream",
     "text": [
      "/home/ubuntu/anaconda3/lib/python3.7/site-packages/sklearn/ensemble/weight_boosting.py:29: DeprecationWarning: numpy.core.umath_tests is an internal NumPy module and should not be imported. It will be removed in a future NumPy release.\n",
      "  from numpy.core.umath_tests import inner1d\n"
     ]
    }
   ],
   "source": [
    "# machine learning\n",
    "from sklearn.linear_model import LogisticRegression\n",
    "from sklearn.svm import SVC, LinearSVC, SVR\n",
    "from sklearn.ensemble import RandomForestClassifier, RandomForestRegressor\n",
    "import os\n",
    "os.environ['KMP_DUPLICATE_LIB_OK']='True'\n",
    "from sklearn.ensemble import AdaBoostClassifier, AdaBoostRegressor\n",
    "from sklearn.naive_bayes import GaussianNB\n",
    "from sklearn.neighbors import KNeighborsClassifier, KNeighborsRegressor\n",
    "from sklearn.naive_bayes import GaussianNB # Gaussian Naive Bays\n",
    "from sklearn.linear_model import Perceptron\n",
    "from sklearn.linear_model import SGDClassifier #stochastic gradient descent\n",
    "from sklearn.tree import DecisionTreeClassifier\n",
    "\n",
    "import xgboost as xgb"
   ]
  },
  {
   "cell_type": "code",
   "execution_count": 31,
   "metadata": {},
   "outputs": [],
   "source": [
    "from sklearn.model_selection import RepeatedKFold\n",
    "from sklearn.model_selection import train_test_split\n",
    "from sklearn import linear_model"
   ]
  },
  {
   "cell_type": "markdown",
   "metadata": {},
   "source": [
    "#### Train, Test Data Split"
   ]
  },
  {
   "cell_type": "code",
   "execution_count": 33,
   "metadata": {},
   "outputs": [],
   "source": [
    "Y = cla_data.reset_index(drop=True).iloc[::,-1]\n",
    "X = cla_data.reset_index(drop=True).iloc[::,0:cla_data.shape[1]-1]\n",
    "\n",
    "# X_tmp = X.copy()\n",
    "# drop_l = ['Guesthouse0', 'Guesthouse1', 'Condominium0', 'Condominium1',\n",
    "#        'Bungalow0', 'Bungalow1', 'Other0', 'Other1',\n",
    "#        'Apartment0', 'Apartment1', 'Guest suite0', 'Guest suite1', 'House0',\n",
    "#        'House1', 'Townhouse0', 'Townhouse1', 'Loft0', 'Loft1']\n",
    "# for i in drop_l:\n",
    "#     X_tmp.drop(i,axis=1, inplace=True)\n"
   ]
  },
  {
   "cell_type": "code",
   "execution_count": 34,
   "metadata": {},
   "outputs": [
    {
     "name": "stdout",
     "output_type": "stream",
     "text": [
      "(209, 55) (209,)\n",
      "(53, 55) (53,)\n"
     ]
    }
   ],
   "source": [
    "X_train, X_test, Y_train, Y_test = train_test_split(X, Y, test_size=0.2, random_state = 66)\n",
    "\n",
    "X_train = X_train.reset_index(drop=True)\n",
    "X_test = X_test.reset_index(drop=True)\n",
    "Y_train = Y_train.reset_index(drop=True)\n",
    "Y_test = Y_test.reset_index(drop=True)\n",
    "\n",
    "print(X_train.shape, Y_train.shape)\n",
    "print(X_test.shape, Y_test.shape)"
   ]
  },
  {
   "cell_type": "code",
   "execution_count": 73,
   "metadata": {},
   "outputs": [],
   "source": [
    "Y_tmp = cla_data.reset_index(drop=False).iloc[::,-1]\n",
    "X_tmp = cla_data.reset_index(drop=False).iloc[::,0:cla_data.shape[1]-1]\n",
    "\n",
    "X_train_t, X_test_t, Y_train_t, Y_test_t = train_test_split(X_tmp, Y_tmp, test_size=0.2, random_state = 66)\n",
    "train_zip = X_train_t['zipcode']\n",
    "test_zip = X_test_t['zipcode']"
   ]
  },
  {
   "cell_type": "code",
   "execution_count": 35,
   "metadata": {},
   "outputs": [],
   "source": [
    "## PCA\n",
    "# from sklearn.decomposition import PCA\n",
    "# pca = PCA(0.95)\n",
    "# pca.fit(X_train)\n",
    "# X_train = pca.transform(X_train)\n",
    "# X_test = pca.transform(X_test)"
   ]
  },
  {
   "cell_type": "code",
   "execution_count": 36,
   "metadata": {},
   "outputs": [
    {
     "data": {
      "text/plain": [
       "<matplotlib.axes._subplots.AxesSubplot at 0x7fa8e17353c8>"
      ]
     },
     "execution_count": 36,
     "metadata": {},
     "output_type": "execute_result"
    },
    {
     "data": {
      "image/png": "[encoded data removed]",
      "text/plain": [
       "<Figure size 432x288 with 1 Axes>"
      ]
     },
     "metadata": {
      "needs_background": "light"
     },
     "output_type": "display_data"
    }
   ],
   "source": [
    "## random forest feature selection\n",
    "rf_select = RandomForestClassifier(n_estimators = 100, max_features = 10, bootstrap = True, random_state = 45)\n",
    "rf_select.fit(X_train, Y_train)\n",
    "\n",
    "feat_importances = pd.Series(rf_select.feature_importances_, index=X_train.columns)\n",
    "feat_20 = [feat_importances.index[i] for i in range(feat_importances.shape[0]) if feat_importances[i] > 0.02]\n",
    "feat_importances.nlargest(20).sort_values(ascending=True).plot(kind='barh',color='cornflowerblue')"
   ]
  },
  {
   "cell_type": "code",
   "execution_count": 37,
   "metadata": {},
   "outputs": [],
   "source": [
    "from sklearn.feature_selection import SelectFromModel\n",
    "\n",
    "slc = SelectFromModel(rf_select, threshold=0.02)\n",
    "slc.fit(X_train, Y_train)\n",
    "X_select_train = slc.transform(X_train)\n",
    "X_select_test = slc.transform(X_test)"
   ]
  },
  {
   "cell_type": "code",
   "execution_count": 38,
   "metadata": {},
   "outputs": [],
   "source": [
    "X_train = pd.DataFrame(X_select_train, columns=feat_20)\n",
    "X_test = pd.DataFrame(X_select_test, columns=feat_20)"
   ]
  },
  {
   "cell_type": "markdown",
   "metadata": {},
   "source": [
    "#### Tuning Parameters"
   ]
  },
  {
   "cell_type": "code",
   "execution_count": 39,
   "metadata": {},
   "outputs": [],
   "source": [
    "from sklearn import svm\n",
    "from sklearn.model_selection import GridSearchCV\n",
    "\n",
    "## SVC\n",
    "def svc_param_selection(X, y, nfolds):\n",
    "    ks = ['rbf'] \n",
    "    Cs = [0.01, 0.1, 1, 10, 20, 50, 100]\n",
    "    gammas = [0.0001, 0.001, 0.01, 0.1]\n",
    "    param_grid = {'kernel': ks, 'C': Cs, 'gamma' : gammas}\n",
    "    grid_search = GridSearchCV(svm.SVC(), param_grid, cv=nfolds)\n",
    "    grid_search.fit(X, y)\n",
    "    grid_search.best_params_\n",
    "    return grid_search.best_params_"
   ]
  },
  {
   "cell_type": "code",
   "execution_count": 40,
   "metadata": {},
   "outputs": [
    {
     "data": {
      "text/plain": [
       "{'C': 100, 'gamma': 0.0001, 'kernel': 'rbf'}"
      ]
     },
     "execution_count": 40,
     "metadata": {},
     "output_type": "execute_result"
    }
   ],
   "source": [
    "svc_param_selection(X_train, Y_train, 5)"
   ]
  },
  {
   "cell_type": "code",
   "execution_count": 41,
   "metadata": {},
   "outputs": [],
   "source": [
    "## Random Forest\n",
    "def rf_param_selection(X, y, nfolds):\n",
    "    Ns = [10, 50, 100, 500, 1000]\n",
    "    #Fs = [5, 10, 20, 35]\n",
    "    Fs = [5, 10, 15]\n",
    "    #Ls = [2, 5, 10]\n",
    "    param_grid = {'n_estimators': Ns, 'max_features' : Fs} #'max_leaf_nodes': Ls\n",
    "    grid_search = GridSearchCV(RandomForestClassifier(bootstrap = True, random_state = 45), param_grid, cv=nfolds)\n",
    "    grid_search.fit(X, y)\n",
    "    grid_search.best_params_\n",
    "    return grid_search.best_params_"
   ]
  },
  {
   "cell_type": "code",
   "execution_count": 42,
   "metadata": {},
   "outputs": [
    {
     "data": {
      "text/plain": [
       "{'max_features': 5, 'n_estimators': 500}"
      ]
     },
     "execution_count": 42,
     "metadata": {},
     "output_type": "execute_result"
    }
   ],
   "source": [
    "rf_param_selection(X_train, Y_train, 5)"
   ]
  },
  {
   "cell_type": "code",
   "execution_count": 43,
   "metadata": {},
   "outputs": [],
   "source": [
    "## Adaboost Classification\n",
    "def ada_param_selection(X, y, nfolds):\n",
    "    Ns = [10, 50, 100, 200, 500, 1000]\n",
    "    LRts = [1, 10, 20, 50, 100]\n",
    "    param_grid = {'n_estimators': Ns, 'learning_rate' : LRts}\n",
    "    grid_search = GridSearchCV(AdaBoostClassifier(random_state = 45), param_grid, cv=nfolds)\n",
    "    grid_search.fit(X, y)\n",
    "    grid_search.best_params_\n",
    "    return grid_search.best_params_"
   ]
  },
  {
   "cell_type": "code",
   "execution_count": 44,
   "metadata": {},
   "outputs": [
    {
     "data": {
      "text/plain": [
       "{'learning_rate': 1, 'n_estimators': 50}"
      ]
     },
     "execution_count": 44,
     "metadata": {},
     "output_type": "execute_result"
    }
   ],
   "source": [
    "ada_param_selection(X_train, Y_train, 5)"
   ]
  },
  {
   "cell_type": "code",
   "execution_count": 45,
   "metadata": {},
   "outputs": [],
   "source": [
    "## KNN Classification\n",
    "def knn_param_selection(X, y, nfolds):\n",
    "    Ns = [2, 3, 4, 5, 6, 7, 8, 10]\n",
    "    param_grid = {'n_neighbors': Ns}\n",
    "    grid_search = GridSearchCV(KNeighborsClassifier(), param_grid, cv=nfolds)\n",
    "    grid_search.fit(X, y)\n",
    "    grid_search.best_params_\n",
    "    return grid_search.best_params_"
   ]
  },
  {
   "cell_type": "code",
   "execution_count": 46,
   "metadata": {},
   "outputs": [
    {
     "data": {
      "text/plain": [
       "{'n_neighbors': 3}"
      ]
     },
     "execution_count": 46,
     "metadata": {},
     "output_type": "execute_result"
    }
   ],
   "source": [
    "knn_param_selection(X_train, Y_train, 5)"
   ]
  },
  {
   "cell_type": "code",
   "execution_count": 47,
   "metadata": {},
   "outputs": [],
   "source": [
    "## Decision Tree\n",
    "def dt_param_selection(X, y, nfolds):\n",
    "    #Fs = [5, 10, 20, 35]\n",
    "    Fs = [5, 10, 15]\n",
    "    param_grid = {'max_features': Fs}\n",
    "    grid_search = GridSearchCV(DecisionTreeClassifier(random_state=45), param_grid, cv=nfolds)\n",
    "    grid_search.fit(X, y)\n",
    "    grid_search.best_params_\n",
    "    return grid_search.best_params_"
   ]
  },
  {
   "cell_type": "code",
   "execution_count": 48,
   "metadata": {},
   "outputs": [
    {
     "data": {
      "text/plain": [
       "{'max_features': 15}"
      ]
     },
     "execution_count": 48,
     "metadata": {},
     "output_type": "execute_result"
    }
   ],
   "source": [
    "dt_param_selection(X_train, Y_train, 5)"
   ]
  },
  {
   "cell_type": "markdown",
   "metadata": {},
   "source": [
    "#### Modeling"
   ]
  },
  {
   "cell_type": "code",
   "execution_count": 49,
   "metadata": {},
   "outputs": [],
   "source": [
    "##Model List\n",
    "log = LogisticRegression(penalty = 'l1', multi_class='multinomial', solver = 'saga') ##Logistic Regression\n",
    "gnb = GaussianNB() ##Gaussian Naive Bayes\n",
    "svc = SVC(kernel = 'rbf', C = 100, gamma = 0.0001) ##SVC\n",
    "rf_class = RandomForestClassifier(n_estimators = 500, max_features = 5, bootstrap = True, random_state = 45) ##Random Forest\n",
    "adaboost_class = AdaBoostClassifier(n_estimators = 50, learning_rate = 1, random_state = 45) ##AdaBoost\n",
    "knn_class = KNeighborsClassifier(n_neighbors = 3) ##knn\n",
    "dt = DecisionTreeClassifier(max_features = 15, random_state=45)"
   ]
  },
  {
   "cell_type": "code",
   "execution_count": 50,
   "metadata": {},
   "outputs": [],
   "source": [
    "def class_train(model,X_train,Y_train,X_val,Y_val):\n",
    "    model.fit(X_train,Y_train)\n",
    "    Y_pred_tr = model.predict(X_train)\n",
    "    Y_pred_val = model.predict(X_val)\n",
    "    return(acc(Y_train, Y_pred_tr), acc(Y_val,Y_pred_val))"
   ]
  },
  {
   "cell_type": "markdown",
   "metadata": {},
   "source": [
    "#### Cross Validation"
   ]
  },
  {
   "cell_type": "code",
   "execution_count": 51,
   "metadata": {},
   "outputs": [],
   "source": [
    "kf = RepeatedKFold(n_splits=5, n_repeats=5, random_state=45)\n",
    "\n",
    "log_train_acc, rf_train_acc, ada_train_acc, gnb_train_acc, svc_train_acc, linsvc_train_acc, knn_train_acc, xgb_train_acc, per_train_acc, sgd_train_acc, dt_train_acc = ([] for i in range(11))\n",
    "log_val_acc, rf_val_acc, ada_val_acc, gnb_val_acc, svc_val_acc, linsvc_val_acc, knn_val_acc, xgb_val_acc, per_val_acc, sgd_val_acc, dt_val_acc = ([] for i in range(11))\n",
    "\n",
    "#X_train_t = pd.DataFrame(X_train, columns = list(\"ab\"))\n",
    "\n",
    "for train_index, test_index in kf.split(X_train):\n",
    "    X_train_k, X_val = X_train.iloc[train_index,], X_train.iloc[test_index]\n",
    "    Y_train_k, Y_val = Y_train.iloc[train_index], Y_train.iloc[test_index]\n",
    "    \n",
    "    log_train_acc.append(class_train(log,X_train_k,Y_train_k,X_val,Y_val)[0])\n",
    "    gnb_train_acc.append(class_train(gnb,X_train_k,Y_train_k,X_val,Y_val)[0])\n",
    "    svc_train_acc.append(class_train(svc,X_train_k,Y_train_k,X_val,Y_val)[0])\n",
    "    rf_train_acc.append(class_train(rf_class,X_train_k,Y_train_k,X_val,Y_val)[0])\n",
    "    ada_train_acc.append(class_train(adaboost_class,X_train_k,Y_train_k,X_val,Y_val)[0])\n",
    "    knn_train_acc.append(class_train(knn_class,X_train_k,Y_train_k,X_val,Y_val)[0])\n",
    "    dt_train_acc.append(class_train(dt,X_train_k,Y_train_k,X_val,Y_val)[0])\n",
    "    \n",
    "    log_val_acc.append(class_train(log,X_train_k,Y_train_k,X_val,Y_val)[1])\n",
    "    gnb_val_acc.append(class_train(gnb,X_train_k,Y_train_k,X_val,Y_val)[1])\n",
    "    svc_val_acc.append(class_train(svc,X_train_k,Y_train_k,X_val,Y_val)[1])\n",
    "    rf_val_acc.append(class_train(rf_class,X_train_k,Y_train_k,X_val,Y_val)[1])\n",
    "    ada_val_acc.append(class_train(adaboost_class,X_train_k,Y_train_k,X_val,Y_val)[1])\n",
    "    knn_val_acc.append(class_train(knn_class,X_train_k,Y_train_k,X_val,Y_val)[1])\n",
    "    dt_val_acc.append(class_train(dt,X_train_k,Y_train_k,X_val,Y_val)[1])"
   ]
  },
  {
   "cell_type": "code",
   "execution_count": 52,
   "metadata": {},
   "outputs": [],
   "source": [
    "#Logistic, NB, SVM, KNN, Random Forest"
   ]
  },
  {
   "cell_type": "code",
   "execution_count": 53,
   "metadata": {},
   "outputs": [
    {
     "data": {
      "text/html": [
       "<div>\n",
       "<style scoped>\n",
       "    .dataframe tbody tr th:only-of-type {\n",
       "        vertical-align: middle;\n",
       "    }\n",
       "\n",
       "    .dataframe tbody tr th {\n",
       "        vertical-align: top;\n",
       "    }\n",
       "\n",
       "    .dataframe thead th {\n",
       "        text-align: right;\n",
       "    }\n",
       "</style>\n",
       "<table border=\"1\" class=\"dataframe\">\n",
       "  <thead>\n",
       "    <tr style=\"text-align: right;\">\n",
       "      <th></th>\n",
       "      <th>Model</th>\n",
       "      <th>Train_Accuracy</th>\n",
       "      <th>CV_Val_Accuracy</th>\n",
       "    </tr>\n",
       "  </thead>\n",
       "  <tbody>\n",
       "    <tr>\n",
       "      <th>0</th>\n",
       "      <td>Logistic Regression</td>\n",
       "      <td>0.4900</td>\n",
       "      <td>0.4504</td>\n",
       "    </tr>\n",
       "    <tr>\n",
       "      <th>1</th>\n",
       "      <td>Gaussian Naive Bayes</td>\n",
       "      <td>0.5292</td>\n",
       "      <td>0.4144</td>\n",
       "    </tr>\n",
       "    <tr>\n",
       "      <th>2</th>\n",
       "      <td>SVC</td>\n",
       "      <td>0.6500</td>\n",
       "      <td>0.4576</td>\n",
       "    </tr>\n",
       "    <tr>\n",
       "      <th>3</th>\n",
       "      <td>Random Forest</td>\n",
       "      <td>1.0000</td>\n",
       "      <td>0.5184</td>\n",
       "    </tr>\n",
       "    <tr>\n",
       "      <th>4</th>\n",
       "      <td>Adaboost</td>\n",
       "      <td>0.7484</td>\n",
       "      <td>0.5216</td>\n",
       "    </tr>\n",
       "    <tr>\n",
       "      <th>5</th>\n",
       "      <td>KNN</td>\n",
       "      <td>0.6792</td>\n",
       "      <td>0.4020</td>\n",
       "    </tr>\n",
       "    <tr>\n",
       "      <th>6</th>\n",
       "      <td>Decision Tree</td>\n",
       "      <td>1.0000</td>\n",
       "      <td>0.4576</td>\n",
       "    </tr>\n",
       "  </tbody>\n",
       "</table>\n",
       "</div>"
      ],
      "text/plain": [
       "                  Model  Train_Accuracy  CV_Val_Accuracy\n",
       "0   Logistic Regression          0.4900           0.4504\n",
       "1  Gaussian Naive Bayes          0.5292           0.4144\n",
       "2                   SVC          0.6500           0.4576\n",
       "3         Random Forest          1.0000           0.5184\n",
       "4              Adaboost          0.7484           0.5216\n",
       "5                   KNN          0.6792           0.4020\n",
       "6         Decision Tree          1.0000           0.4576"
      ]
     },
     "execution_count": 53,
     "metadata": {},
     "output_type": "execute_result"
    }
   ],
   "source": [
    "mod_name = ['Logistic Regression', 'Gaussian Naive Bayes', 'SVC', 'Random Forest', 'Adaboost',  'KNN', 'Decision Tree']\n",
    "mod_list1 = [log_train_acc, gnb_train_acc, svc_train_acc, rf_train_acc, ada_train_acc, knn_train_acc, dt_train_acc]\n",
    "mod_list2 = [log_val_acc, gnb_val_acc, svc_val_acc, rf_val_acc, ada_val_acc, knn_val_acc, dt_val_acc]\n",
    "tr_acc_list = [np.mean(i) for i in mod_list1]\n",
    "val_acc_list = [np.mean(i) for i in mod_list2]\n",
    "tmp = {'Model': mod_name, 'Train_Accuracy': tr_acc_list, 'CV_Val_Accuracy': val_acc_list}\n",
    "acc_df = pd.DataFrame(data=tmp)\n",
    "acc_df"
   ]
  },
  {
   "cell_type": "code",
   "execution_count": 54,
   "metadata": {},
   "outputs": [
    {
     "name": "stdout",
     "output_type": "stream",
     "text": [
      "Logistic Regression Training Accuracy: 0.48\n",
      "Logistic Regression Testing Accuracy: 0.4\n"
     ]
    }
   ],
   "source": [
    "log.fit(X_train, Y_train)\n",
    "Y_pred_train = log.predict(X_train)\n",
    "Y_pred_test = log.predict(X_test) \n",
    "print('Logistic Regression Training Accuracy:', acc(Y_train, Y_pred_train))\n",
    "print('Logistic Regression Testing Accuracy:', acc(Y_test, Y_pred_test))"
   ]
  },
  {
   "cell_type": "code",
   "execution_count": 55,
   "metadata": {},
   "outputs": [
    {
     "name": "stdout",
     "output_type": "stream",
     "text": [
      "Navie Bayes Training Accuracy: 0.51\n",
      "Navie Bayes Testing Accuracy: 0.38\n"
     ]
    }
   ],
   "source": [
    "gnb.fit(X_train, Y_train)\n",
    "Y_pred_train = gnb.predict(X_train)\n",
    "Y_pred_test = gnb.predict(X_test) \n",
    "print('Navie Bayes Training Accuracy:', acc(Y_train, Y_pred_train))\n",
    "print('Navie Bayes Testing Accuracy:', acc(Y_test, Y_pred_test))"
   ]
  },
  {
   "cell_type": "code",
   "execution_count": 56,
   "metadata": {},
   "outputs": [
    {
     "name": "stdout",
     "output_type": "stream",
     "text": [
      "SVC Training Accuracy: 0.65\n",
      "SVC Testing Accuracy: 0.4\n"
     ]
    }
   ],
   "source": [
    "##SVC has the least validation mean squared error\n",
    "svc.fit(X_train, Y_train)\n",
    "Y_pred_train = svc.predict(X_train)\n",
    "Y_pred_test = svc.predict(X_test) \n",
    "print('SVC Training Accuracy:', acc(Y_train, Y_pred_train))\n",
    "print('SVC Testing Accuracy:', acc(Y_test, Y_pred_test))"
   ]
  },
  {
   "cell_type": "code",
   "execution_count": 57,
   "metadata": {},
   "outputs": [
    {
     "name": "stdout",
     "output_type": "stream",
     "text": [
      "Random Forest Training Accuracy: 1.0\n",
      "Random Forest Testing Accuracy: 0.49\n"
     ]
    }
   ],
   "source": [
    "rf_class.fit(X_train, Y_train)\n",
    "Y_pred_train = rf_class.predict(X_train)\n",
    "Y_pred_test = rf_class.predict(X_test) \n",
    "print('Random Forest Training Accuracy:', acc(Y_train, Y_pred_train))\n",
    "print('Random Forest Testing Accuracy:', acc(Y_test, Y_pred_test))"
   ]
  },
  {
   "cell_type": "code",
   "execution_count": 58,
   "metadata": {},
   "outputs": [
    {
     "data": {
      "text/plain": [
       "array([0.04997792, 0.04141995, 0.06122472, 0.06479788, 0.05941076,\n",
       "       0.05046406, 0.05913838, 0.05771678, 0.04558785, 0.09911037,\n",
       "       0.05955096, 0.04276937, 0.05525891, 0.06244899, 0.06993015,\n",
       "       0.05690668, 0.06428628])"
      ]
     },
     "execution_count": 58,
     "metadata": {},
     "output_type": "execute_result"
    }
   ],
   "source": [
    "rf_class.feature_importances_"
   ]
  },
  {
   "cell_type": "code",
   "execution_count": null,
   "metadata": {},
   "outputs": [],
   "source": [
    "# feat_importances = pd.Series(rf_class.feature_importances_, index=X_train.columns)\n",
    "# feat_importances.nlargest(20).sort_values(ascending=True).plot(kind='barh',color='cornflowerblue')"
   ]
  },
  {
   "cell_type": "code",
   "execution_count": null,
   "metadata": {},
   "outputs": [],
   "source": [
    "# from sklearn.feature_selection import SelectFromModel\n",
    "\n",
    "# sfm = SelectFromModel(rf_class, threshold=0.02)\n",
    "# sfm.fit(X_train, Y_train)\n",
    "# X_important_train = sfm.transform(X_train)\n",
    "# X_important_test = sfm.transform(X_test)\n",
    "\n",
    "# rf_class_2 = RandomForestClassifier(n_estimators = 100, max_features = 5, bootstrap = True, random_state = 45) ##Random Forest\n",
    "# rf_class_2.fit(X_important_train, Y_train)\n",
    "# Y_pred_train = rf_class_2.predict(X_important_train)\n",
    "# Y_pred_test = rf_class_2.predict(X_important_test) \n",
    "# print('Random Forest Training Accuracy:', acc(Y_train, Y_pred_train))\n",
    "# print('Random Forest Testing Accuracy:', acc(Y_test, Y_pred_test))"
   ]
  },
  {
   "cell_type": "code",
   "execution_count": 59,
   "metadata": {},
   "outputs": [
    {
     "name": "stdout",
     "output_type": "stream",
     "text": [
      "Adaboost Training Accuracy: 0.7\n",
      "Adaboost Testing Accuracy: 0.36\n"
     ]
    }
   ],
   "source": [
    "adaboost_class.fit(X_train, Y_train)\n",
    "Y_pred_train = adaboost_class.predict(X_train)\n",
    "Y_pred_test = adaboost_class.predict(X_test) \n",
    "print('Adaboost Training Accuracy:', acc(Y_train, Y_pred_train))\n",
    "print('Adaboost Testing Accuracy:', acc(Y_test, Y_pred_test))"
   ]
  },
  {
   "cell_type": "code",
   "execution_count": 60,
   "metadata": {},
   "outputs": [
    {
     "name": "stdout",
     "output_type": "stream",
     "text": [
      "KNN Training Accuracy: 0.67\n",
      "KNN Testing Accuracy: 0.36\n"
     ]
    }
   ],
   "source": [
    "knn_class.fit(X_train, Y_train)\n",
    "Y_pred_train = knn_class.predict(X_train)\n",
    "Y_pred_test = knn_class.predict(X_test) \n",
    "print('KNN Training Accuracy:', acc(Y_train, Y_pred_train))\n",
    "print('KNN Testing Accuracy:', acc(Y_test, Y_pred_test))"
   ]
  },
  {
   "cell_type": "code",
   "execution_count": 61,
   "metadata": {
    "scrolled": true
   },
   "outputs": [
    {
     "name": "stdout",
     "output_type": "stream",
     "text": [
      "Decision Tree Training Accuracy: 1.0\n",
      "Decision Tree Testing Accuracy: 0.55\n"
     ]
    }
   ],
   "source": [
    "dt.fit(X_train, Y_train)\n",
    "Y_pred_train = dt.predict(X_train)\n",
    "Y_pred_test = dt.predict(X_test) \n",
    "print('Decision Tree Training Accuracy:', acc(Y_train, Y_pred_train))\n",
    "print('Decision Tree Testing Accuracy:', acc(Y_test, Y_pred_test))"
   ]
  },
  {
   "cell_type": "code",
   "execution_count": 62,
   "metadata": {},
   "outputs": [
    {
     "data": {
      "text/plain": [
       "array([0.0439406 , 0.11415033, 0.05514813, 0.01587928, 0.01290943,\n",
       "       0.03108802, 0.05666807, 0.05431241, 0.07616563, 0.17779449,\n",
       "       0.08615976, 0.01095984, 0.04624465, 0.01607638, 0.08055555,\n",
       "       0.03456566, 0.08738176])"
      ]
     },
     "execution_count": 62,
     "metadata": {},
     "output_type": "execute_result"
    }
   ],
   "source": [
    "dt.feature_importances_"
   ]
  },
  {
   "cell_type": "code",
   "execution_count": null,
   "metadata": {},
   "outputs": [],
   "source": [
    "# from sklearn.feature_selection import SelectFromModel\n",
    "\n",
    "# dt_sfm = SelectFromModel(dt, threshold=0.02)\n",
    "# dt_sfm.fit(X_train, Y_train)\n",
    "# X_important_train_dt = dt_sfm.transform(X_train)\n",
    "# X_important_test_dt = dt_sfm.transform(X_test)\n",
    "\n",
    "# dt_2 = DecisionTreeClassifier(max_features = 5, random_state=45)\n",
    "# dt_2.fit(X_important_train_dt, Y_train)\n",
    "# Y_pred_train = dt_2.predict(X_important_train_dt)\n",
    "# Y_pred_test = dt_2.predict(X_important_test_dt) \n",
    "# print('Decision Tree Training Accuracy:', acc(Y_train, Y_pred_train))\n",
    "# print('Decision Tree Testing Accuracy:', acc(Y_test, Y_pred_test))"
   ]
  },
  {
   "cell_type": "code",
   "execution_count": 65,
   "metadata": {},
   "outputs": [
    {
     "name": "stdout",
     "output_type": "stream",
     "text": [
      "Confusion matrix of test data is: \n",
      "           Predicted 0  Predicted 1  Predicted 2\n",
      "Actual 0            2           10            3\n",
      "Actual 1            3           14            4\n",
      "Actual 2            3            9            5\n"
     ]
    }
   ],
   "source": [
    "from sklearn.metrics import confusion_matrix\n",
    "y_true = Y_test\n",
    "y_pred = svc.predict(X_test)\n",
    "cm = confusion_matrix(y_true, y_pred)\n",
    "\n",
    "ConfusionMatrix=pd.DataFrame(cm, columns=['Predicted 0','Predicted 1','Predicted 2'],index=['Actual 0','Actual 1','Actual 2'])\n",
    "print('Confusion matrix of test data is: \\n',ConfusionMatrix)"
   ]
  },
  {
   "cell_type": "code",
   "execution_count": 66,
   "metadata": {},
   "outputs": [
    {
     "name": "stdout",
     "output_type": "stream",
     "text": [
      "Confusion matrix of test data is: \n",
      "           Predicted 0  Predicted 1  Predicted 2\n",
      "Actual 0            6            6            3\n",
      "Actual 1            3           14            4\n",
      "Actual 2            0           11            6\n"
     ]
    }
   ],
   "source": [
    "y_true = Y_test\n",
    "y_pred = rf_class.predict(X_test)\n",
    "cm = confusion_matrix(y_true, y_pred)\n",
    "\n",
    "ConfusionMatrix=pd.DataFrame(cm, columns=['Predicted 0','Predicted 1','Predicted 2'],index=['Actual 0','Actual 1','Actual 2'])\n",
    "print('Confusion matrix of test data is: \\n',ConfusionMatrix)"
   ]
  },
  {
   "cell_type": "code",
   "execution_count": 67,
   "metadata": {},
   "outputs": [
    {
     "name": "stdout",
     "output_type": "stream",
     "text": [
      "Confusion matrix of test data is: \n",
      "           Predicted 0  Predicted 1  Predicted 2\n",
      "Actual 0            6            6            3\n",
      "Actual 1            8           11            2\n",
      "Actual 2            2           13            2\n"
     ]
    }
   ],
   "source": [
    "y_true = Y_test\n",
    "y_pred = adaboost_class.predict(X_test)\n",
    "cm = confusion_matrix(y_true, y_pred)\n",
    "ConfusionMatrix=pd.DataFrame(cm, columns=['Predicted 0','Predicted 1','Predicted 2'],index=['Actual 0','Actual 1','Actual 2'])\n",
    "print('Confusion matrix of test data is: \\n',ConfusionMatrix)"
   ]
  },
  {
   "cell_type": "code",
   "execution_count": 74,
   "metadata": {},
   "outputs": [
    {
     "name": "stdout",
     "output_type": "stream",
     "text": [
      "Random Forest Training Accuracy: 1.0\n",
      "Random Forest Testing Accuracy: 0.49\n"
     ]
    }
   ],
   "source": [
    "rf_class.fit(X_train, Y_train)\n",
    "Y_pred_train = rf_class.predict(X_train)\n",
    "Y_pred_test = rf_class.predict(X_test) \n",
    "print('Random Forest Training Accuracy:', acc(Y_train, Y_pred_train))\n",
    "print('Random Forest Testing Accuracy:', acc(Y_test, Y_pred_test))"
   ]
  },
  {
   "cell_type": "code",
   "execution_count": 90,
   "metadata": {},
   "outputs": [
    {
     "data": {
      "text/html": [
       "<div>\n",
       "<style scoped>\n",
       "    .dataframe tbody tr th:only-of-type {\n",
       "        vertical-align: middle;\n",
       "    }\n",
       "\n",
       "    .dataframe tbody tr th {\n",
       "        vertical-align: top;\n",
       "    }\n",
       "\n",
       "    .dataframe thead th {\n",
       "        text-align: right;\n",
       "    }\n",
       "</style>\n",
       "<table border=\"1\" class=\"dataframe\">\n",
       "  <thead>\n",
       "    <tr style=\"text-align: right;\">\n",
       "      <th></th>\n",
       "      <th>Zipcode</th>\n",
       "      <th>Predicted_Score</th>\n",
       "      <th>Actual_Score</th>\n",
       "    </tr>\n",
       "  </thead>\n",
       "  <tbody>\n",
       "    <tr>\n",
       "      <th>0</th>\n",
       "      <td>90305.0</td>\n",
       "      <td>1.0</td>\n",
       "      <td>1.0</td>\n",
       "    </tr>\n",
       "    <tr>\n",
       "      <th>1</th>\n",
       "      <td>90063.0</td>\n",
       "      <td>3.0</td>\n",
       "      <td>3.0</td>\n",
       "    </tr>\n",
       "    <tr>\n",
       "      <th>2</th>\n",
       "      <td>91792.0</td>\n",
       "      <td>2.0</td>\n",
       "      <td>2.0</td>\n",
       "    </tr>\n",
       "    <tr>\n",
       "      <th>3</th>\n",
       "      <td>91377.0</td>\n",
       "      <td>1.0</td>\n",
       "      <td>1.0</td>\n",
       "    </tr>\n",
       "    <tr>\n",
       "      <th>4</th>\n",
       "      <td>90028.0</td>\n",
       "      <td>2.0</td>\n",
       "      <td>2.0</td>\n",
       "    </tr>\n",
       "    <tr>\n",
       "      <th>5</th>\n",
       "      <td>90018.0</td>\n",
       "      <td>2.0</td>\n",
       "      <td>2.0</td>\n",
       "    </tr>\n",
       "    <tr>\n",
       "      <th>6</th>\n",
       "      <td>90006.0</td>\n",
       "      <td>1.0</td>\n",
       "      <td>1.0</td>\n",
       "    </tr>\n",
       "    <tr>\n",
       "      <th>7</th>\n",
       "      <td>91744.0</td>\n",
       "      <td>3.0</td>\n",
       "      <td>3.0</td>\n",
       "    </tr>\n",
       "    <tr>\n",
       "      <th>8</th>\n",
       "      <td>91030.0</td>\n",
       "      <td>1.0</td>\n",
       "      <td>1.0</td>\n",
       "    </tr>\n",
       "    <tr>\n",
       "      <th>9</th>\n",
       "      <td>91765.0</td>\n",
       "      <td>3.0</td>\n",
       "      <td>3.0</td>\n",
       "    </tr>\n",
       "    <tr>\n",
       "      <th>10</th>\n",
       "      <td>90061.0</td>\n",
       "      <td>3.0</td>\n",
       "      <td>3.0</td>\n",
       "    </tr>\n",
       "    <tr>\n",
       "      <th>11</th>\n",
       "      <td>91606.0</td>\n",
       "      <td>1.0</td>\n",
       "      <td>1.0</td>\n",
       "    </tr>\n",
       "    <tr>\n",
       "      <th>12</th>\n",
       "      <td>90026.0</td>\n",
       "      <td>1.0</td>\n",
       "      <td>1.0</td>\n",
       "    </tr>\n",
       "    <tr>\n",
       "      <th>13</th>\n",
       "      <td>90028.0</td>\n",
       "      <td>2.0</td>\n",
       "      <td>2.0</td>\n",
       "    </tr>\n",
       "    <tr>\n",
       "      <th>14</th>\n",
       "      <td>91384.0</td>\n",
       "      <td>3.0</td>\n",
       "      <td>3.0</td>\n",
       "    </tr>\n",
       "    <tr>\n",
       "      <th>15</th>\n",
       "      <td>90303.0</td>\n",
       "      <td>2.0</td>\n",
       "      <td>2.0</td>\n",
       "    </tr>\n",
       "    <tr>\n",
       "      <th>16</th>\n",
       "      <td>90010.0</td>\n",
       "      <td>2.0</td>\n",
       "      <td>2.0</td>\n",
       "    </tr>\n",
       "    <tr>\n",
       "      <th>17</th>\n",
       "      <td>90001.0</td>\n",
       "      <td>3.0</td>\n",
       "      <td>3.0</td>\n",
       "    </tr>\n",
       "    <tr>\n",
       "      <th>18</th>\n",
       "      <td>90211.0</td>\n",
       "      <td>2.0</td>\n",
       "      <td>2.0</td>\n",
       "    </tr>\n",
       "    <tr>\n",
       "      <th>19</th>\n",
       "      <td>90804.0</td>\n",
       "      <td>1.0</td>\n",
       "      <td>1.0</td>\n",
       "    </tr>\n",
       "    <tr>\n",
       "      <th>20</th>\n",
       "      <td>91722.0</td>\n",
       "      <td>2.0</td>\n",
       "      <td>2.0</td>\n",
       "    </tr>\n",
       "    <tr>\n",
       "      <th>21</th>\n",
       "      <td>91301.0</td>\n",
       "      <td>3.0</td>\n",
       "      <td>3.0</td>\n",
       "    </tr>\n",
       "    <tr>\n",
       "      <th>22</th>\n",
       "      <td>91775.0</td>\n",
       "      <td>3.0</td>\n",
       "      <td>3.0</td>\n",
       "    </tr>\n",
       "    <tr>\n",
       "      <th>23</th>\n",
       "      <td>90056.0</td>\n",
       "      <td>3.0</td>\n",
       "      <td>3.0</td>\n",
       "    </tr>\n",
       "    <tr>\n",
       "      <th>24</th>\n",
       "      <td>91107.0</td>\n",
       "      <td>2.0</td>\n",
       "      <td>2.0</td>\n",
       "    </tr>\n",
       "    <tr>\n",
       "      <th>25</th>\n",
       "      <td>90280.0</td>\n",
       "      <td>2.0</td>\n",
       "      <td>2.0</td>\n",
       "    </tr>\n",
       "    <tr>\n",
       "      <th>26</th>\n",
       "      <td>90744.0</td>\n",
       "      <td>2.0</td>\n",
       "      <td>2.0</td>\n",
       "    </tr>\n",
       "    <tr>\n",
       "      <th>27</th>\n",
       "      <td>90230.0</td>\n",
       "      <td>2.0</td>\n",
       "      <td>2.0</td>\n",
       "    </tr>\n",
       "    <tr>\n",
       "      <th>28</th>\n",
       "      <td>91733.0</td>\n",
       "      <td>3.0</td>\n",
       "      <td>3.0</td>\n",
       "    </tr>\n",
       "    <tr>\n",
       "      <th>29</th>\n",
       "      <td>90201.0</td>\n",
       "      <td>2.0</td>\n",
       "      <td>2.0</td>\n",
       "    </tr>\n",
       "    <tr>\n",
       "      <th>...</th>\n",
       "      <td>...</td>\n",
       "      <td>...</td>\n",
       "      <td>...</td>\n",
       "    </tr>\n",
       "    <tr>\n",
       "      <th>232</th>\n",
       "      <td>91302.0</td>\n",
       "      <td>2.0</td>\n",
       "      <td>3.0</td>\n",
       "    </tr>\n",
       "    <tr>\n",
       "      <th>233</th>\n",
       "      <td>91746.0</td>\n",
       "      <td>3.0</td>\n",
       "      <td>3.0</td>\n",
       "    </tr>\n",
       "    <tr>\n",
       "      <th>234</th>\n",
       "      <td>91505.0</td>\n",
       "      <td>1.0</td>\n",
       "      <td>1.0</td>\n",
       "    </tr>\n",
       "    <tr>\n",
       "      <th>235</th>\n",
       "      <td>90806.0</td>\n",
       "      <td>2.0</td>\n",
       "      <td>2.0</td>\n",
       "    </tr>\n",
       "    <tr>\n",
       "      <th>236</th>\n",
       "      <td>91040.0</td>\n",
       "      <td>2.0</td>\n",
       "      <td>1.0</td>\n",
       "    </tr>\n",
       "    <tr>\n",
       "      <th>237</th>\n",
       "      <td>91321.0</td>\n",
       "      <td>2.0</td>\n",
       "      <td>3.0</td>\n",
       "    </tr>\n",
       "    <tr>\n",
       "      <th>238</th>\n",
       "      <td>90605.0</td>\n",
       "      <td>3.0</td>\n",
       "      <td>2.0</td>\n",
       "    </tr>\n",
       "    <tr>\n",
       "      <th>239</th>\n",
       "      <td>90012.0</td>\n",
       "      <td>2.0</td>\n",
       "      <td>3.0</td>\n",
       "    </tr>\n",
       "    <tr>\n",
       "      <th>240</th>\n",
       "      <td>91706.0</td>\n",
       "      <td>2.0</td>\n",
       "      <td>2.0</td>\n",
       "    </tr>\n",
       "    <tr>\n",
       "      <th>241</th>\n",
       "      <td>91001.0</td>\n",
       "      <td>2.0</td>\n",
       "      <td>3.0</td>\n",
       "    </tr>\n",
       "    <tr>\n",
       "      <th>242</th>\n",
       "      <td>90043.0</td>\n",
       "      <td>2.0</td>\n",
       "      <td>2.0</td>\n",
       "    </tr>\n",
       "    <tr>\n",
       "      <th>243</th>\n",
       "      <td>91010.0</td>\n",
       "      <td>3.0</td>\n",
       "      <td>3.0</td>\n",
       "    </tr>\n",
       "    <tr>\n",
       "      <th>244</th>\n",
       "      <td>90401.0</td>\n",
       "      <td>2.0</td>\n",
       "      <td>2.0</td>\n",
       "    </tr>\n",
       "    <tr>\n",
       "      <th>245</th>\n",
       "      <td>91801.0</td>\n",
       "      <td>1.0</td>\n",
       "      <td>1.0</td>\n",
       "    </tr>\n",
       "    <tr>\n",
       "      <th>246</th>\n",
       "      <td>90008.0</td>\n",
       "      <td>2.0</td>\n",
       "      <td>2.0</td>\n",
       "    </tr>\n",
       "    <tr>\n",
       "      <th>247</th>\n",
       "      <td>91354.0</td>\n",
       "      <td>3.0</td>\n",
       "      <td>2.0</td>\n",
       "    </tr>\n",
       "    <tr>\n",
       "      <th>248</th>\n",
       "      <td>91741.0</td>\n",
       "      <td>3.0</td>\n",
       "      <td>1.0</td>\n",
       "    </tr>\n",
       "    <tr>\n",
       "      <th>249</th>\n",
       "      <td>90255.0</td>\n",
       "      <td>3.0</td>\n",
       "      <td>2.0</td>\n",
       "    </tr>\n",
       "    <tr>\n",
       "      <th>250</th>\n",
       "      <td>91723.0</td>\n",
       "      <td>3.0</td>\n",
       "      <td>2.0</td>\n",
       "    </tr>\n",
       "    <tr>\n",
       "      <th>251</th>\n",
       "      <td>90802.0</td>\n",
       "      <td>2.0</td>\n",
       "      <td>2.0</td>\n",
       "    </tr>\n",
       "    <tr>\n",
       "      <th>252</th>\n",
       "      <td>91362.0</td>\n",
       "      <td>1.0</td>\n",
       "      <td>2.0</td>\n",
       "    </tr>\n",
       "    <tr>\n",
       "      <th>253</th>\n",
       "      <td>90019.0</td>\n",
       "      <td>1.0</td>\n",
       "      <td>1.0</td>\n",
       "    </tr>\n",
       "    <tr>\n",
       "      <th>254</th>\n",
       "      <td>91387.0</td>\n",
       "      <td>2.0</td>\n",
       "      <td>3.0</td>\n",
       "    </tr>\n",
       "    <tr>\n",
       "      <th>255</th>\n",
       "      <td>91311.0</td>\n",
       "      <td>1.0</td>\n",
       "      <td>2.0</td>\n",
       "    </tr>\n",
       "    <tr>\n",
       "      <th>256</th>\n",
       "      <td>90024.0</td>\n",
       "      <td>2.0</td>\n",
       "      <td>1.0</td>\n",
       "    </tr>\n",
       "    <tr>\n",
       "      <th>257</th>\n",
       "      <td>91604.0</td>\n",
       "      <td>2.0</td>\n",
       "      <td>2.0</td>\n",
       "    </tr>\n",
       "    <tr>\n",
       "      <th>258</th>\n",
       "      <td>90710.0</td>\n",
       "      <td>2.0</td>\n",
       "      <td>2.0</td>\n",
       "    </tr>\n",
       "    <tr>\n",
       "      <th>259</th>\n",
       "      <td>90304.0</td>\n",
       "      <td>2.0</td>\n",
       "      <td>3.0</td>\n",
       "    </tr>\n",
       "    <tr>\n",
       "      <th>260</th>\n",
       "      <td>90210.0</td>\n",
       "      <td>3.0</td>\n",
       "      <td>1.0</td>\n",
       "    </tr>\n",
       "    <tr>\n",
       "      <th>261</th>\n",
       "      <td>90301.0</td>\n",
       "      <td>2.0</td>\n",
       "      <td>2.0</td>\n",
       "    </tr>\n",
       "  </tbody>\n",
       "</table>\n",
       "<p>262 rows × 3 columns</p>\n",
       "</div>"
      ],
      "text/plain": [
       "     Zipcode Predicted_Score Actual_Score\n",
       "0    90305.0             1.0          1.0\n",
       "1    90063.0             3.0          3.0\n",
       "2    91792.0             2.0          2.0\n",
       "3    91377.0             1.0          1.0\n",
       "4    90028.0             2.0          2.0\n",
       "5    90018.0             2.0          2.0\n",
       "6    90006.0             1.0          1.0\n",
       "7    91744.0             3.0          3.0\n",
       "8    91030.0             1.0          1.0\n",
       "9    91765.0             3.0          3.0\n",
       "10   90061.0             3.0          3.0\n",
       "11   91606.0             1.0          1.0\n",
       "12   90026.0             1.0          1.0\n",
       "13   90028.0             2.0          2.0\n",
       "14   91384.0             3.0          3.0\n",
       "15   90303.0             2.0          2.0\n",
       "16   90010.0             2.0          2.0\n",
       "17   90001.0             3.0          3.0\n",
       "18   90211.0             2.0          2.0\n",
       "19   90804.0             1.0          1.0\n",
       "20   91722.0             2.0          2.0\n",
       "21   91301.0             3.0          3.0\n",
       "22   91775.0             3.0          3.0\n",
       "23   90056.0             3.0          3.0\n",
       "24   91107.0             2.0          2.0\n",
       "25   90280.0             2.0          2.0\n",
       "26   90744.0             2.0          2.0\n",
       "27   90230.0             2.0          2.0\n",
       "28   91733.0             3.0          3.0\n",
       "29   90201.0             2.0          2.0\n",
       "..       ...             ...          ...\n",
       "232  91302.0             2.0          3.0\n",
       "233  91746.0             3.0          3.0\n",
       "234  91505.0             1.0          1.0\n",
       "235  90806.0             2.0          2.0\n",
       "236  91040.0             2.0          1.0\n",
       "237  91321.0             2.0          3.0\n",
       "238  90605.0             3.0          2.0\n",
       "239  90012.0             2.0          3.0\n",
       "240  91706.0             2.0          2.0\n",
       "241  91001.0             2.0          3.0\n",
       "242  90043.0             2.0          2.0\n",
       "243  91010.0             3.0          3.0\n",
       "244  90401.0             2.0          2.0\n",
       "245  91801.0             1.0          1.0\n",
       "246  90008.0             2.0          2.0\n",
       "247  91354.0             3.0          2.0\n",
       "248  91741.0             3.0          1.0\n",
       "249  90255.0             3.0          2.0\n",
       "250  91723.0             3.0          2.0\n",
       "251  90802.0             2.0          2.0\n",
       "252  91362.0             1.0          2.0\n",
       "253  90019.0             1.0          1.0\n",
       "254  91387.0             2.0          3.0\n",
       "255  91311.0             1.0          2.0\n",
       "256  90024.0             2.0          1.0\n",
       "257  91604.0             2.0          2.0\n",
       "258  90710.0             2.0          2.0\n",
       "259  90304.0             2.0          3.0\n",
       "260  90210.0             3.0          1.0\n",
       "261  90301.0             2.0          2.0\n",
       "\n",
       "[262 rows x 3 columns]"
      ]
     },
     "execution_count": 90,
     "metadata": {},
     "output_type": "execute_result"
    }
   ],
   "source": [
    "mat1 = {'Zipcode': train_zip.values, 'Predicted_Score': Y_pred_train, 'Actual_Score': Y_train}\n",
    "df1 = pd.DataFrame(data=mat1)\n",
    "\n",
    "mat2 = {'Zipcode': test_zip.values, 'Predicted_Score': Y_pred_test, 'Actual_Score': Y_test}\n",
    "df2 = pd.DataFrame(data=mat2)\n",
    "\n",
    "result = pd.concat([df1, df2]).reset_index(drop=True)\n",
    "result"
   ]
  },
  {
   "cell_type": "code",
   "execution_count": 91,
   "metadata": {},
   "outputs": [],
   "source": [
    "result.to_csv(\"Pred_Result.csv\")"
   ]
  },
  {
   "cell_type": "code",
   "execution_count": 93,
   "metadata": {},
   "outputs": [],
   "source": [
    "import pickle\n",
    "path = \"./adaboost.pickle\"\n",
    "pickle.dump( adaboost_class, open(  path, \"wb\") )\n",
    "path = \"./randomforest.pickle\"\n",
    "pickle.dump( dt, open(  path, \"wb\") )"
   ]
  },
  {
   "cell_type": "code",
   "execution_count": 96,
   "metadata": {},
   "outputs": [
    {
     "data": {
      "text/plain": [
       "Index(['host_total_listings_count', 'beds', 'price', 'availability_90',\n",
       "       'reviews_per_month', 'review_scores_location',\n",
       "       'host_identity_verified1', 'House1', 'Other1', 'Apartment1',\n",
       "       'moderate1', 'Condominium1', 'Guesthouse1', 'flexible1',\n",
       "       'host_is_superhost1', 'count', 'walk_y'],\n",
       "      dtype='object')"
      ]
     },
     "execution_count": 96,
     "metadata": {},
     "output_type": "execute_result"
    }
   ],
   "source": [
    "X_test.columns"
   ]
  },
  {
   "cell_type": "code",
   "execution_count": null,
   "metadata": {},
   "outputs": [],
   "source": []
  }
 ],
 "metadata": {
  "kernelspec": {
   "display_name": "Python 3",
   "language": "python",
   "name": "python3"
  },
  "language_info": {
   "codemirror_mode": {
    "name": "ipython",
    "version": 3
   },
   "file_extension": ".py",
   "mimetype": "text/x-python",
   "name": "python",
   "nbconvert_exporter": "python",
   "pygments_lexer": "ipython3",
   "version": "3.7.0"
  }
 },
 "nbformat": 4,
 "nbformat_minor": 2
}
