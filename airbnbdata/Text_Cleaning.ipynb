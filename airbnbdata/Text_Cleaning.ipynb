{
 "cells": [
  {
   "cell_type": "code",
   "execution_count": 1,
   "metadata": {},
   "outputs": [],
   "source": [
    "import numpy as np\n",
    "import pandas as pd\n",
    "import matplotlib.pyplot as plt\n",
    "# import scipy.stats as stats\n",
    "import csv\n",
    "import pickle"
   ]
  },
  {
   "cell_type": "code",
   "execution_count": 2,
   "metadata": {},
   "outputs": [],
   "source": [
    "# load review and listing data\n",
    "filePath = \"../Data/\"\n",
    "# data source: https://drive.google.com/open?id=1cWcZlf8gOj-NBq5fPEOT8dmOpC9bvbiA\n",
    "listing = pd.read_csv(filePath+\"listings_cleaned.csv\")  # use cleaned listing to join with review data\n",
    "review = pd.read_csv(filePath+\"reviews.csv\", parse_dates=[2])\n  # Dataset accessible from https://drive.google.com/open?id=1dXZznho8BpLjP851AmWfdGGAGrJRkUe7",
    "\n",
    "# review = pickle.load( open( filePath+\"reviews.p\", \"rb\" ) )"
   ]
  },
  {
   "cell_type": "markdown",
   "metadata": {},
   "source": [
    "## Subset data to only keep reviews written in 2017\n",
    "### (can skip this step if have the pickle file)"
   ]
  },
  {
   "cell_type": "code",
   "execution_count": 3,
   "metadata": {},
   "outputs": [],
   "source": [
    "review[\"year\"] = review[\"date\"].apply(lambda t: t.year)"
   ]
  },
  {
   "cell_type": "code",
   "execution_count": null,
   "metadata": {},
   "outputs": [],
   "source": [
    "review.year.hist()"
   ]
  },
  {
   "cell_type": "code",
   "execution_count": 4,
   "metadata": {},
   "outputs": [],
   "source": [
    "review2017 = review[review.year == 2017]"
   ]
  },
  {
   "cell_type": "code",
   "execution_count": 5,
   "metadata": {},
   "outputs": [
    {
     "name": "stderr",
     "output_type": "stream",
     "text": [
      "D:\\Anaconda3\\envs\\data-x\\lib\\site-packages\\ipykernel_launcher.py:2: SettingWithCopyWarning: \n",
      "A value is trying to be set on a copy of a slice from a DataFrame\n",
      "\n",
      "See the caveats in the documentation: http://pandas.pydata.org/pandas-docs/stable/indexing.html#indexing-view-versus-copy\n",
      "  \n"
     ]
    }
   ],
   "source": [
    "# sort by review date\n",
    "review2017.sort_values(by = \"date\", inplace= True)\n",
    "review2017 = review2017.reset_index()"
   ]
  },
  {
   "cell_type": "markdown",
   "metadata": {},
   "source": [
    "## Group by listing id. concatenate"
   ]
  },
  {
   "cell_type": "code",
   "execution_count": 11,
   "metadata": {},
   "outputs": [],
   "source": [
    "# drop irrelevant cols\n",
    "review2017 = review2017.loc[:,[\"listing_id\",\"comments\"]]\n",
    "\n",
    "# create a counter col\n",
    "review2017[\"ct\"] = np.ones((review2017.shape[0],1), dtype= np.int8)"
   ]
  },
  {
   "cell_type": "code",
   "execution_count": 12,
   "metadata": {},
   "outputs": [],
   "source": [
    "# drop rows with missing comments\n",
    "review2017.dropna(inplace=True)"
   ]
  },
  {
   "cell_type": "code",
   "execution_count": 14,
   "metadata": {},
   "outputs": [],
   "source": [
    "pickle.dump(review2017, open( filePath+\"review2017.p\", \"wb\" ) )"
   ]
  },
  {
   "cell_type": "code",
   "execution_count": null,
   "metadata": {},
   "outputs": [],
   "source": []
  },
  {
   "cell_type": "code",
   "execution_count": null,
   "metadata": {},
   "outputs": [],
   "source": []
  },
  {
   "cell_type": "code",
   "execution_count": null,
   "metadata": {},
   "outputs": [],
   "source": []
  },
  {
   "cell_type": "code",
   "execution_count": 3,
   "metadata": {},
   "outputs": [],
   "source": [
    "# load intermediate result: review data from 2017\n",
    "filePath = \"../Data/\"\n",
    "review2017 = pickle.load( open( filePath+\"review2017.p\", \"rb\" ) )"
   ]
  },
  {
   "cell_type": "code",
   "execution_count": 19,
   "metadata": {},
   "outputs": [],
   "source": [
    "# convert all comments to str\n",
    "review2017[\"comments\"] = review2017[\"comments\"].apply(str)\n",
    "review2017_by_list_id = review2017.groupby(by = \"listing_id\")[\"comments\"].apply(lambda x: \" \".join(x))\n",
    "review2017_by_list_id = pd.DataFrame(review2017_by_list_id)\n",
    "\n",
    "# Add up number of reviews per listing\n",
    "review2017_by_list_id[\"ct\"] = review2017.groupby(by = \"listing_id\")[\"ct\"].sum()"
   ]
  },
  {
   "cell_type": "code",
   "execution_count": 21,
   "metadata": {},
   "outputs": [
    {
     "data": {
      "text/html": [
       "<div>\n",
       "<style scoped>\n",
       "    .dataframe tbody tr th:only-of-type {\n",
       "        vertical-align: middle;\n",
       "    }\n",
       "\n",
       "    .dataframe tbody tr th {\n",
       "        vertical-align: top;\n",
       "    }\n",
       "\n",
       "    .dataframe thead th {\n",
       "        text-align: right;\n",
       "    }\n",
       "</style>\n",
       "<table border=\"1\" class=\"dataframe\">\n",
       "  <thead>\n",
       "    <tr style=\"text-align: right;\">\n",
       "      <th></th>\n",
       "      <th>comments</th>\n",
       "      <th>ct</th>\n",
       "    </tr>\n",
       "    <tr>\n",
       "      <th>listing_id</th>\n",
       "      <th></th>\n",
       "      <th></th>\n",
       "    </tr>\n",
       "  </thead>\n",
       "  <tbody>\n",
       "    <tr>\n",
       "      <th>2708</th>\n",
       "      <td>ホストはとても親切で英語の発音の仕方など丁寧に教えてくれた。\\n\\n部屋はリビングを板で仕切...</td>\n",
       "      <td>1.0</td>\n",
       "    </tr>\n",
       "    <tr>\n",
       "      <th>2732</th>\n",
       "      <td>Havde en fantastisk tid hos Yoga Priestess. Et...</td>\n",
       "      <td>2.0</td>\n",
       "    </tr>\n",
       "    <tr>\n",
       "      <th>3021</th>\n",
       "      <td>Quartier charmant, vert et au calme sans être ...</td>\n",
       "      <td>3.0</td>\n",
       "    </tr>\n",
       "    <tr>\n",
       "      <th>5728</th>\n",
       "      <td>Lovely and cozy room  So funky. I loved it Thi...</td>\n",
       "      <td>66.0</td>\n",
       "    </tr>\n",
       "    <tr>\n",
       "      <th>5729</th>\n",
       "      <td>Very zen and quiet space....bringing nature in...</td>\n",
       "      <td>50.0</td>\n",
       "    </tr>\n",
       "  </tbody>\n",
       "</table>\n",
       "</div>"
      ],
      "text/plain": [
       "                                                     comments    ct\n",
       "listing_id                                                         \n",
       "2708        ホストはとても親切で英語の発音の仕方など丁寧に教えてくれた。\\n\\n部屋はリビングを板で仕切...   1.0\n",
       "2732        Havde en fantastisk tid hos Yoga Priestess. Et...   2.0\n",
       "3021        Quartier charmant, vert et au calme sans être ...   3.0\n",
       "5728        Lovely and cozy room  So funky. I loved it Thi...  66.0\n",
       "5729        Very zen and quiet space....bringing nature in...  50.0"
      ]
     },
     "execution_count": 21,
     "metadata": {},
     "output_type": "execute_result"
    }
   ],
   "source": [
    "# review2017_by_list_id.head()"
   ]
  },
  {
   "cell_type": "code",
   "execution_count": 22,
   "metadata": {},
   "outputs": [],
   "source": [
    "review2017_by_list_id = review2017_by_list_id.reset_index()"
   ]
  },
  {
   "cell_type": "code",
   "execution_count": 23,
   "metadata": {},
   "outputs": [
    {
     "name": "stderr",
     "output_type": "stream",
     "text": [
      "D:\\Anaconda3\\envs\\data-x\\lib\\site-packages\\ipykernel_launcher.py:6: FutureWarning: set_axis currently defaults to operating inplace.\n",
      "This will change in a future version of pandas, use inplace=True to avoid this warning.\n",
      "  \n"
     ]
    }
   ],
   "source": [
    "# make sure all id from review data set is int\n",
    "\n",
    "# validId = [ID for ID in review2017_by_list_id.id.values if isinstance(ID, int)]\n",
    "# review2017_by_list_id.drop(index=20243, inplace=True)  # this row's id is \"id\"\n",
    "\n",
    "review2017_by_list_id.set_axis([\"id\",\"review\",\"ct\"], axis=1)\n",
    "review2017_by_list_id[\"id\"] = review2017_by_list_id[\"id\"].apply(lambda x: int(x))"
   ]
  },
  {
   "cell_type": "code",
   "execution_count": 24,
   "metadata": {},
   "outputs": [
    {
     "data": {
      "text/html": [
       "<div>\n",
       "<style scoped>\n",
       "    .dataframe tbody tr th:only-of-type {\n",
       "        vertical-align: middle;\n",
       "    }\n",
       "\n",
       "    .dataframe tbody tr th {\n",
       "        vertical-align: top;\n",
       "    }\n",
       "\n",
       "    .dataframe thead th {\n",
       "        text-align: right;\n",
       "    }\n",
       "</style>\n",
       "<table border=\"1\" class=\"dataframe\">\n",
       "  <thead>\n",
       "    <tr style=\"text-align: right;\">\n",
       "      <th></th>\n",
       "      <th>id</th>\n",
       "      <th>review</th>\n",
       "      <th>ct</th>\n",
       "    </tr>\n",
       "  </thead>\n",
       "  <tbody>\n",
       "    <tr>\n",
       "      <th>0</th>\n",
       "      <td>2708</td>\n",
       "      <td>ホストはとても親切で英語の発音の仕方など丁寧に教えてくれた。\\n\\n部屋はリビングを板で仕切...</td>\n",
       "      <td>1.0</td>\n",
       "    </tr>\n",
       "    <tr>\n",
       "      <th>1</th>\n",
       "      <td>2732</td>\n",
       "      <td>Havde en fantastisk tid hos Yoga Priestess. Et...</td>\n",
       "      <td>2.0</td>\n",
       "    </tr>\n",
       "    <tr>\n",
       "      <th>2</th>\n",
       "      <td>3021</td>\n",
       "      <td>Quartier charmant, vert et au calme sans être ...</td>\n",
       "      <td>3.0</td>\n",
       "    </tr>\n",
       "    <tr>\n",
       "      <th>3</th>\n",
       "      <td>5728</td>\n",
       "      <td>Lovely and cozy room  So funky. I loved it Thi...</td>\n",
       "      <td>66.0</td>\n",
       "    </tr>\n",
       "    <tr>\n",
       "      <th>4</th>\n",
       "      <td>5729</td>\n",
       "      <td>Very zen and quiet space....bringing nature in...</td>\n",
       "      <td>50.0</td>\n",
       "    </tr>\n",
       "  </tbody>\n",
       "</table>\n",
       "</div>"
      ],
      "text/plain": [
       "     id                                             review    ct\n",
       "0  2708  ホストはとても親切で英語の発音の仕方など丁寧に教えてくれた。\\n\\n部屋はリビングを板で仕切...   1.0\n",
       "1  2732  Havde en fantastisk tid hos Yoga Priestess. Et...   2.0\n",
       "2  3021  Quartier charmant, vert et au calme sans être ...   3.0\n",
       "3  5728  Lovely and cozy room  So funky. I loved it Thi...  66.0\n",
       "4  5729  Very zen and quiet space....bringing nature in...  50.0"
      ]
     },
     "execution_count": 24,
     "metadata": {},
     "output_type": "execute_result"
    }
   ],
   "source": [
    "# review2017_by_list_id.head()"
   ]
  },
  {
   "cell_type": "markdown",
   "metadata": {},
   "source": [
    "## Left join `listing` and `review2017_by_list_id` by listing ID\n",
    "### Note: for each review, we have to have a corresponding zipcode which is in `listing`"
   ]
  },
  {
   "cell_type": "code",
   "execution_count": 25,
   "metadata": {},
   "outputs": [],
   "source": [
    "merged = pd.merge(listing, review2017_by_list_id, on=\"id\", how='left')"
   ]
  },
  {
   "cell_type": "markdown",
   "metadata": {},
   "source": [
    "## Aggregate review by zipcode"
   ]
  },
  {
   "cell_type": "code",
   "execution_count": 26,
   "metadata": {},
   "outputs": [],
   "source": [
    "# merged.head()\n",
    "# only keep zip code and review\n",
    "merged = merged.filter(items= [\"zipcode\",\"review\",\"ct\"], axis=1)"
   ]
  },
  {
   "cell_type": "code",
   "execution_count": 27,
   "metadata": {},
   "outputs": [],
   "source": [
    "# fill NaN in review with empty string\n",
    "merged[\"review\"].fillna(\"\", inplace = True)"
   ]
  },
  {
   "cell_type": "code",
   "execution_count": 28,
   "metadata": {},
   "outputs": [],
   "source": [
    "# for reviews corresponding to the same zipcode, concatenate them\n",
    "review_by_zipcode = merged.groupby(by = \"zipcode\")[\"review\"].apply(lambda x: \" \".join(x))\n",
    "review_by_zipcode = pd.DataFrame(review_by_zipcode)\n",
    "\n",
    "review_by_zipcode[\"ct\"] = merged.groupby(by = \"zipcode\")[\"ct\"].sum()\n",
    "# now if the review value is an empty string, it means for the given zipcode, there are no corresponding reviews in year 2017."
   ]
  },
  {
   "cell_type": "code",
   "execution_count": 30,
   "metadata": {},
   "outputs": [
    {
     "data": {
      "text/plain": [
       "<matplotlib.axes._subplots.AxesSubplot at 0x15c07f712b0>"
      ]
     },
     "execution_count": 30,
     "metadata": {},
     "output_type": "execute_result"
    },
    {
     "data": {
      "image/png": "[encoded data removed]",
      "text/plain": [
       "<Figure size 432x288 with 1 Axes>"
      ]
     },
     "metadata": {},
     "output_type": "display_data"
    }
   ],
   "source": [
    "# review_by_zipcode.ct.hist()"
   ]
  },
  {
   "cell_type": "markdown",
   "metadata": {},
   "source": [
    "## Output intermediate result to csv file for collaboration/efficiency"
   ]
  },
  {
   "cell_type": "code",
   "execution_count": 35,
   "metadata": {},
   "outputs": [],
   "source": [
    "review_by_zipcode.to_csv(filePath+\"review_by_zipcode.csv\", header= True)"
   ]
  },
  {
   "cell_type": "code",
   "execution_count": 39,
   "metadata": {},
   "outputs": [],
   "source": [
    "pickle.dump(review_by_zipcode, open( filePath+\"review_by_zipcode.p\", \"wb\" ) )"
   ]
  },
  {
   "cell_type": "code",
   "execution_count": null,
   "metadata": {},
   "outputs": [],
   "source": []
  }
 ],
 "metadata": {
  "kernelspec": {
   "display_name": "Python 3",
   "language": "python",
   "name": "python3"
  },
  "language_info": {
   "codemirror_mode": {
    "name": "ipython",
    "version": 3
   },
   "file_extension": ".py",
   "mimetype": "text/x-python",
   "name": "python",
   "nbconvert_exporter": "python",
   "pygments_lexer": "ipython3",
   "version": "3.6.5"
  }
 },
 "nbformat": 4,
 "nbformat_minor": 2
}
