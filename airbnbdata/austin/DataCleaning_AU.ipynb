{
 "cells": [
  {
   "cell_type": "code",
   "execution_count": 1,
   "metadata": {},
   "outputs": [],
   "source": [
    "import pandas as pd\n",
    "import numpy as np\n",
    "import re\n",
    "import scipy.stats as stats\n",
    "from sklearn import linear_model\n",
    "from sklearn import model_selection\n",
    "from sklearn.neighbors import KNeighborsClassifier"
   ]
  },
  {
   "cell_type": "code",
   "execution_count": 2,
   "metadata": {},
   "outputs": [
    {
     "data": {
      "text/html": [
       "<div>\n",
       "<style scoped>\n",
       "    .dataframe tbody tr th:only-of-type {\n",
       "        vertical-align: middle;\n",
       "    }\n",
       "\n",
       "    .dataframe tbody tr th {\n",
       "        vertical-align: top;\n",
       "    }\n",
       "\n",
       "    .dataframe thead th {\n",
       "        text-align: right;\n",
       "    }\n",
       "</style>\n",
       "<table border=\"1\" class=\"dataframe\">\n",
       "  <thead>\n",
       "    <tr style=\"text-align: right;\">\n",
       "      <th></th>\n",
       "      <th>id</th>\n",
       "      <th>listing_url</th>\n",
       "      <th>scrape_id</th>\n",
       "      <th>last_scraped</th>\n",
       "      <th>name</th>\n",
       "      <th>summary</th>\n",
       "      <th>space</th>\n",
       "      <th>description</th>\n",
       "      <th>experiences_offered</th>\n",
       "      <th>neighborhood_overview</th>\n",
       "      <th>...</th>\n",
       "      <th>requires_license</th>\n",
       "      <th>license</th>\n",
       "      <th>jurisdiction_names</th>\n",
       "      <th>instant_bookable</th>\n",
       "      <th>is_business_travel_ready</th>\n",
       "      <th>cancellation_policy</th>\n",
       "      <th>require_guest_profile_picture</th>\n",
       "      <th>require_guest_phone_verification</th>\n",
       "      <th>calculated_host_listings_count</th>\n",
       "      <th>reviews_per_month</th>\n",
       "    </tr>\n",
       "  </thead>\n",
       "  <tbody>\n",
       "    <tr>\n",
       "      <th>0</th>\n",
       "      <td>2265</td>\n",
       "      <td>https://www.airbnb.com/rooms/2265</td>\n",
       "      <td>20181018034013</td>\n",
       "      <td>2018-10-18</td>\n",
       "      <td>Zen-East in the Heart of Austin</td>\n",
       "      <td>Zen East is situated in a vibrant &amp; diverse mu...</td>\n",
       "      <td>This colorful and clean 1923 house was complet...</td>\n",
       "      <td>Zen East is situated in a vibrant &amp; diverse mu...</td>\n",
       "      <td>none</td>\n",
       "      <td>NaN</td>\n",
       "      <td>...</td>\n",
       "      <td>f</td>\n",
       "      <td>NaN</td>\n",
       "      <td>{\"Texas State\"}</td>\n",
       "      <td>f</td>\n",
       "      <td>f</td>\n",
       "      <td>strict_14_with_grace_period</td>\n",
       "      <td>f</td>\n",
       "      <td>f</td>\n",
       "      <td>3</td>\n",
       "      <td>0.20</td>\n",
       "    </tr>\n",
       "    <tr>\n",
       "      <th>1</th>\n",
       "      <td>5245</td>\n",
       "      <td>https://www.airbnb.com/rooms/5245</td>\n",
       "      <td>20181018034013</td>\n",
       "      <td>2018-10-18</td>\n",
       "      <td>Green, Colorful, Clean &amp;  Cozy home</td>\n",
       "      <td>NaN</td>\n",
       "      <td>Situated in a vibrant &amp; diverse multicultural ...</td>\n",
       "      <td>Situated in a vibrant &amp; diverse multicultural ...</td>\n",
       "      <td>none</td>\n",
       "      <td>NaN</td>\n",
       "      <td>...</td>\n",
       "      <td>f</td>\n",
       "      <td>NaN</td>\n",
       "      <td>{\"Texas State\"}</td>\n",
       "      <td>f</td>\n",
       "      <td>f</td>\n",
       "      <td>strict_14_with_grace_period</td>\n",
       "      <td>f</td>\n",
       "      <td>f</td>\n",
       "      <td>3</td>\n",
       "      <td>0.08</td>\n",
       "    </tr>\n",
       "    <tr>\n",
       "      <th>2</th>\n",
       "      <td>5456</td>\n",
       "      <td>https://www.airbnb.com/rooms/5456</td>\n",
       "      <td>20181018034013</td>\n",
       "      <td>2018-10-18</td>\n",
       "      <td>Walk to 6th, Rainey St and Convention Ctr</td>\n",
       "      <td>Fabulous location for walking to Convention Ce...</td>\n",
       "      <td>Cute Private Studio apartment located in Willo...</td>\n",
       "      <td>Fabulous location for walking to Convention Ce...</td>\n",
       "      <td>none</td>\n",
       "      <td>My neighborhood is ideally located if you want...</td>\n",
       "      <td>...</td>\n",
       "      <td>f</td>\n",
       "      <td>NaN</td>\n",
       "      <td>{\"Texas State\"}</td>\n",
       "      <td>f</td>\n",
       "      <td>f</td>\n",
       "      <td>strict_14_with_grace_period</td>\n",
       "      <td>f</td>\n",
       "      <td>t</td>\n",
       "      <td>1</td>\n",
       "      <td>3.90</td>\n",
       "    </tr>\n",
       "    <tr>\n",
       "      <th>3</th>\n",
       "      <td>5769</td>\n",
       "      <td>https://www.airbnb.com/rooms/5769</td>\n",
       "      <td>20181018034013</td>\n",
       "      <td>2018-10-18</td>\n",
       "      <td>NW Austin Room</td>\n",
       "      <td>NaN</td>\n",
       "      <td>Looking for a comfortable inexpensive room to ...</td>\n",
       "      <td>Looking for a comfortable inexpensive room to ...</td>\n",
       "      <td>none</td>\n",
       "      <td>Quiet neighborhood with lots of trees and good...</td>\n",
       "      <td>...</td>\n",
       "      <td>f</td>\n",
       "      <td>NaN</td>\n",
       "      <td>{\"Texas State\"}</td>\n",
       "      <td>f</td>\n",
       "      <td>f</td>\n",
       "      <td>moderate</td>\n",
       "      <td>t</td>\n",
       "      <td>t</td>\n",
       "      <td>1</td>\n",
       "      <td>2.28</td>\n",
       "    </tr>\n",
       "    <tr>\n",
       "      <th>4</th>\n",
       "      <td>6413</td>\n",
       "      <td>https://www.airbnb.com/rooms/6413</td>\n",
       "      <td>20181018034013</td>\n",
       "      <td>2018-10-18</td>\n",
       "      <td>Gem of a Studio near Downtown</td>\n",
       "      <td>Great studio apartment, perfect for couples or...</td>\n",
       "      <td>(License #114332) Large, contemporary studio a...</td>\n",
       "      <td>Great studio apartment, perfect for couples or...</td>\n",
       "      <td>none</td>\n",
       "      <td>Travis Heights is one of the oldest neighborho...</td>\n",
       "      <td>...</td>\n",
       "      <td>f</td>\n",
       "      <td>32041657928</td>\n",
       "      <td>{\"Texas State\"}</td>\n",
       "      <td>t</td>\n",
       "      <td>f</td>\n",
       "      <td>strict_14_with_grace_period</td>\n",
       "      <td>f</td>\n",
       "      <td>f</td>\n",
       "      <td>1</td>\n",
       "      <td>0.73</td>\n",
       "    </tr>\n",
       "  </tbody>\n",
       "</table>\n",
       "<p>5 rows × 96 columns</p>\n",
       "</div>"
      ],
      "text/plain": [
       "     id                        listing_url       scrape_id last_scraped  \\\n",
       "0  2265  https://www.airbnb.com/rooms/2265  20181018034013   2018-10-18   \n",
       "1  5245  https://www.airbnb.com/rooms/5245  20181018034013   2018-10-18   \n",
       "2  5456  https://www.airbnb.com/rooms/5456  20181018034013   2018-10-18   \n",
       "3  5769  https://www.airbnb.com/rooms/5769  20181018034013   2018-10-18   \n",
       "4  6413  https://www.airbnb.com/rooms/6413  20181018034013   2018-10-18   \n",
       "\n",
       "                                        name  \\\n",
       "0            Zen-East in the Heart of Austin   \n",
       "1        Green, Colorful, Clean &  Cozy home   \n",
       "2  Walk to 6th, Rainey St and Convention Ctr   \n",
       "3                             NW Austin Room   \n",
       "4              Gem of a Studio near Downtown   \n",
       "\n",
       "                                             summary  \\\n",
       "0  Zen East is situated in a vibrant & diverse mu...   \n",
       "1                                                NaN   \n",
       "2  Fabulous location for walking to Convention Ce...   \n",
       "3                                                NaN   \n",
       "4  Great studio apartment, perfect for couples or...   \n",
       "\n",
       "                                               space  \\\n",
       "0  This colorful and clean 1923 house was complet...   \n",
       "1  Situated in a vibrant & diverse multicultural ...   \n",
       "2  Cute Private Studio apartment located in Willo...   \n",
       "3  Looking for a comfortable inexpensive room to ...   \n",
       "4  (License #114332) Large, contemporary studio a...   \n",
       "\n",
       "                                         description experiences_offered  \\\n",
       "0  Zen East is situated in a vibrant & diverse mu...                none   \n",
       "1  Situated in a vibrant & diverse multicultural ...                none   \n",
       "2  Fabulous location for walking to Convention Ce...                none   \n",
       "3  Looking for a comfortable inexpensive room to ...                none   \n",
       "4  Great studio apartment, perfect for couples or...                none   \n",
       "\n",
       "                               neighborhood_overview        ...          \\\n",
       "0                                                NaN        ...           \n",
       "1                                                NaN        ...           \n",
       "2  My neighborhood is ideally located if you want...        ...           \n",
       "3  Quiet neighborhood with lots of trees and good...        ...           \n",
       "4  Travis Heights is one of the oldest neighborho...        ...           \n",
       "\n",
       "  requires_license      license jurisdiction_names instant_bookable  \\\n",
       "0                f          NaN    {\"Texas State\"}                f   \n",
       "1                f          NaN    {\"Texas State\"}                f   \n",
       "2                f          NaN    {\"Texas State\"}                f   \n",
       "3                f          NaN    {\"Texas State\"}                f   \n",
       "4                f  32041657928    {\"Texas State\"}                t   \n",
       "\n",
       "  is_business_travel_ready          cancellation_policy  \\\n",
       "0                        f  strict_14_with_grace_period   \n",
       "1                        f  strict_14_with_grace_period   \n",
       "2                        f  strict_14_with_grace_period   \n",
       "3                        f                     moderate   \n",
       "4                        f  strict_14_with_grace_period   \n",
       "\n",
       "   require_guest_profile_picture require_guest_phone_verification  \\\n",
       "0                              f                                f   \n",
       "1                              f                                f   \n",
       "2                              f                                t   \n",
       "3                              t                                t   \n",
       "4                              f                                f   \n",
       "\n",
       "   calculated_host_listings_count  reviews_per_month  \n",
       "0                               3               0.20  \n",
       "1                               3               0.08  \n",
       "2                               1               3.90  \n",
       "3                               1               2.28  \n",
       "4                               1               0.73  \n",
       "\n",
       "[5 rows x 96 columns]"
      ]
     },
     "execution_count": 2,
     "metadata": {},
     "output_type": "execute_result"
    }
   ],
   "source": [
    "au = pd.read_csv('listings_AU.csv')\n",
    "au.head()"
   ]
  },
  {
   "cell_type": "code",
   "execution_count": 3,
   "metadata": {},
   "outputs": [],
   "source": [
    "keep = ['host_is_superhost', 'host_total_listings_count', 'host_identity_verified',\n",
    "        'zipcode','property_type','bathrooms', 'bedrooms', 'beds','price','cancellation_policy',\n",
    "        'availability_30','availability_60','availability_90','availability_365',\n",
    "        'reviews_per_month','review_scores_location']\n",
    "au_sub = au[keep]"
   ]
  },
  {
   "cell_type": "code",
   "execution_count": 4,
   "metadata": {},
   "outputs": [
    {
     "data": {
      "text/plain": [
       "host_is_superhost               2\n",
       "host_total_listings_count       2\n",
       "host_identity_verified          2\n",
       "zipcode                       146\n",
       "property_type                   0\n",
       "bathrooms                      32\n",
       "bedrooms                        6\n",
       "beds                           23\n",
       "price                           0\n",
       "cancellation_policy             0\n",
       "availability_30                 0\n",
       "availability_60                 0\n",
       "availability_90                 0\n",
       "availability_365                0\n",
       "reviews_per_month            3042\n",
       "review_scores_location       3219\n",
       "dtype: int64"
      ]
     },
     "execution_count": 4,
     "metadata": {},
     "output_type": "execute_result"
    }
   ],
   "source": [
    "au_sub.isnull().sum()"
   ]
  },
  {
   "cell_type": "markdown",
   "metadata": {},
   "source": [
    "#### Step 1, Impute `review_scores_location`"
   ]
  },
  {
   "cell_type": "markdown",
   "metadata": {},
   "source": [
    "1. extract relevant col's from original dataset"
   ]
  },
  {
   "cell_type": "code",
   "execution_count": 5,
   "metadata": {},
   "outputs": [],
   "source": [
    "listDtaSubset = au[['latitude','longitude',\"neighbourhood_cleansed\", \"review_scores_location\"]]"
   ]
  },
  {
   "cell_type": "markdown",
   "metadata": {},
   "source": [
    "2. one-hot encode neighbourhood variable"
   ]
  },
  {
   "cell_type": "code",
   "execution_count": 6,
   "metadata": {},
   "outputs": [],
   "source": [
    "neighbourhood = pd.get_dummies(listDtaSubset.neighbourhood_cleansed)  # a matrix with number of rows equal to the number of rows in the original dataset and number cols = number unique neighborhood values. For each row, only one element is 1, everything else are 0's.\n",
    "listDtaSubset = listDtaSubset.join(neighbourhood)\n",
    "listDtaSubset.drop(columns = \"neighbourhood_cleansed\", inplace= True)"
   ]
  },
  {
   "cell_type": "markdown",
   "metadata": {},
   "source": [
    "3. use subset of data to train KNN (rows with all model variable and label non-missing)"
   ]
  },
  {
   "cell_type": "code",
   "execution_count": 7,
   "metadata": {},
   "outputs": [],
   "source": [
    "# drop all observations with either x or y missing w.r.t. the model\n",
    "# Note: I remember none of the latitude, longiture info is missing\n",
    "data = listDtaSubset.dropna(axis = 0, subset = ['latitude','longitude',\"review_scores_location\"])\n",
    "# data.shape"
   ]
  },
  {
   "cell_type": "markdown",
   "metadata": {},
   "source": [
    "4. S4 Use KNN model to predict all location review scores"
   ]
  },
  {
   "cell_type": "code",
   "execution_count": 8,
   "metadata": {},
   "outputs": [],
   "source": [
    "# split valid data set into training and testing data sets\n",
    "tmp_train, tmp_test = model_selection.train_test_split(data, test_size = 0.3)\n",
    "tmp_train_X = tmp_train.drop(columns=\"review_scores_location\")\n",
    "tmp_train_Y = tmp_train[\"review_scores_location\"]\n",
    "\n",
    "tmp_test_X = tmp_test.drop(columns=\"review_scores_location\")\n",
    "tmp_test_Y = tmp_test[\"review_scores_location\"]"
   ]
  },
  {
   "cell_type": "code",
   "execution_count": 9,
   "metadata": {},
   "outputs": [
    {
     "name": "stdout",
     "output_type": "stream",
     "text": [
      "training accuracy:  0.788399222294232 \n",
      "testing accuracy:  0.7532123960695389\n"
     ]
    }
   ],
   "source": [
    "# Train KNN model\n",
    "KNN = KNeighborsClassifier(n_neighbors = 11)  #  I tried k = 3-15. 11 is significantly better than 3, but similar to 12-15 or 10\n",
    "\n",
    "KNN.fit(tmp_train_X, tmp_train_Y)\n",
    "KNN_train_score = KNN.score(tmp_train_X,tmp_train_Y)\n",
    "KNN_test_score = KNN.score(tmp_test_X, tmp_test_Y)\n",
    "\n",
    "print(\"training accuracy: \", KNN_train_score, \"\\ntesting accuracy: \", KNN_test_score)"
   ]
  },
  {
   "cell_type": "markdown",
   "metadata": {},
   "source": [
    "5. fill missing location review score with predicted missing value"
   ]
  },
  {
   "cell_type": "code",
   "execution_count": 10,
   "metadata": {},
   "outputs": [],
   "source": [
    "data2 = listDtaSubset.dropna(axis = 0, subset = ['latitude','longitude'])  # should not make any change since none of the latitude and longitude is missing in LA listing dataset\n",
    "# data2.shape\n",
    "data2 = data2.drop(columns=\"review_scores_location\")\n",
    "\n",
    "# predict the location score for ALL observations\n",
    "review_scores_location_imputed = KNN.predict(data2)"
   ]
  },
  {
   "cell_type": "code",
   "execution_count": 11,
   "metadata": {},
   "outputs": [],
   "source": [
    "# For observation with NA as review score, substitue in the predicted score\n",
    "mask = au[\"review_scores_location\"].isna()\n",
    "au.loc[mask,\"review_scores_location\"] = review_scores_location_imputed[mask]"
   ]
  },
  {
   "cell_type": "markdown",
   "metadata": {},
   "source": [
    "#### Step 1, clean up NaN values"
   ]
  },
  {
   "cell_type": "code",
   "execution_count": 12,
   "metadata": {},
   "outputs": [
    {
     "data": {
      "text/plain": [
       "host_is_superhost               2\n",
       "host_total_listings_count       2\n",
       "host_identity_verified          2\n",
       "zipcode                       146\n",
       "property_type                   0\n",
       "bathrooms                      32\n",
       "bedrooms                        6\n",
       "beds                           23\n",
       "price                           0\n",
       "cancellation_policy             0\n",
       "availability_30                 0\n",
       "availability_60                 0\n",
       "availability_90                 0\n",
       "availability_365                0\n",
       "reviews_per_month            3042\n",
       "review_scores_location          0\n",
       "dtype: int64"
      ]
     },
     "execution_count": 12,
     "metadata": {},
     "output_type": "execute_result"
    }
   ],
   "source": [
    "au_sub = au[keep]\n",
    "au_sub.isnull().sum()"
   ]
  },
  {
   "cell_type": "code",
   "execution_count": 13,
   "metadata": {},
   "outputs": [
    {
     "data": {
      "text/html": [
       "<div>\n",
       "<style scoped>\n",
       "    .dataframe tbody tr th:only-of-type {\n",
       "        vertical-align: middle;\n",
       "    }\n",
       "\n",
       "    .dataframe tbody tr th {\n",
       "        vertical-align: top;\n",
       "    }\n",
       "\n",
       "    .dataframe thead th {\n",
       "        text-align: right;\n",
       "    }\n",
       "</style>\n",
       "<table border=\"1\" class=\"dataframe\">\n",
       "  <thead>\n",
       "    <tr style=\"text-align: right;\">\n",
       "      <th></th>\n",
       "      <th>0</th>\n",
       "      <th>manipulation</th>\n",
       "    </tr>\n",
       "  </thead>\n",
       "  <tbody>\n",
       "    <tr>\n",
       "      <th>host_is_superhost</th>\n",
       "      <td>2</td>\n",
       "      <td>Drop rows with NaN(2)</td>\n",
       "    </tr>\n",
       "    <tr>\n",
       "      <th>host_total_listings_count</th>\n",
       "      <td>2</td>\n",
       "      <td>/</td>\n",
       "    </tr>\n",
       "    <tr>\n",
       "      <th>host_identity_verified</th>\n",
       "      <td>2</td>\n",
       "      <td>/</td>\n",
       "    </tr>\n",
       "    <tr>\n",
       "      <th>zipcode</th>\n",
       "      <td>146</td>\n",
       "      <td>Drop rows with NaN(146)</td>\n",
       "    </tr>\n",
       "    <tr>\n",
       "      <th>property_type</th>\n",
       "      <td>0</td>\n",
       "      <td>/</td>\n",
       "    </tr>\n",
       "    <tr>\n",
       "      <th>bathrooms</th>\n",
       "      <td>32</td>\n",
       "      <td>Drop rows with NaN(32)</td>\n",
       "    </tr>\n",
       "    <tr>\n",
       "      <th>bedrooms</th>\n",
       "      <td>6</td>\n",
       "      <td>Drop rows with NaN(5)</td>\n",
       "    </tr>\n",
       "    <tr>\n",
       "      <th>beds</th>\n",
       "      <td>23</td>\n",
       "      <td>Drop rows with NaN(6)</td>\n",
       "    </tr>\n",
       "    <tr>\n",
       "      <th>price</th>\n",
       "      <td>0</td>\n",
       "      <td>/</td>\n",
       "    </tr>\n",
       "    <tr>\n",
       "      <th>cancellation_policy</th>\n",
       "      <td>0</td>\n",
       "      <td>/</td>\n",
       "    </tr>\n",
       "    <tr>\n",
       "      <th>availability_30</th>\n",
       "      <td>0</td>\n",
       "      <td>/</td>\n",
       "    </tr>\n",
       "    <tr>\n",
       "      <th>availability_60</th>\n",
       "      <td>0</td>\n",
       "      <td>/</td>\n",
       "    </tr>\n",
       "    <tr>\n",
       "      <th>availability_90</th>\n",
       "      <td>0</td>\n",
       "      <td>/</td>\n",
       "    </tr>\n",
       "    <tr>\n",
       "      <th>availability_365</th>\n",
       "      <td>0</td>\n",
       "      <td>/</td>\n",
       "    </tr>\n",
       "    <tr>\n",
       "      <th>reviews_per_month</th>\n",
       "      <td>3042</td>\n",
       "      <td>?</td>\n",
       "    </tr>\n",
       "    <tr>\n",
       "      <th>review_scores_location</th>\n",
       "      <td>0</td>\n",
       "      <td>/</td>\n",
       "    </tr>\n",
       "  </tbody>\n",
       "</table>\n",
       "</div>"
      ],
      "text/plain": [
       "                              0             manipulation\n",
       "host_is_superhost             2    Drop rows with NaN(2)\n",
       "host_total_listings_count     2                        /\n",
       "host_identity_verified        2                        /\n",
       "zipcode                     146  Drop rows with NaN(146)\n",
       "property_type                 0                        /\n",
       "bathrooms                    32   Drop rows with NaN(32)\n",
       "bedrooms                      6    Drop rows with NaN(5)\n",
       "beds                         23    Drop rows with NaN(6)\n",
       "price                         0                        /\n",
       "cancellation_policy           0                        /\n",
       "availability_30               0                        /\n",
       "availability_60               0                        /\n",
       "availability_90               0                        /\n",
       "availability_365              0                        /\n",
       "reviews_per_month          3042                        ?\n",
       "review_scores_location        0                        /"
      ]
     },
     "execution_count": 13,
     "metadata": {},
     "output_type": "execute_result"
    }
   ],
   "source": [
    "summary = pd.DataFrame(au_sub.isnull().sum())\n",
    "man = ['Drop rows with NaN(2)','/','/','Drop rows with NaN(146)','/','Drop rows with NaN(32)','Drop rows with NaN(5)','Drop rows with NaN(6)','/','/','/','/','/','/','?','/']\n",
    "summary['manipulation']=man\n",
    "summary"
   ]
  },
  {
   "cell_type": "code",
   "execution_count": 14,
   "metadata": {},
   "outputs": [],
   "source": [
    "#host_is_superhost #2 missing features\n",
    "au[au['host_is_superhost'].isnull()][['host_id','host_is_superhost']]\n",
    "au_sub = au_sub[pd.notnull(au_sub['host_is_superhost'])]\n",
    "#host with missing values just do not have values for all of the listings\n",
    "#Drop NaN values, then host_total_listings_count and host_identity_verified are cleaned up as well"
   ]
  },
  {
   "cell_type": "code",
   "execution_count": 15,
   "metadata": {},
   "outputs": [],
   "source": [
    "#zipcode #drop the NaN values\n",
    "au_sub = au_sub[pd.notnull(au_sub['zipcode'])]"
   ]
  },
  {
   "cell_type": "code",
   "execution_count": 16,
   "metadata": {},
   "outputs": [],
   "source": [
    "au_sub = au_sub[pd.notnull(au_sub['bathrooms'])]\n",
    "au_sub = au_sub[pd.notnull(au_sub['bedrooms'])]\n",
    "au_sub = au_sub[pd.notnull(au_sub['beds'])].reset_index(drop=True)"
   ]
  },
  {
   "cell_type": "code",
   "execution_count": 17,
   "metadata": {},
   "outputs": [
    {
     "data": {
      "text/plain": [
       "host_is_superhost               0\n",
       "host_total_listings_count       0\n",
       "host_identity_verified          0\n",
       "zipcode                         0\n",
       "property_type                   0\n",
       "bathrooms                       0\n",
       "bedrooms                        0\n",
       "beds                            0\n",
       "price                           0\n",
       "cancellation_policy             0\n",
       "availability_30                 0\n",
       "availability_60                 0\n",
       "availability_90                 0\n",
       "availability_365                0\n",
       "reviews_per_month            2954\n",
       "review_scores_location          0\n",
       "dtype: int64"
      ]
     },
     "execution_count": 17,
     "metadata": {},
     "output_type": "execute_result"
    }
   ],
   "source": [
    "au_sub.isnull().sum()"
   ]
  },
  {
   "cell_type": "markdown",
   "metadata": {},
   "source": [
    "#### Step 2, Features Transformation"
   ]
  },
  {
   "cell_type": "code",
   "execution_count": 18,
   "metadata": {},
   "outputs": [],
   "source": [
    "##host_is_superhost: 0-False, 1-True\n",
    "au_sub['host_is_superhost']=[0 if au_sub['host_is_superhost'][i]=='f' else 1 for i in range(au_sub.shape[0])]"
   ]
  },
  {
   "cell_type": "code",
   "execution_count": 19,
   "metadata": {},
   "outputs": [],
   "source": [
    "##host_identity_verified: 0-False, 1-True\n",
    "au_sub['host_identity_verified']= [0 if au_sub['host_identity_verified'][i]=='f' else 1 for i in range(au_sub.shape[0])]"
   ]
  },
  {
   "cell_type": "code",
   "execution_count": 20,
   "metadata": {},
   "outputs": [],
   "source": [
    "##transform zipcode to be text string\n",
    "au_sub['zipcode'] = [str(au_sub['zipcode'][i])[0:5] for i in range(au_sub.shape[0])]"
   ]
  },
  {
   "cell_type": "code",
   "execution_count": 21,
   "metadata": {},
   "outputs": [
    {
     "data": {
      "text/plain": [
       "array([5])"
      ]
     },
     "execution_count": 21,
     "metadata": {},
     "output_type": "execute_result"
    }
   ],
   "source": [
    "##zipcode all cleaned\n",
    "au_sub['len']=[len(au_sub['zipcode'][i]) for i in range(au_sub.shape[0])]\n",
    "au_sub['len'].unique()"
   ]
  },
  {
   "cell_type": "code",
   "execution_count": 22,
   "metadata": {},
   "outputs": [],
   "source": [
    "##drop len column\n",
    "au_sub = au_sub.drop(['len'],axis=1)"
   ]
  },
  {
   "cell_type": "code",
   "execution_count": 23,
   "metadata": {},
   "outputs": [
    {
     "data": {
      "text/plain": [
       "array(['strict_14_with_grace_period', 'moderate', 'flexible',\n",
       "       'super_strict_30', 'super_strict_60'], dtype=object)"
      ]
     },
     "execution_count": 23,
     "metadata": {},
     "output_type": "execute_result"
    }
   ],
   "source": [
    "##cancellation_policy\n",
    "au_sub['cancellation_policy'].unique()"
   ]
  },
  {
   "cell_type": "code",
   "execution_count": 24,
   "metadata": {},
   "outputs": [],
   "source": [
    "au_sub['cancellation_policy'] = au_sub['cancellation_policy'].replace(['strict_14_with_grace_period','super_strict_30','strict','super_strict_60'],'strict')\n",
    "binary_encoded = pd.get_dummies(au_sub.cancellation_policy)\n",
    "newcols = binary_encoded.columns\n",
    "au_sub[newcols] = binary_encoded"
   ]
  },
  {
   "cell_type": "code",
   "execution_count": 25,
   "metadata": {},
   "outputs": [],
   "source": [
    "###remove $ from price\n",
    "au_sub['price'] = (au_sub['price'].str[1:])\n",
    "au_sub['price'] = au_sub['price'].str.replace(',', '')\n",
    "au_sub['price'] = au_sub['price'].astype(float)"
   ]
  },
  {
   "cell_type": "code",
   "execution_count": 26,
   "metadata": {},
   "outputs": [
    {
     "data": {
      "text/html": [
       "<div>\n",
       "<style scoped>\n",
       "    .dataframe tbody tr th:only-of-type {\n",
       "        vertical-align: middle;\n",
       "    }\n",
       "\n",
       "    .dataframe tbody tr th {\n",
       "        vertical-align: top;\n",
       "    }\n",
       "\n",
       "    .dataframe thead th {\n",
       "        text-align: right;\n",
       "    }\n",
       "</style>\n",
       "<table border=\"1\" class=\"dataframe\">\n",
       "  <thead>\n",
       "    <tr style=\"text-align: right;\">\n",
       "      <th></th>\n",
       "      <th>host_is_superhost</th>\n",
       "      <th>host_total_listings_count</th>\n",
       "      <th>host_identity_verified</th>\n",
       "      <th>zipcode</th>\n",
       "      <th>property_type</th>\n",
       "      <th>bathrooms</th>\n",
       "      <th>bedrooms</th>\n",
       "      <th>beds</th>\n",
       "      <th>price</th>\n",
       "      <th>cancellation_policy</th>\n",
       "      <th>availability_30</th>\n",
       "      <th>availability_60</th>\n",
       "      <th>availability_90</th>\n",
       "      <th>availability_365</th>\n",
       "      <th>reviews_per_month</th>\n",
       "      <th>review_scores_location</th>\n",
       "      <th>flexible</th>\n",
       "      <th>moderate</th>\n",
       "      <th>strict</th>\n",
       "    </tr>\n",
       "  </thead>\n",
       "  <tbody>\n",
       "    <tr>\n",
       "      <th>0</th>\n",
       "      <td>1</td>\n",
       "      <td>3.0</td>\n",
       "      <td>1</td>\n",
       "      <td>78702</td>\n",
       "      <td>House</td>\n",
       "      <td>2.0</td>\n",
       "      <td>2.0</td>\n",
       "      <td>2.0</td>\n",
       "      <td>225.0</td>\n",
       "      <td>strict</td>\n",
       "      <td>15</td>\n",
       "      <td>28</td>\n",
       "      <td>43</td>\n",
       "      <td>68</td>\n",
       "      <td>0.20</td>\n",
       "      <td>8.0</td>\n",
       "      <td>0</td>\n",
       "      <td>0</td>\n",
       "      <td>1</td>\n",
       "    </tr>\n",
       "    <tr>\n",
       "      <th>1</th>\n",
       "      <td>1</td>\n",
       "      <td>3.0</td>\n",
       "      <td>1</td>\n",
       "      <td>78702</td>\n",
       "      <td>House</td>\n",
       "      <td>1.0</td>\n",
       "      <td>1.0</td>\n",
       "      <td>1.0</td>\n",
       "      <td>125.0</td>\n",
       "      <td>strict</td>\n",
       "      <td>29</td>\n",
       "      <td>59</td>\n",
       "      <td>89</td>\n",
       "      <td>179</td>\n",
       "      <td>0.08</td>\n",
       "      <td>10.0</td>\n",
       "      <td>0</td>\n",
       "      <td>0</td>\n",
       "      <td>1</td>\n",
       "    </tr>\n",
       "    <tr>\n",
       "      <th>2</th>\n",
       "      <td>1</td>\n",
       "      <td>1.0</td>\n",
       "      <td>1</td>\n",
       "      <td>78702</td>\n",
       "      <td>Guesthouse</td>\n",
       "      <td>1.0</td>\n",
       "      <td>1.0</td>\n",
       "      <td>2.0</td>\n",
       "      <td>95.0</td>\n",
       "      <td>strict</td>\n",
       "      <td>12</td>\n",
       "      <td>38</td>\n",
       "      <td>63</td>\n",
       "      <td>318</td>\n",
       "      <td>3.90</td>\n",
       "      <td>9.0</td>\n",
       "      <td>0</td>\n",
       "      <td>0</td>\n",
       "      <td>1</td>\n",
       "    </tr>\n",
       "    <tr>\n",
       "      <th>3</th>\n",
       "      <td>1</td>\n",
       "      <td>1.0</td>\n",
       "      <td>1</td>\n",
       "      <td>78729</td>\n",
       "      <td>House</td>\n",
       "      <td>1.0</td>\n",
       "      <td>1.0</td>\n",
       "      <td>1.0</td>\n",
       "      <td>40.0</td>\n",
       "      <td>moderate</td>\n",
       "      <td>0</td>\n",
       "      <td>0</td>\n",
       "      <td>8</td>\n",
       "      <td>8</td>\n",
       "      <td>2.28</td>\n",
       "      <td>9.0</td>\n",
       "      <td>0</td>\n",
       "      <td>1</td>\n",
       "      <td>0</td>\n",
       "    </tr>\n",
       "    <tr>\n",
       "      <th>4</th>\n",
       "      <td>1</td>\n",
       "      <td>2.0</td>\n",
       "      <td>1</td>\n",
       "      <td>78704</td>\n",
       "      <td>Guesthouse</td>\n",
       "      <td>1.0</td>\n",
       "      <td>1.0</td>\n",
       "      <td>2.0</td>\n",
       "      <td>129.0</td>\n",
       "      <td>strict</td>\n",
       "      <td>15</td>\n",
       "      <td>31</td>\n",
       "      <td>35</td>\n",
       "      <td>180</td>\n",
       "      <td>2.18</td>\n",
       "      <td>10.0</td>\n",
       "      <td>0</td>\n",
       "      <td>0</td>\n",
       "      <td>1</td>\n",
       "    </tr>\n",
       "  </tbody>\n",
       "</table>\n",
       "</div>"
      ],
      "text/plain": [
       "   host_is_superhost  host_total_listings_count  host_identity_verified  \\\n",
       "0                  1                        3.0                       1   \n",
       "1                  1                        3.0                       1   \n",
       "2                  1                        1.0                       1   \n",
       "3                  1                        1.0                       1   \n",
       "4                  1                        2.0                       1   \n",
       "\n",
       "  zipcode property_type  bathrooms  bedrooms  beds  price cancellation_policy  \\\n",
       "0   78702         House        2.0       2.0   2.0  225.0              strict   \n",
       "1   78702         House        1.0       1.0   1.0  125.0              strict   \n",
       "2   78702    Guesthouse        1.0       1.0   2.0   95.0              strict   \n",
       "3   78729         House        1.0       1.0   1.0   40.0            moderate   \n",
       "4   78704    Guesthouse        1.0       1.0   2.0  129.0              strict   \n",
       "\n",
       "   availability_30  availability_60  availability_90  availability_365  \\\n",
       "0               15               28               43                68   \n",
       "1               29               59               89               179   \n",
       "2               12               38               63               318   \n",
       "3                0                0                8                 8   \n",
       "4               15               31               35               180   \n",
       "\n",
       "   reviews_per_month  review_scores_location  flexible  moderate  strict  \n",
       "0               0.20                     8.0         0         0       1  \n",
       "1               0.08                    10.0         0         0       1  \n",
       "2               3.90                     9.0         0         0       1  \n",
       "3               2.28                     9.0         0         1       0  \n",
       "4               2.18                    10.0         0         0       1  "
      ]
     },
     "execution_count": 26,
     "metadata": {},
     "output_type": "execute_result"
    }
   ],
   "source": [
    "au_sub.head()"
   ]
  },
  {
   "cell_type": "code",
   "execution_count": 27,
   "metadata": {},
   "outputs": [
    {
     "data": {
      "text/plain": [
       "House                 5882\n",
       "Apartment             3036\n",
       "Condominium            770\n",
       "Guesthouse             435\n",
       "Townhouse              395\n",
       "Bungalow               348\n",
       "Guest suite            223\n",
       "Loft                   140\n",
       "Serviced apartment     107\n",
       "Camper/RV               85\n",
       "Other                   69\n",
       "Cottage                 47\n",
       "Tiny house              40\n",
       "Bed and breakfast       39\n",
       "Cabin                   36\n",
       "Boutique hotel          35\n",
       "Villa                   24\n",
       "Hostel                  22\n",
       "Resort                  22\n",
       "Tent                    16\n",
       "Aparthotel              15\n",
       "Campsite                11\n",
       "Boat                     9\n",
       "Farm stay                9\n",
       "Yurt                     7\n",
       "Tipi                     5\n",
       "Barn                     4\n",
       "Treehouse                3\n",
       "Houseboat                3\n",
       "Chalet                   3\n",
       "Nature lodge             2\n",
       "Dome house               2\n",
       "Hotel                    1\n",
       "Earth house              1\n",
       "Name: property_type, dtype: int64"
      ]
     },
     "execution_count": 27,
     "metadata": {},
     "output_type": "execute_result"
    }
   ],
   "source": [
    "au_sub['property_type'].value_counts()"
   ]
  },
  {
   "cell_type": "code",
   "execution_count": 28,
   "metadata": {},
   "outputs": [],
   "source": [
    "###binary-encoding for property_type\n",
    "au_sub['property_type_cleaned'] = au_sub['property_type']\n",
    "au_sub.loc[(au_sub['property_type'] != 'Apartment') & (au_sub['property_type'] != 'House') \n",
    "           & (au_sub['property_type'] != 'Condominium') & (au_sub['property_type'] != 'Guesthouse')\n",
    "           & (au_sub['property_type'] != 'Townhouse') & (au_sub['property_type'] != 'Guest suite')\n",
    "           & (au_sub['property_type'] != 'Bungalow') & (au_sub['property_type'] != 'Loft'), \n",
    "           'property_type_cleaned'] = 'Other'"
   ]
  },
  {
   "cell_type": "code",
   "execution_count": 29,
   "metadata": {},
   "outputs": [
    {
     "data": {
      "text/plain": [
       "House          5882\n",
       "Apartment      3036\n",
       "Condominium     770\n",
       "Other           617\n",
       "Guesthouse      435\n",
       "Townhouse       395\n",
       "Bungalow        348\n",
       "Guest suite     223\n",
       "Loft            140\n",
       "Name: property_type_cleaned, dtype: int64"
      ]
     },
     "execution_count": 29,
     "metadata": {},
     "output_type": "execute_result"
    }
   ],
   "source": [
    "au_sub['property_type_cleaned'].value_counts()"
   ]
  },
  {
   "cell_type": "code",
   "execution_count": 30,
   "metadata": {},
   "outputs": [],
   "source": [
    "#one-hot encoding \n",
    "binary_encoded1 = pd.get_dummies(au_sub.property_type_cleaned)\n",
    "newcols1 = binary_encoded1.columns\n",
    "au_sub[newcols1] = binary_encoded1"
   ]
  },
  {
   "cell_type": "markdown",
   "metadata": {},
   "source": [
    "#### Step 3, fill missing value in `reviews_per_month` with median value"
   ]
  },
  {
   "cell_type": "code",
   "execution_count": 31,
   "metadata": {},
   "outputs": [],
   "source": [
    "sub = au_sub[\"reviews_per_month\"].median()\n",
    "au_sub[\"reviews_per_month\"] = au_sub[\"reviews_per_month\"].fillna(value =sub)"
   ]
  },
  {
   "cell_type": "code",
   "execution_count": 32,
   "metadata": {},
   "outputs": [
    {
     "data": {
      "text/plain": [
       "host_is_superhost            0\n",
       "host_total_listings_count    0\n",
       "host_identity_verified       0\n",
       "zipcode                      0\n",
       "property_type                0\n",
       "bathrooms                    0\n",
       "bedrooms                     0\n",
       "beds                         0\n",
       "price                        0\n",
       "cancellation_policy          0\n",
       "availability_30              0\n",
       "availability_60              0\n",
       "availability_90              0\n",
       "availability_365             0\n",
       "reviews_per_month            0\n",
       "review_scores_location       0\n",
       "flexible                     0\n",
       "moderate                     0\n",
       "strict                       0\n",
       "property_type_cleaned        0\n",
       "Apartment                    0\n",
       "Bungalow                     0\n",
       "Condominium                  0\n",
       "Guest suite                  0\n",
       "Guesthouse                   0\n",
       "House                        0\n",
       "Loft                         0\n",
       "Other                        0\n",
       "Townhouse                    0\n",
       "dtype: int64"
      ]
     },
     "execution_count": 32,
     "metadata": {},
     "output_type": "execute_result"
    }
   ],
   "source": [
    "au_sub.isnull().sum()"
   ]
  },
  {
   "cell_type": "code",
   "execution_count": 33,
   "metadata": {},
   "outputs": [],
   "source": [
    "au_sub.to_csv(\"listings_au_cleaned.csv\")"
   ]
  },
  {
   "cell_type": "code",
   "execution_count": null,
   "metadata": {},
   "outputs": [],
   "source": []
  },
  {
   "cell_type": "code",
   "execution_count": null,
   "metadata": {},
   "outputs": [],
   "source": []
  }
 ],
 "metadata": {
  "kernelspec": {
   "display_name": "Python 3",
   "language": "python",
   "name": "python3"
  },
  "language_info": {
   "codemirror_mode": {
    "name": "ipython",
    "version": 3
   },
   "file_extension": ".py",
   "mimetype": "text/x-python",
   "name": "python",
   "nbconvert_exporter": "python",
   "pygments_lexer": "ipython3",
   "version": "3.7.0"
  }
 },
 "nbformat": 4,
 "nbformat_minor": 2
}
