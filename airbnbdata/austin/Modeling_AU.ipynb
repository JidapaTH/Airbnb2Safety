{
 "cells": [
  {
   "cell_type": "code",
   "execution_count": 1,
   "metadata": {},
   "outputs": [],
   "source": [
    "import numpy as np\n",
    "import pandas as pd\n",
    "import matplotlib.pyplot as plt\n",
    "import scipy.stats as stats\n",
    "from statsmodels.formula.api import ols\n",
    "import warnings\n",
    "warnings.filterwarnings('ignore')"
   ]
  },
  {
   "cell_type": "markdown",
   "metadata": {},
   "source": [
    "### Crime Score Version"
   ]
  },
  {
   "cell_type": "code",
   "execution_count": 2,
   "metadata": {},
   "outputs": [],
   "source": [
    "# crime1 = pd.read_csv(\"safety_score.csv\")# 1st version\n",
    "# crime2 = pd.read_csv(\"safety_score_LA_old.csv\") # 2nd version\n",
    "crime3 = pd.read_csv(\"safety_score_AU.csv\") # 3rd version"
   ]
  },
  {
   "cell_type": "code",
   "execution_count": 3,
   "metadata": {},
   "outputs": [
    {
     "data": {
      "text/html": [
       "<div>\n",
       "<style scoped>\n",
       "    .dataframe tbody tr th:only-of-type {\n",
       "        vertical-align: middle;\n",
       "    }\n",
       "\n",
       "    .dataframe tbody tr th {\n",
       "        vertical-align: top;\n",
       "    }\n",
       "\n",
       "    .dataframe thead th {\n",
       "        text-align: right;\n",
       "    }\n",
       "</style>\n",
       "<table border=\"1\" class=\"dataframe\">\n",
       "  <thead>\n",
       "    <tr style=\"text-align: right;\">\n",
       "      <th></th>\n",
       "      <th>Unnamed: 0</th>\n",
       "      <th>ZIP</th>\n",
       "      <th>score</th>\n",
       "      <th>pop</th>\n",
       "      <th>score/population</th>\n",
       "      <th>log</th>\n",
       "      <th>level</th>\n",
       "      <th>level2</th>\n",
       "    </tr>\n",
       "  </thead>\n",
       "  <tbody>\n",
       "    <tr>\n",
       "      <th>0</th>\n",
       "      <td>0</td>\n",
       "      <td>78613.0</td>\n",
       "      <td>11175</td>\n",
       "      <td>75279</td>\n",
       "      <td>0.148448</td>\n",
       "      <td>-1.907522</td>\n",
       "      <td>3</td>\n",
       "      <td>1</td>\n",
       "    </tr>\n",
       "    <tr>\n",
       "      <th>1</th>\n",
       "      <td>1</td>\n",
       "      <td>78617.0</td>\n",
       "      <td>10235</td>\n",
       "      <td>26126</td>\n",
       "      <td>0.391755</td>\n",
       "      <td>-0.937118</td>\n",
       "      <td>3</td>\n",
       "      <td>1</td>\n",
       "    </tr>\n",
       "    <tr>\n",
       "      <th>2</th>\n",
       "      <td>2</td>\n",
       "      <td>78652.0</td>\n",
       "      <td>570</td>\n",
       "      <td>4919</td>\n",
       "      <td>0.115877</td>\n",
       "      <td>-2.155224</td>\n",
       "      <td>3</td>\n",
       "      <td>1</td>\n",
       "    </tr>\n",
       "    <tr>\n",
       "      <th>3</th>\n",
       "      <td>3</td>\n",
       "      <td>78653.0</td>\n",
       "      <td>1490</td>\n",
       "      <td>19328</td>\n",
       "      <td>0.077090</td>\n",
       "      <td>-2.562779</td>\n",
       "      <td>3</td>\n",
       "      <td>1</td>\n",
       "    </tr>\n",
       "    <tr>\n",
       "      <th>4</th>\n",
       "      <td>4</td>\n",
       "      <td>78660.0</td>\n",
       "      <td>5815</td>\n",
       "      <td>81698</td>\n",
       "      <td>0.071177</td>\n",
       "      <td>-2.642589</td>\n",
       "      <td>3</td>\n",
       "      <td>1</td>\n",
       "    </tr>\n",
       "  </tbody>\n",
       "</table>\n",
       "</div>"
      ],
      "text/plain": [
       "   Unnamed: 0      ZIP  score    pop  score/population       log  level  \\\n",
       "0           0  78613.0  11175  75279          0.148448 -1.907522      3   \n",
       "1           1  78617.0  10235  26126          0.391755 -0.937118      3   \n",
       "2           2  78652.0    570   4919          0.115877 -2.155224      3   \n",
       "3           3  78653.0   1490  19328          0.077090 -2.562779      3   \n",
       "4           4  78660.0   5815  81698          0.071177 -2.642589      3   \n",
       "\n",
       "   level2  \n",
       "0       1  \n",
       "1       1  \n",
       "2       1  \n",
       "3       1  \n",
       "4       1  "
      ]
     },
     "execution_count": 3,
     "metadata": {},
     "output_type": "execute_result"
    }
   ],
   "source": [
    "crime3.head()"
   ]
  },
  {
   "cell_type": "code",
   "execution_count": 4,
   "metadata": {},
   "outputs": [
    {
     "data": {
      "text/plain": [
       "array([1, 3, 2])"
      ]
     },
     "execution_count": 4,
     "metadata": {},
     "output_type": "execute_result"
    }
   ],
   "source": [
    "crime3.level2.unique()"
   ]
  },
  {
   "cell_type": "code",
   "execution_count": 5,
   "metadata": {
    "scrolled": false
   },
   "outputs": [
    {
     "data": {
      "text/html": [
       "<div>\n",
       "<style scoped>\n",
       "    .dataframe tbody tr th:only-of-type {\n",
       "        vertical-align: middle;\n",
       "    }\n",
       "\n",
       "    .dataframe tbody tr th {\n",
       "        vertical-align: top;\n",
       "    }\n",
       "\n",
       "    .dataframe thead th {\n",
       "        text-align: right;\n",
       "    }\n",
       "</style>\n",
       "<table border=\"1\" class=\"dataframe\">\n",
       "  <thead>\n",
       "    <tr style=\"text-align: right;\">\n",
       "      <th></th>\n",
       "      <th>Unnamed: 0</th>\n",
       "      <th>ZIP</th>\n",
       "      <th>score</th>\n",
       "      <th>pop</th>\n",
       "      <th>score/population</th>\n",
       "      <th>log</th>\n",
       "      <th>level</th>\n",
       "      <th>level2</th>\n",
       "    </tr>\n",
       "  </thead>\n",
       "  <tbody>\n",
       "  </tbody>\n",
       "</table>\n",
       "</div>"
      ],
      "text/plain": [
       "Empty DataFrame\n",
       "Columns: [Unnamed: 0, ZIP, score, pop, score/population, log, level, level2]\n",
       "Index: []"
      ]
     },
     "execution_count": 5,
     "metadata": {},
     "output_type": "execute_result"
    }
   ],
   "source": [
    "crime3[crime3.level2.isna()]"
   ]
  },
  {
   "cell_type": "code",
   "execution_count": 6,
   "metadata": {},
   "outputs": [],
   "source": [
    "crime = crime3\n",
    "crime = crime[['ZIP','level2']]\n",
    "crime.columns = ['zipcode', 'cat_score']"
   ]
  },
  {
   "cell_type": "code",
   "execution_count": 7,
   "metadata": {
    "scrolled": true
   },
   "outputs": [
    {
     "data": {
      "text/plain": [
       "1    16\n",
       "3    15\n",
       "2    15\n",
       "Name: cat_score, dtype: int64"
      ]
     },
     "execution_count": 7,
     "metadata": {},
     "output_type": "execute_result"
    }
   ],
   "source": [
    "crime['cat_score'].value_counts()"
   ]
  },
  {
   "cell_type": "code",
   "execution_count": 8,
   "metadata": {},
   "outputs": [
    {
     "data": {
      "text/plain": [
       "(46, 2)"
      ]
     },
     "execution_count": 8,
     "metadata": {},
     "output_type": "execute_result"
    }
   ],
   "source": [
    "crime.shape"
   ]
  },
  {
   "cell_type": "code",
   "execution_count": 9,
   "metadata": {
    "scrolled": true
   },
   "outputs": [
    {
     "name": "stdout",
     "output_type": "stream",
     "text": [
      "<class 'pandas.core.frame.DataFrame'>\n",
      "RangeIndex: 46 entries, 0 to 45\n",
      "Data columns (total 2 columns):\n",
      "zipcode      46 non-null float64\n",
      "cat_score    46 non-null int64\n",
      "dtypes: float64(1), int64(1)\n",
      "memory usage: 816.0 bytes\n"
     ]
    }
   ],
   "source": [
    "crime.info()"
   ]
  },
  {
   "cell_type": "code",
   "execution_count": 10,
   "metadata": {},
   "outputs": [
    {
     "data": {
      "text/plain": [
       "array([1, 3, 2])"
      ]
     },
     "execution_count": 10,
     "metadata": {},
     "output_type": "execute_result"
    }
   ],
   "source": [
    "crime['cat_score'].unique()"
   ]
  },
  {
   "cell_type": "code",
   "execution_count": 11,
   "metadata": {},
   "outputs": [
    {
     "data": {
      "text/plain": [
       "<matplotlib.axes._subplots.AxesSubplot at 0x7f0f41ac98d0>"
      ]
     },
     "execution_count": 11,
     "metadata": {},
     "output_type": "execute_result"
    },
    {
     "data": {
      "image/png": "[encoded data removed]",
      "text/plain": [
       "<Figure size 432x288 with 1 Axes>"
      ]
     },
     "metadata": {
      "needs_background": "light"
     },
     "output_type": "display_data"
    }
   ],
   "source": [
    "crime['cat_score'].hist()"
   ]
  },
  {
   "cell_type": "markdown",
   "metadata": {},
   "source": [
    "### Merge cleaned listings data and safety score based on zipcode"
   ]
  },
  {
   "cell_type": "code",
   "execution_count": 12,
   "metadata": {},
   "outputs": [],
   "source": [
    "listing_zip = pd.read_csv(\"listings_au_cleaned_zipcode.csv\")\n",
    "#crime = pd.read_csv(\"safety_score_LA.csv\")\n",
    "#crime = pd.read_csv(\"crime_score.csv\")"
   ]
  },
  {
   "cell_type": "code",
   "execution_count": 13,
   "metadata": {
    "scrolled": false
   },
   "outputs": [
    {
     "data": {
      "text/html": [
       "<div>\n",
       "<style scoped>\n",
       "    .dataframe tbody tr th:only-of-type {\n",
       "        vertical-align: middle;\n",
       "    }\n",
       "\n",
       "    .dataframe tbody tr th {\n",
       "        vertical-align: top;\n",
       "    }\n",
       "\n",
       "    .dataframe thead th {\n",
       "        text-align: right;\n",
       "    }\n",
       "</style>\n",
       "<table border=\"1\" class=\"dataframe\">\n",
       "  <thead>\n",
       "    <tr style=\"text-align: right;\">\n",
       "      <th></th>\n",
       "      <th>host_total_listings_count</th>\n",
       "      <th>bathrooms</th>\n",
       "      <th>bedrooms</th>\n",
       "      <th>beds</th>\n",
       "      <th>price</th>\n",
       "      <th>availability_30</th>\n",
       "      <th>availability_60</th>\n",
       "      <th>availability_90</th>\n",
       "      <th>availability_365</th>\n",
       "      <th>reviews_per_month</th>\n",
       "      <th>...</th>\n",
       "      <th>wordperrev</th>\n",
       "      <th>count</th>\n",
       "      <th>good_y</th>\n",
       "      <th>safe_y</th>\n",
       "      <th>peaceful</th>\n",
       "      <th>night_y</th>\n",
       "      <th>walk_y</th>\n",
       "      <th>unsafe_y</th>\n",
       "      <th>bad_y</th>\n",
       "      <th>dangerous_y</th>\n",
       "    </tr>\n",
       "    <tr>\n",
       "      <th>zipcode</th>\n",
       "      <th></th>\n",
       "      <th></th>\n",
       "      <th></th>\n",
       "      <th></th>\n",
       "      <th></th>\n",
       "      <th></th>\n",
       "      <th></th>\n",
       "      <th></th>\n",
       "      <th></th>\n",
       "      <th></th>\n",
       "      <th></th>\n",
       "      <th></th>\n",
       "      <th></th>\n",
       "      <th></th>\n",
       "      <th></th>\n",
       "      <th></th>\n",
       "      <th></th>\n",
       "      <th></th>\n",
       "      <th></th>\n",
       "      <th></th>\n",
       "      <th></th>\n",
       "    </tr>\n",
       "  </thead>\n",
       "  <tbody>\n",
       "    <tr>\n",
       "      <th>78620</th>\n",
       "      <td>3.000000</td>\n",
       "      <td>1.000000</td>\n",
       "      <td>1.000000</td>\n",
       "      <td>3.000000</td>\n",
       "      <td>175.000000</td>\n",
       "      <td>23.000000</td>\n",
       "      <td>53.000000</td>\n",
       "      <td>83.000000</td>\n",
       "      <td>358.000000</td>\n",
       "      <td>0.240000</td>\n",
       "      <td>...</td>\n",
       "      <td>16.242631</td>\n",
       "      <td>12.000000</td>\n",
       "      <td>0.000000</td>\n",
       "      <td>0.000000</td>\n",
       "      <td>0.000000</td>\n",
       "      <td>0.000000</td>\n",
       "      <td>0.000000</td>\n",
       "      <td>0.0</td>\n",
       "      <td>0.000000</td>\n",
       "      <td>0.0</td>\n",
       "    </tr>\n",
       "    <tr>\n",
       "      <th>78652</th>\n",
       "      <td>1.500000</td>\n",
       "      <td>1.750000</td>\n",
       "      <td>2.000000</td>\n",
       "      <td>3.000000</td>\n",
       "      <td>78.000000</td>\n",
       "      <td>20.500000</td>\n",
       "      <td>50.500000</td>\n",
       "      <td>77.500000</td>\n",
       "      <td>122.500000</td>\n",
       "      <td>1.755000</td>\n",
       "      <td>...</td>\n",
       "      <td>27.121995</td>\n",
       "      <td>8.500000</td>\n",
       "      <td>0.000000</td>\n",
       "      <td>0.000000</td>\n",
       "      <td>0.000000</td>\n",
       "      <td>0.000000</td>\n",
       "      <td>0.000000</td>\n",
       "      <td>0.0</td>\n",
       "      <td>0.000000</td>\n",
       "      <td>0.0</td>\n",
       "    </tr>\n",
       "    <tr>\n",
       "      <th>78681</th>\n",
       "      <td>2.000000</td>\n",
       "      <td>1.500000</td>\n",
       "      <td>2.000000</td>\n",
       "      <td>2.500000</td>\n",
       "      <td>72.500000</td>\n",
       "      <td>25.500000</td>\n",
       "      <td>51.000000</td>\n",
       "      <td>70.500000</td>\n",
       "      <td>160.500000</td>\n",
       "      <td>1.180000</td>\n",
       "      <td>...</td>\n",
       "      <td>18.686851</td>\n",
       "      <td>40.000000</td>\n",
       "      <td>0.000000</td>\n",
       "      <td>0.000000</td>\n",
       "      <td>0.500000</td>\n",
       "      <td>0.000000</td>\n",
       "      <td>0.000000</td>\n",
       "      <td>0.0</td>\n",
       "      <td>0.000000</td>\n",
       "      <td>0.0</td>\n",
       "    </tr>\n",
       "    <tr>\n",
       "      <th>78701</th>\n",
       "      <td>57.073899</td>\n",
       "      <td>1.371855</td>\n",
       "      <td>1.410377</td>\n",
       "      <td>2.298742</td>\n",
       "      <td>319.784591</td>\n",
       "      <td>9.819182</td>\n",
       "      <td>25.528302</td>\n",
       "      <td>42.330189</td>\n",
       "      <td>150.443396</td>\n",
       "      <td>1.532343</td>\n",
       "      <td>...</td>\n",
       "      <td>90.199465</td>\n",
       "      <td>67.364130</td>\n",
       "      <td>0.008152</td>\n",
       "      <td>0.019022</td>\n",
       "      <td>0.010870</td>\n",
       "      <td>0.019022</td>\n",
       "      <td>0.725543</td>\n",
       "      <td>0.0</td>\n",
       "      <td>0.000000</td>\n",
       "      <td>0.0</td>\n",
       "    </tr>\n",
       "    <tr>\n",
       "      <th>78702</th>\n",
       "      <td>37.136102</td>\n",
       "      <td>1.638658</td>\n",
       "      <td>1.929712</td>\n",
       "      <td>2.780831</td>\n",
       "      <td>294.518850</td>\n",
       "      <td>10.025559</td>\n",
       "      <td>24.960383</td>\n",
       "      <td>40.812780</td>\n",
       "      <td>137.967412</td>\n",
       "      <td>1.691252</td>\n",
       "      <td>...</td>\n",
       "      <td>95.298597</td>\n",
       "      <td>61.395522</td>\n",
       "      <td>0.033582</td>\n",
       "      <td>0.041045</td>\n",
       "      <td>0.017724</td>\n",
       "      <td>0.056903</td>\n",
       "      <td>0.337687</td>\n",
       "      <td>0.0</td>\n",
       "      <td>0.001866</td>\n",
       "      <td>0.0</td>\n",
       "    </tr>\n",
       "  </tbody>\n",
       "</table>\n",
       "<p>5 rows × 63 columns</p>\n",
       "</div>"
      ],
      "text/plain": [
       "         host_total_listings_count  bathrooms  bedrooms      beds       price  \\\n",
       "zipcode                                                                         \n",
       "78620                     3.000000   1.000000  1.000000  3.000000  175.000000   \n",
       "78652                     1.500000   1.750000  2.000000  3.000000   78.000000   \n",
       "78681                     2.000000   1.500000  2.000000  2.500000   72.500000   \n",
       "78701                    57.073899   1.371855  1.410377  2.298742  319.784591   \n",
       "78702                    37.136102   1.638658  1.929712  2.780831  294.518850   \n",
       "\n",
       "         availability_30  availability_60  availability_90  availability_365  \\\n",
       "zipcode                                                                        \n",
       "78620          23.000000        53.000000        83.000000        358.000000   \n",
       "78652          20.500000        50.500000        77.500000        122.500000   \n",
       "78681          25.500000        51.000000        70.500000        160.500000   \n",
       "78701           9.819182        25.528302        42.330189        150.443396   \n",
       "78702          10.025559        24.960383        40.812780        137.967412   \n",
       "\n",
       "         reviews_per_month     ...       wordperrev      count    good_y  \\\n",
       "zipcode                        ...                                         \n",
       "78620             0.240000     ...        16.242631  12.000000  0.000000   \n",
       "78652             1.755000     ...        27.121995   8.500000  0.000000   \n",
       "78681             1.180000     ...        18.686851  40.000000  0.000000   \n",
       "78701             1.532343     ...        90.199465  67.364130  0.008152   \n",
       "78702             1.691252     ...        95.298597  61.395522  0.033582   \n",
       "\n",
       "           safe_y  peaceful   night_y    walk_y  unsafe_y     bad_y  \\\n",
       "zipcode                                                               \n",
       "78620    0.000000  0.000000  0.000000  0.000000       0.0  0.000000   \n",
       "78652    0.000000  0.000000  0.000000  0.000000       0.0  0.000000   \n",
       "78681    0.000000  0.500000  0.000000  0.000000       0.0  0.000000   \n",
       "78701    0.019022  0.010870  0.019022  0.725543       0.0  0.000000   \n",
       "78702    0.041045  0.017724  0.056903  0.337687       0.0  0.001866   \n",
       "\n",
       "         dangerous_y  \n",
       "zipcode               \n",
       "78620            0.0  \n",
       "78652            0.0  \n",
       "78681            0.0  \n",
       "78701            0.0  \n",
       "78702            0.0  \n",
       "\n",
       "[5 rows x 63 columns]"
      ]
     },
     "execution_count": 13,
     "metadata": {},
     "output_type": "execute_result"
    }
   ],
   "source": [
    "listing_zip = listing_zip.set_index('zipcode')\n",
    "listing_zip.head()"
   ]
  },
  {
   "cell_type": "code",
   "execution_count": 14,
   "metadata": {},
   "outputs": [
    {
     "data": {
      "text/html": [
       "<div>\n",
       "<style scoped>\n",
       "    .dataframe tbody tr th:only-of-type {\n",
       "        vertical-align: middle;\n",
       "    }\n",
       "\n",
       "    .dataframe tbody tr th {\n",
       "        vertical-align: top;\n",
       "    }\n",
       "\n",
       "    .dataframe thead th {\n",
       "        text-align: right;\n",
       "    }\n",
       "</style>\n",
       "<table border=\"1\" class=\"dataframe\">\n",
       "  <thead>\n",
       "    <tr style=\"text-align: right;\">\n",
       "      <th></th>\n",
       "      <th>zipcode</th>\n",
       "      <th>cat_score</th>\n",
       "    </tr>\n",
       "  </thead>\n",
       "  <tbody>\n",
       "    <tr>\n",
       "      <th>0</th>\n",
       "      <td>78613.0</td>\n",
       "      <td>1</td>\n",
       "    </tr>\n",
       "    <tr>\n",
       "      <th>1</th>\n",
       "      <td>78617.0</td>\n",
       "      <td>1</td>\n",
       "    </tr>\n",
       "    <tr>\n",
       "      <th>2</th>\n",
       "      <td>78652.0</td>\n",
       "      <td>1</td>\n",
       "    </tr>\n",
       "    <tr>\n",
       "      <th>3</th>\n",
       "      <td>78653.0</td>\n",
       "      <td>1</td>\n",
       "    </tr>\n",
       "    <tr>\n",
       "      <th>4</th>\n",
       "      <td>78660.0</td>\n",
       "      <td>1</td>\n",
       "    </tr>\n",
       "  </tbody>\n",
       "</table>\n",
       "</div>"
      ],
      "text/plain": [
       "   zipcode  cat_score\n",
       "0  78613.0          1\n",
       "1  78617.0          1\n",
       "2  78652.0          1\n",
       "3  78653.0          1\n",
       "4  78660.0          1"
      ]
     },
     "execution_count": 14,
     "metadata": {},
     "output_type": "execute_result"
    }
   ],
   "source": [
    "crime.head()"
   ]
  },
  {
   "cell_type": "code",
   "execution_count": 15,
   "metadata": {},
   "outputs": [],
   "source": [
    "crime = crime.set_index('zipcode')\n",
    "cla_data = listing_zip.join(crime, how ='inner')"
   ]
  },
  {
   "cell_type": "code",
   "execution_count": 16,
   "metadata": {
    "scrolled": true
   },
   "outputs": [
    {
     "data": {
      "text/html": [
       "<div>\n",
       "<style scoped>\n",
       "    .dataframe tbody tr th:only-of-type {\n",
       "        vertical-align: middle;\n",
       "    }\n",
       "\n",
       "    .dataframe tbody tr th {\n",
       "        vertical-align: top;\n",
       "    }\n",
       "\n",
       "    .dataframe thead th {\n",
       "        text-align: right;\n",
       "    }\n",
       "</style>\n",
       "<table border=\"1\" class=\"dataframe\">\n",
       "  <thead>\n",
       "    <tr style=\"text-align: right;\">\n",
       "      <th></th>\n",
       "      <th>host_total_listings_count</th>\n",
       "      <th>bathrooms</th>\n",
       "      <th>bedrooms</th>\n",
       "      <th>beds</th>\n",
       "      <th>price</th>\n",
       "      <th>availability_30</th>\n",
       "      <th>availability_60</th>\n",
       "      <th>availability_90</th>\n",
       "      <th>availability_365</th>\n",
       "      <th>reviews_per_month</th>\n",
       "      <th>...</th>\n",
       "      <th>count</th>\n",
       "      <th>good_y</th>\n",
       "      <th>safe_y</th>\n",
       "      <th>peaceful</th>\n",
       "      <th>night_y</th>\n",
       "      <th>walk_y</th>\n",
       "      <th>unsafe_y</th>\n",
       "      <th>bad_y</th>\n",
       "      <th>dangerous_y</th>\n",
       "      <th>cat_score</th>\n",
       "    </tr>\n",
       "    <tr>\n",
       "      <th>zipcode</th>\n",
       "      <th></th>\n",
       "      <th></th>\n",
       "      <th></th>\n",
       "      <th></th>\n",
       "      <th></th>\n",
       "      <th></th>\n",
       "      <th></th>\n",
       "      <th></th>\n",
       "      <th></th>\n",
       "      <th></th>\n",
       "      <th></th>\n",
       "      <th></th>\n",
       "      <th></th>\n",
       "      <th></th>\n",
       "      <th></th>\n",
       "      <th></th>\n",
       "      <th></th>\n",
       "      <th></th>\n",
       "      <th></th>\n",
       "      <th></th>\n",
       "      <th></th>\n",
       "    </tr>\n",
       "  </thead>\n",
       "  <tbody>\n",
       "    <tr>\n",
       "      <th>78652.0</th>\n",
       "      <td>1.500000</td>\n",
       "      <td>1.750000</td>\n",
       "      <td>2.000000</td>\n",
       "      <td>3.000000</td>\n",
       "      <td>78.000000</td>\n",
       "      <td>20.500000</td>\n",
       "      <td>50.500000</td>\n",
       "      <td>77.500000</td>\n",
       "      <td>122.500000</td>\n",
       "      <td>1.755000</td>\n",
       "      <td>...</td>\n",
       "      <td>8.500000</td>\n",
       "      <td>0.000000</td>\n",
       "      <td>0.000000</td>\n",
       "      <td>0.000000</td>\n",
       "      <td>0.000000</td>\n",
       "      <td>0.000000</td>\n",
       "      <td>0.000000</td>\n",
       "      <td>0.000000</td>\n",
       "      <td>0.0</td>\n",
       "      <td>1</td>\n",
       "    </tr>\n",
       "    <tr>\n",
       "      <th>78701.0</th>\n",
       "      <td>57.073899</td>\n",
       "      <td>1.371855</td>\n",
       "      <td>1.410377</td>\n",
       "      <td>2.298742</td>\n",
       "      <td>319.784591</td>\n",
       "      <td>9.819182</td>\n",
       "      <td>25.528302</td>\n",
       "      <td>42.330189</td>\n",
       "      <td>150.443396</td>\n",
       "      <td>1.532343</td>\n",
       "      <td>...</td>\n",
       "      <td>67.364130</td>\n",
       "      <td>0.008152</td>\n",
       "      <td>0.019022</td>\n",
       "      <td>0.010870</td>\n",
       "      <td>0.019022</td>\n",
       "      <td>0.725543</td>\n",
       "      <td>0.000000</td>\n",
       "      <td>0.000000</td>\n",
       "      <td>0.0</td>\n",
       "      <td>3</td>\n",
       "    </tr>\n",
       "    <tr>\n",
       "      <th>78702.0</th>\n",
       "      <td>37.136102</td>\n",
       "      <td>1.638658</td>\n",
       "      <td>1.929712</td>\n",
       "      <td>2.780831</td>\n",
       "      <td>294.518850</td>\n",
       "      <td>10.025559</td>\n",
       "      <td>24.960383</td>\n",
       "      <td>40.812780</td>\n",
       "      <td>137.967412</td>\n",
       "      <td>1.691252</td>\n",
       "      <td>...</td>\n",
       "      <td>61.395522</td>\n",
       "      <td>0.033582</td>\n",
       "      <td>0.041045</td>\n",
       "      <td>0.017724</td>\n",
       "      <td>0.056903</td>\n",
       "      <td>0.337687</td>\n",
       "      <td>0.000000</td>\n",
       "      <td>0.001866</td>\n",
       "      <td>0.0</td>\n",
       "      <td>3</td>\n",
       "    </tr>\n",
       "    <tr>\n",
       "      <th>78703.0</th>\n",
       "      <td>8.292354</td>\n",
       "      <td>1.697151</td>\n",
       "      <td>1.992504</td>\n",
       "      <td>2.676162</td>\n",
       "      <td>481.053973</td>\n",
       "      <td>11.481259</td>\n",
       "      <td>26.575712</td>\n",
       "      <td>42.589205</td>\n",
       "      <td>147.967016</td>\n",
       "      <td>1.340075</td>\n",
       "      <td>...</td>\n",
       "      <td>57.995169</td>\n",
       "      <td>0.019324</td>\n",
       "      <td>0.096618</td>\n",
       "      <td>0.038647</td>\n",
       "      <td>0.041063</td>\n",
       "      <td>0.265700</td>\n",
       "      <td>0.000000</td>\n",
       "      <td>0.002415</td>\n",
       "      <td>0.0</td>\n",
       "      <td>2</td>\n",
       "    </tr>\n",
       "    <tr>\n",
       "      <th>78704.0</th>\n",
       "      <td>66.733087</td>\n",
       "      <td>1.505125</td>\n",
       "      <td>1.786388</td>\n",
       "      <td>2.298483</td>\n",
       "      <td>313.136531</td>\n",
       "      <td>10.015580</td>\n",
       "      <td>24.530135</td>\n",
       "      <td>40.071341</td>\n",
       "      <td>149.831488</td>\n",
       "      <td>1.331435</td>\n",
       "      <td>...</td>\n",
       "      <td>59.908053</td>\n",
       "      <td>0.032974</td>\n",
       "      <td>0.043120</td>\n",
       "      <td>0.015219</td>\n",
       "      <td>0.027901</td>\n",
       "      <td>0.361446</td>\n",
       "      <td>0.000634</td>\n",
       "      <td>0.000634</td>\n",
       "      <td>0.0</td>\n",
       "      <td>3</td>\n",
       "    </tr>\n",
       "  </tbody>\n",
       "</table>\n",
       "<p>5 rows × 64 columns</p>\n",
       "</div>"
      ],
      "text/plain": [
       "         host_total_listings_count  bathrooms  bedrooms      beds       price  \\\n",
       "zipcode                                                                         \n",
       "78652.0                   1.500000   1.750000  2.000000  3.000000   78.000000   \n",
       "78701.0                  57.073899   1.371855  1.410377  2.298742  319.784591   \n",
       "78702.0                  37.136102   1.638658  1.929712  2.780831  294.518850   \n",
       "78703.0                   8.292354   1.697151  1.992504  2.676162  481.053973   \n",
       "78704.0                  66.733087   1.505125  1.786388  2.298483  313.136531   \n",
       "\n",
       "         availability_30  availability_60  availability_90  availability_365  \\\n",
       "zipcode                                                                        \n",
       "78652.0        20.500000        50.500000        77.500000        122.500000   \n",
       "78701.0         9.819182        25.528302        42.330189        150.443396   \n",
       "78702.0        10.025559        24.960383        40.812780        137.967412   \n",
       "78703.0        11.481259        26.575712        42.589205        147.967016   \n",
       "78704.0        10.015580        24.530135        40.071341        149.831488   \n",
       "\n",
       "         reviews_per_month    ...          count    good_y    safe_y  \\\n",
       "zipcode                       ...                                      \n",
       "78652.0           1.755000    ...       8.500000  0.000000  0.000000   \n",
       "78701.0           1.532343    ...      67.364130  0.008152  0.019022   \n",
       "78702.0           1.691252    ...      61.395522  0.033582  0.041045   \n",
       "78703.0           1.340075    ...      57.995169  0.019324  0.096618   \n",
       "78704.0           1.331435    ...      59.908053  0.032974  0.043120   \n",
       "\n",
       "         peaceful   night_y    walk_y  unsafe_y     bad_y  dangerous_y  \\\n",
       "zipcode                                                                  \n",
       "78652.0  0.000000  0.000000  0.000000  0.000000  0.000000          0.0   \n",
       "78701.0  0.010870  0.019022  0.725543  0.000000  0.000000          0.0   \n",
       "78702.0  0.017724  0.056903  0.337687  0.000000  0.001866          0.0   \n",
       "78703.0  0.038647  0.041063  0.265700  0.000000  0.002415          0.0   \n",
       "78704.0  0.015219  0.027901  0.361446  0.000634  0.000634          0.0   \n",
       "\n",
       "         cat_score  \n",
       "zipcode             \n",
       "78652.0          1  \n",
       "78701.0          3  \n",
       "78702.0          3  \n",
       "78703.0          2  \n",
       "78704.0          3  \n",
       "\n",
       "[5 rows x 64 columns]"
      ]
     },
     "execution_count": 16,
     "metadata": {},
     "output_type": "execute_result"
    }
   ],
   "source": [
    "cla_data.head()"
   ]
  },
  {
   "cell_type": "code",
   "execution_count": 17,
   "metadata": {
    "scrolled": false
   },
   "outputs": [
    {
     "data": {
      "text/plain": [
       "Series([], dtype: int64)"
      ]
     },
     "execution_count": 17,
     "metadata": {},
     "output_type": "execute_result"
    }
   ],
   "source": [
    "cla_data.isnull().sum()[cla_data.isnull().sum() != 0]"
   ]
  },
  {
   "cell_type": "code",
   "execution_count": 18,
   "metadata": {},
   "outputs": [
    {
     "data": {
      "text/plain": [
       "(41, 64)"
      ]
     },
     "execution_count": 18,
     "metadata": {},
     "output_type": "execute_result"
    }
   ],
   "source": [
    "cla_data.shape"
   ]
  },
  {
   "cell_type": "code",
   "execution_count": 19,
   "metadata": {},
   "outputs": [],
   "source": [
    "corr_data = cla_data.loc[:, cla_data.columns != 'cat_score']"
   ]
  },
  {
   "cell_type": "code",
   "execution_count": 20,
   "metadata": {
    "scrolled": true
   },
   "outputs": [
    {
     "data": {
      "image/png": "[encoded data removed]",
      "text/plain": [
       "<Figure size 1440x720 with 2 Axes>"
      ]
     },
     "metadata": {
      "needs_background": "light"
     },
     "output_type": "display_data"
    }
   ],
   "source": [
    "corr = corr_data.corr()\n",
    "fig = plt.figure(figsize=(20,10))\n",
    "ax = fig.add_subplot(111)\n",
    "cax = ax.matshow(corr,cmap='coolwarm', vmin=-1, vmax=1)\n",
    "fig.colorbar(cax)\n",
    "ticks = np.arange(0,len(corr_data.columns),1)\n",
    "ax.set_xticks(ticks)\n",
    "plt.xticks(rotation=90)\n",
    "ax.set_yticks(ticks)\n",
    "ax.set_xticklabels(corr_data.columns)\n",
    "ax.set_yticklabels(corr_data.columns)\n",
    "plt.show()"
   ]
  },
  {
   "cell_type": "code",
   "execution_count": 21,
   "metadata": {},
   "outputs": [
    {
     "data": {
      "image/png": "[encoded data removed]",
      "text/plain": [
       "<Figure size 1440x720 with 2 Axes>"
      ]
     },
     "metadata": {
      "needs_background": "light"
     },
     "output_type": "display_data"
    }
   ],
   "source": [
    "nlp_rev = ['good','safe','night','walk','unsafe','bad','dangerous']\n",
    "corr_data = corr_data[nlp_rev]\n",
    "corr = corr_data.corr()\n",
    "fig = plt.figure(figsize=(20,10))\n",
    "ax = fig.add_subplot(111)\n",
    "cax = ax.matshow(corr,cmap='coolwarm', vmin=-1, vmax=1)\n",
    "fig.colorbar(cax)\n",
    "ticks = np.arange(0,len(corr_data.columns),1)\n",
    "ax.set_xticks(ticks)\n",
    "plt.xticks(rotation=90)\n",
    "ax.set_yticks(ticks)\n",
    "ax.set_xticklabels(corr_data.columns)\n",
    "ax.set_yticklabels(corr_data.columns)\n",
    "plt.show()"
   ]
  },
  {
   "cell_type": "code",
   "execution_count": 22,
   "metadata": {},
   "outputs": [],
   "source": [
    "cla_data.drop('bad', axis=1, inplace=True)\n",
    "cla_data.drop('dangerous', axis=1, inplace=True)"
   ]
  },
  {
   "cell_type": "code",
   "execution_count": 23,
   "metadata": {},
   "outputs": [],
   "source": [
    "cla_data.drop('safe', axis=1, inplace=True)"
   ]
  },
  {
   "cell_type": "code",
   "execution_count": 24,
   "metadata": {},
   "outputs": [],
   "source": [
    "cla_data.drop('availability_30', axis=1, inplace=True)\n",
    "cla_data.drop('availability_60', axis=1, inplace=True)\n",
    "cla_data.drop('availability_365', axis=1, inplace=True)"
   ]
  },
  {
   "cell_type": "code",
   "execution_count": 25,
   "metadata": {},
   "outputs": [],
   "source": [
    "cla_data.drop('bathrooms', axis=1, inplace=True)\n",
    "cla_data.drop('bedrooms', axis=1, inplace=True)"
   ]
  },
  {
   "cell_type": "code",
   "execution_count": 26,
   "metadata": {},
   "outputs": [
    {
     "data": {
      "text/plain": [
       "(41, 56)"
      ]
     },
     "execution_count": 26,
     "metadata": {},
     "output_type": "execute_result"
    }
   ],
   "source": [
    "cla_data.shape"
   ]
  },
  {
   "cell_type": "markdown",
   "metadata": {},
   "source": [
    "### Classfication"
   ]
  },
  {
   "cell_type": "code",
   "execution_count": 27,
   "metadata": {},
   "outputs": [],
   "source": [
    "cla_data['cat_score'] = cla_data['cat_score'].astype(str)"
   ]
  },
  {
   "cell_type": "code",
   "execution_count": 28,
   "metadata": {},
   "outputs": [],
   "source": [
    "def acc(Y_true, Y_pred):\n",
    "    acc = round(sum(Y_pred == Y_true)/len(Y_true),2)\n",
    "    return acc"
   ]
  },
  {
   "cell_type": "code",
   "execution_count": 29,
   "metadata": {},
   "outputs": [
    {
     "name": "stderr",
     "output_type": "stream",
     "text": [
      "/home/ubuntu/anaconda3/lib/python3.7/site-packages/sklearn/ensemble/weight_boosting.py:29: DeprecationWarning: numpy.core.umath_tests is an internal NumPy module and should not be imported. It will be removed in a future NumPy release.\n",
      "  from numpy.core.umath_tests import inner1d\n"
     ]
    }
   ],
   "source": [
    "# machine learning\n",
    "from sklearn.linear_model import LogisticRegression\n",
    "from sklearn.svm import SVC, LinearSVC, SVR\n",
    "from sklearn.ensemble import RandomForestClassifier, RandomForestRegressor\n",
    "import os\n",
    "os.environ['KMP_DUPLICATE_LIB_OK']='True'\n",
    "from sklearn.ensemble import AdaBoostClassifier, AdaBoostRegressor\n",
    "from sklearn.naive_bayes import GaussianNB\n",
    "from sklearn.neighbors import KNeighborsClassifier, KNeighborsRegressor\n",
    "from sklearn.naive_bayes import GaussianNB # Gaussian Naive Bays\n",
    "from sklearn.linear_model import Perceptron\n",
    "from sklearn.linear_model import SGDClassifier #stochastic gradient descent\n",
    "from sklearn.tree import DecisionTreeClassifier\n",
    "\n",
    "import xgboost as xgb"
   ]
  },
  {
   "cell_type": "code",
   "execution_count": 30,
   "metadata": {},
   "outputs": [],
   "source": [
    "from sklearn.model_selection import RepeatedKFold\n",
    "from sklearn.model_selection import train_test_split\n",
    "from sklearn import linear_model"
   ]
  },
  {
   "cell_type": "markdown",
   "metadata": {},
   "source": [
    "#### Train, Test Data Split"
   ]
  },
  {
   "cell_type": "code",
   "execution_count": 31,
   "metadata": {},
   "outputs": [],
   "source": [
    "Y = cla_data.reset_index(drop=True).iloc[::,-1]\n",
    "X = cla_data.reset_index(drop=True).iloc[::,0:cla_data.shape[1]-1]\n",
    "\n",
    "# X_tmp = X.copy()\n",
    "# drop_l = ['Guesthouse0', 'Guesthouse1', 'Condominium0', 'Condominium1',\n",
    "#        'Bungalow0', 'Bungalow1', 'Other0', 'Other1',\n",
    "#        'Apartment0', 'Apartment1', 'Guest suite0', 'Guest suite1', 'House0',\n",
    "#        'House1', 'Townhouse0', 'Townhouse1', 'Loft0', 'Loft1']\n",
    "# for i in drop_l:\n",
    "#     X_tmp.drop(i,axis=1, inplace=True)"
   ]
  },
  {
   "cell_type": "code",
   "execution_count": 32,
   "metadata": {},
   "outputs": [
    {
     "name": "stdout",
     "output_type": "stream",
     "text": [
      "(32, 55) (32,)\n",
      "(9, 55) (9,)\n"
     ]
    }
   ],
   "source": [
    "X_train, X_test, Y_train, Y_test = train_test_split(X, Y, test_size=0.2, random_state = 66)\n",
    "\n",
    "X_train = X_train.reset_index(drop=True)\n",
    "X_test = X_test.reset_index(drop=True)\n",
    "Y_train = Y_train.reset_index(drop=True)\n",
    "Y_test = Y_test.reset_index(drop=True)\n",
    "\n",
    "print(X_train.shape, Y_train.shape)\n",
    "print(X_test.shape, Y_test.shape)"
   ]
  },
  {
   "cell_type": "code",
   "execution_count": 33,
   "metadata": {},
   "outputs": [],
   "source": [
    "## PCA\n",
    "# from sklearn.decomposition import PCA\n",
    "# pca = PCA(0.95)\n",
    "# pca.fit(X_train)\n",
    "# X_train = pca.transform(X_train)\n",
    "# X_test = pca.transform(X_test)"
   ]
  },
  {
   "cell_type": "code",
   "execution_count": 34,
   "metadata": {},
   "outputs": [
    {
     "data": {
      "text/plain": [
       "<matplotlib.axes._subplots.AxesSubplot at 0x7f0f35c69898>"
      ]
     },
     "execution_count": 34,
     "metadata": {},
     "output_type": "execute_result"
    },
    {
     "data": {
      "image/png": "[encoded data removed]",
      "text/plain": [
       "<Figure size 432x288 with 1 Axes>"
      ]
     },
     "metadata": {
      "needs_background": "light"
     },
     "output_type": "display_data"
    }
   ],
   "source": [
    "## random forest feature selection\n",
    "rf_select = RandomForestClassifier(n_estimators = 100, max_features = 10, bootstrap = True, random_state = 45)\n",
    "rf_select.fit(X_train, Y_train)\n",
    "\n",
    "feat_importances = pd.Series(rf_select.feature_importances_, index=X_train.columns)\n",
    "feat_20 = [feat_importances.index[i] for i in range(feat_importances.shape[0]) if feat_importances[i] > 0.02]\n",
    "feat_importances.nlargest(20).sort_values(ascending=True).plot(kind='barh',color='cornflowerblue')"
   ]
  },
  {
   "cell_type": "code",
   "execution_count": 35,
   "metadata": {},
   "outputs": [],
   "source": [
    "from sklearn.feature_selection import SelectFromModel\n",
    "\n",
    "slc = SelectFromModel(rf_select, threshold=0.02)\n",
    "slc.fit(X_train, Y_train)\n",
    "X_select_train = slc.transform(X_train)\n",
    "X_select_test = slc.transform(X_test)"
   ]
  },
  {
   "cell_type": "code",
   "execution_count": 36,
   "metadata": {},
   "outputs": [],
   "source": [
    "X_train = pd.DataFrame(X_select_train, columns=feat_20)\n",
    "X_test = pd.DataFrame(X_select_test, columns=feat_20)"
   ]
  },
  {
   "cell_type": "markdown",
   "metadata": {},
   "source": [
    "#### Tuning Parameters"
   ]
  },
  {
   "cell_type": "code",
   "execution_count": 37,
   "metadata": {},
   "outputs": [],
   "source": [
    "from sklearn import svm\n",
    "from sklearn.model_selection import GridSearchCV\n",
    "\n",
    "## SVC\n",
    "def svc_param_selection(X, y, nfolds):\n",
    "    ks = ['rbf'] \n",
    "    Cs = [0.01, 0.1, 1, 10, 20, 50, 100]\n",
    "    gammas = [0.0001, 0.001, 0.01, 0.1]\n",
    "    param_grid = {'kernel': ks, 'C': Cs, 'gamma' : gammas}\n",
    "    grid_search = GridSearchCV(svm.SVC(), param_grid, cv=nfolds)\n",
    "    grid_search.fit(X, y)\n",
    "    grid_search.best_params_\n",
    "    return grid_search.best_params_"
   ]
  },
  {
   "cell_type": "code",
   "execution_count": 38,
   "metadata": {},
   "outputs": [
    {
     "data": {
      "text/plain": [
       "{'C': 100, 'gamma': 0.0001, 'kernel': 'rbf'}"
      ]
     },
     "execution_count": 38,
     "metadata": {},
     "output_type": "execute_result"
    }
   ],
   "source": [
    "svc_param_selection(X_train, Y_train, 5)"
   ]
  },
  {
   "cell_type": "code",
   "execution_count": 39,
   "metadata": {},
   "outputs": [],
   "source": [
    "## Random Forest\n",
    "def rf_param_selection(X, y, nfolds):\n",
    "    Ns = [10, 50, 100, 500, 1000]\n",
    "    #Fs = [5, 10, 20, 35]\n",
    "    Fs = [5, 10, 15]\n",
    "    #Ls = [2, 5, 10]\n",
    "    param_grid = {'n_estimators': Ns, 'max_features' : Fs} #'max_leaf_nodes': Ls\n",
    "    grid_search = GridSearchCV(RandomForestClassifier(bootstrap = True, random_state = 45), param_grid, cv=nfolds)\n",
    "    grid_search.fit(X, y)\n",
    "    grid_search.best_params_\n",
    "    return grid_search.best_params_"
   ]
  },
  {
   "cell_type": "code",
   "execution_count": 40,
   "metadata": {},
   "outputs": [
    {
     "data": {
      "text/plain": [
       "{'max_features': 5, 'n_estimators': 1000}"
      ]
     },
     "execution_count": 40,
     "metadata": {},
     "output_type": "execute_result"
    }
   ],
   "source": [
    "rf_param_selection(X_train, Y_train, 5)"
   ]
  },
  {
   "cell_type": "code",
   "execution_count": 41,
   "metadata": {},
   "outputs": [],
   "source": [
    "## Adaboost Classification\n",
    "def ada_param_selection(X, y, nfolds):\n",
    "    Ns = [10, 50, 100, 200, 500, 1000]\n",
    "    LRts = [1, 10, 20, 50, 100]\n",
    "    param_grid = {'n_estimators': Ns, 'learning_rate' : LRts}\n",
    "    grid_search = GridSearchCV(AdaBoostClassifier(random_state = 45), param_grid, cv=nfolds)\n",
    "    grid_search.fit(X, y)\n",
    "    grid_search.best_params_\n",
    "    return grid_search.best_params_"
   ]
  },
  {
   "cell_type": "code",
   "execution_count": 42,
   "metadata": {},
   "outputs": [
    {
     "data": {
      "text/plain": [
       "{'learning_rate': 10, 'n_estimators': 50}"
      ]
     },
     "execution_count": 42,
     "metadata": {},
     "output_type": "execute_result"
    }
   ],
   "source": [
    "ada_param_selection(X_train, Y_train, 5)"
   ]
  },
  {
   "cell_type": "code",
   "execution_count": 43,
   "metadata": {},
   "outputs": [],
   "source": [
    "## KNN Classification\n",
    "def knn_param_selection(X, y, nfolds):\n",
    "    Ns = [2, 3, 4, 5, 6, 7, 8, 10]\n",
    "    param_grid = {'n_neighbors': Ns}\n",
    "    grid_search = GridSearchCV(KNeighborsClassifier(), param_grid, cv=nfolds)\n",
    "    grid_search.fit(X, y)\n",
    "    grid_search.best_params_\n",
    "    return grid_search.best_params_"
   ]
  },
  {
   "cell_type": "code",
   "execution_count": 44,
   "metadata": {},
   "outputs": [
    {
     "data": {
      "text/plain": [
       "{'n_neighbors': 6}"
      ]
     },
     "execution_count": 44,
     "metadata": {},
     "output_type": "execute_result"
    }
   ],
   "source": [
    "knn_param_selection(X_train, Y_train, 5)"
   ]
  },
  {
   "cell_type": "code",
   "execution_count": 45,
   "metadata": {},
   "outputs": [],
   "source": [
    "## Decision Tree\n",
    "def dt_param_selection(X, y, nfolds):\n",
    "    #Fs = [5, 10, 20, 35]\n",
    "    Fs = [5, 10, 15]\n",
    "    param_grid = {'max_features': Fs}\n",
    "    grid_search = GridSearchCV(DecisionTreeClassifier(random_state=45), param_grid, cv=nfolds)\n",
    "    grid_search.fit(X, y)\n",
    "    grid_search.best_params_\n",
    "    return grid_search.best_params_"
   ]
  },
  {
   "cell_type": "code",
   "execution_count": 46,
   "metadata": {},
   "outputs": [
    {
     "data": {
      "text/plain": [
       "{'max_features': 15}"
      ]
     },
     "execution_count": 46,
     "metadata": {},
     "output_type": "execute_result"
    }
   ],
   "source": [
    "dt_param_selection(X_train, Y_train, 5)"
   ]
  },
  {
   "cell_type": "markdown",
   "metadata": {},
   "source": [
    "#### Modeling"
   ]
  },
  {
   "cell_type": "code",
   "execution_count": 47,
   "metadata": {},
   "outputs": [],
   "source": [
    "##Model List\n",
    "log = LogisticRegression(penalty = 'l1', multi_class='multinomial', solver = 'saga') ##Logistic Regression\n",
    "gnb = GaussianNB() ##Gaussian Naive Bayes\n",
    "svc = SVC(kernel = 'rbf', C = 100, gamma = 0.0001) ##SVC\n",
    "rf_class = RandomForestClassifier(n_estimators = 1000, max_features = 5, bootstrap = True, random_state = 45) ##Random Forest\n",
    "adaboost_class = AdaBoostClassifier(n_estimators = 50, learning_rate = 10, random_state = 45) ##AdaBoost\n",
    "knn_class = KNeighborsClassifier(n_neighbors = 6) ##knn\n",
    "dt = DecisionTreeClassifier(max_features = 15, random_state=45)"
   ]
  },
  {
   "cell_type": "code",
   "execution_count": 48,
   "metadata": {},
   "outputs": [],
   "source": [
    "def class_train(model,X_train,Y_train,X_val,Y_val):\n",
    "    model.fit(X_train,Y_train)\n",
    "    Y_pred_tr = model.predict(X_train)\n",
    "    Y_pred_val = model.predict(X_val)\n",
    "    return(acc(Y_train, Y_pred_tr), acc(Y_val,Y_pred_val))"
   ]
  },
  {
   "cell_type": "markdown",
   "metadata": {},
   "source": [
    "#### Cross Validation"
   ]
  },
  {
   "cell_type": "code",
   "execution_count": 49,
   "metadata": {},
   "outputs": [],
   "source": [
    "kf = RepeatedKFold(n_splits=5, n_repeats=5, random_state=45)\n",
    "\n",
    "log_train_acc, rf_train_acc, ada_train_acc, gnb_train_acc, svc_train_acc, linsvc_train_acc, knn_train_acc, xgb_train_acc, per_train_acc, sgd_train_acc, dt_train_acc = ([] for i in range(11))\n",
    "log_val_acc, rf_val_acc, ada_val_acc, gnb_val_acc, svc_val_acc, linsvc_val_acc, knn_val_acc, xgb_val_acc, per_val_acc, sgd_val_acc, dt_val_acc = ([] for i in range(11))\n",
    "\n",
    "#X_train_t = pd.DataFrame(X_train, columns = list(\"ab\"))\n",
    "\n",
    "for train_index, test_index in kf.split(X_train):\n",
    "    X_train_k, X_val = X_train.iloc[train_index,], X_train.iloc[test_index]\n",
    "    Y_train_k, Y_val = Y_train.iloc[train_index], Y_train.iloc[test_index]\n",
    "    \n",
    "    log_train_acc.append(class_train(log,X_train_k,Y_train_k,X_val,Y_val)[0])\n",
    "    gnb_train_acc.append(class_train(gnb,X_train_k,Y_train_k,X_val,Y_val)[0])\n",
    "    svc_train_acc.append(class_train(svc,X_train_k,Y_train_k,X_val,Y_val)[0])\n",
    "    rf_train_acc.append(class_train(rf_class,X_train_k,Y_train_k,X_val,Y_val)[0])\n",
    "    ada_train_acc.append(class_train(adaboost_class,X_train_k,Y_train_k,X_val,Y_val)[0])\n",
    "    knn_train_acc.append(class_train(knn_class,X_train_k,Y_train_k,X_val,Y_val)[0])\n",
    "    dt_train_acc.append(class_train(dt,X_train_k,Y_train_k,X_val,Y_val)[0])\n",
    "    \n",
    "    log_val_acc.append(class_train(log,X_train_k,Y_train_k,X_val,Y_val)[1])\n",
    "    gnb_val_acc.append(class_train(gnb,X_train_k,Y_train_k,X_val,Y_val)[1])\n",
    "    svc_val_acc.append(class_train(svc,X_train_k,Y_train_k,X_val,Y_val)[1])\n",
    "    rf_val_acc.append(class_train(rf_class,X_train_k,Y_train_k,X_val,Y_val)[1])\n",
    "    ada_val_acc.append(class_train(adaboost_class,X_train_k,Y_train_k,X_val,Y_val)[1])\n",
    "    knn_val_acc.append(class_train(knn_class,X_train_k,Y_train_k,X_val,Y_val)[1])\n",
    "    dt_val_acc.append(class_train(dt,X_train_k,Y_train_k,X_val,Y_val)[1])"
   ]
  },
  {
   "cell_type": "code",
   "execution_count": 50,
   "metadata": {},
   "outputs": [],
   "source": [
    "#Logistic, NB, SVM, KNN, Random Forest"
   ]
  },
  {
   "cell_type": "code",
   "execution_count": 51,
   "metadata": {},
   "outputs": [
    {
     "data": {
      "text/html": [
       "<div>\n",
       "<style scoped>\n",
       "    .dataframe tbody tr th:only-of-type {\n",
       "        vertical-align: middle;\n",
       "    }\n",
       "\n",
       "    .dataframe tbody tr th {\n",
       "        vertical-align: top;\n",
       "    }\n",
       "\n",
       "    .dataframe thead th {\n",
       "        text-align: right;\n",
       "    }\n",
       "</style>\n",
       "<table border=\"1\" class=\"dataframe\">\n",
       "  <thead>\n",
       "    <tr style=\"text-align: right;\">\n",
       "      <th></th>\n",
       "      <th>Model</th>\n",
       "      <th>Train_Accuracy</th>\n",
       "      <th>CV_Val_Accuracy</th>\n",
       "    </tr>\n",
       "  </thead>\n",
       "  <tbody>\n",
       "    <tr>\n",
       "      <th>0</th>\n",
       "      <td>Logistic Regression</td>\n",
       "      <td>0.5256</td>\n",
       "      <td>0.3164</td>\n",
       "    </tr>\n",
       "    <tr>\n",
       "      <th>1</th>\n",
       "      <td>Gaussian Naive Bayes</td>\n",
       "      <td>0.8104</td>\n",
       "      <td>0.4204</td>\n",
       "    </tr>\n",
       "    <tr>\n",
       "      <th>2</th>\n",
       "      <td>SVC</td>\n",
       "      <td>0.8928</td>\n",
       "      <td>0.3496</td>\n",
       "    </tr>\n",
       "    <tr>\n",
       "      <th>3</th>\n",
       "      <td>Random Forest</td>\n",
       "      <td>1.0000</td>\n",
       "      <td>0.5124</td>\n",
       "    </tr>\n",
       "    <tr>\n",
       "      <th>4</th>\n",
       "      <td>Adaboost</td>\n",
       "      <td>0.5420</td>\n",
       "      <td>0.4304</td>\n",
       "    </tr>\n",
       "    <tr>\n",
       "      <th>5</th>\n",
       "      <td>KNN</td>\n",
       "      <td>0.5732</td>\n",
       "      <td>0.2840</td>\n",
       "    </tr>\n",
       "    <tr>\n",
       "      <th>6</th>\n",
       "      <td>Decision Tree</td>\n",
       "      <td>1.0000</td>\n",
       "      <td>0.4188</td>\n",
       "    </tr>\n",
       "  </tbody>\n",
       "</table>\n",
       "</div>"
      ],
      "text/plain": [
       "                  Model  Train_Accuracy  CV_Val_Accuracy\n",
       "0   Logistic Regression          0.5256           0.3164\n",
       "1  Gaussian Naive Bayes          0.8104           0.4204\n",
       "2                   SVC          0.8928           0.3496\n",
       "3         Random Forest          1.0000           0.5124\n",
       "4              Adaboost          0.5420           0.4304\n",
       "5                   KNN          0.5732           0.2840\n",
       "6         Decision Tree          1.0000           0.4188"
      ]
     },
     "execution_count": 51,
     "metadata": {},
     "output_type": "execute_result"
    }
   ],
   "source": [
    "mod_name = ['Logistic Regression', 'Gaussian Naive Bayes', 'SVC', 'Random Forest', 'Adaboost',  'KNN', 'Decision Tree']\n",
    "mod_list1 = [log_train_acc, gnb_train_acc, svc_train_acc, rf_train_acc, ada_train_acc, knn_train_acc, dt_train_acc]\n",
    "mod_list2 = [log_val_acc, gnb_val_acc, svc_val_acc, rf_val_acc, ada_val_acc, knn_val_acc, dt_val_acc]\n",
    "tr_acc_list = [np.mean(i) for i in mod_list1]\n",
    "val_acc_list = [np.mean(i) for i in mod_list2]\n",
    "tmp = {'Model': mod_name, 'Train_Accuracy': tr_acc_list, 'CV_Val_Accuracy': val_acc_list}\n",
    "acc_df = pd.DataFrame(data=tmp)\n",
    "acc_df"
   ]
  },
  {
   "cell_type": "code",
   "execution_count": 52,
   "metadata": {},
   "outputs": [
    {
     "name": "stdout",
     "output_type": "stream",
     "text": [
      "Logistic Regression Training Accuracy: 0.44\n",
      "Logistic Regression Testing Accuracy: 0.33\n"
     ]
    }
   ],
   "source": [
    "log.fit(X_train, Y_train)\n",
    "Y_pred_train = log.predict(X_train)\n",
    "Y_pred_test = log.predict(X_test) \n",
    "print('Logistic Regression Training Accuracy:', acc(Y_train, Y_pred_train))\n",
    "print('Logistic Regression Testing Accuracy:', acc(Y_test, Y_pred_test))"
   ]
  },
  {
   "cell_type": "code",
   "execution_count": 53,
   "metadata": {},
   "outputs": [
    {
     "name": "stdout",
     "output_type": "stream",
     "text": [
      "Navie Bayes Training Accuracy: 0.78\n",
      "Navie Bayes Testing Accuracy: 0.56\n"
     ]
    }
   ],
   "source": [
    "gnb.fit(X_train, Y_train)\n",
    "Y_pred_train = gnb.predict(X_train)\n",
    "Y_pred_test = gnb.predict(X_test) \n",
    "print('Navie Bayes Training Accuracy:', acc(Y_train, Y_pred_train))\n",
    "print('Navie Bayes Testing Accuracy:', acc(Y_test, Y_pred_test))"
   ]
  },
  {
   "cell_type": "code",
   "execution_count": 54,
   "metadata": {},
   "outputs": [
    {
     "name": "stdout",
     "output_type": "stream",
     "text": [
      "SVC Training Accuracy: 0.84\n",
      "SVC Testing Accuracy: 0.56\n"
     ]
    }
   ],
   "source": [
    "##SVC has the least validation mean squared error\n",
    "svc.fit(X_train, Y_train)\n",
    "Y_pred_train = svc.predict(X_train)\n",
    "Y_pred_test = svc.predict(X_test) \n",
    "print('SVC Training Accuracy:', acc(Y_train, Y_pred_train))\n",
    "print('SVC Testing Accuracy:', acc(Y_test, Y_pred_test))"
   ]
  },
  {
   "cell_type": "code",
   "execution_count": 55,
   "metadata": {},
   "outputs": [
    {
     "name": "stdout",
     "output_type": "stream",
     "text": [
      "Random Forest Training Accuracy: 1.0\n",
      "Random Forest Testing Accuracy: 0.44\n"
     ]
    }
   ],
   "source": [
    "rf_class.fit(X_train, Y_train)\n",
    "Y_pred_train = rf_class.predict(X_train)\n",
    "Y_pred_test = rf_class.predict(X_test) \n",
    "print('Random Forest Training Accuracy:', acc(Y_train, Y_pred_train))\n",
    "print('Random Forest Testing Accuracy:', acc(Y_test, Y_pred_test))"
   ]
  },
  {
   "cell_type": "code",
   "execution_count": 56,
   "metadata": {},
   "outputs": [
    {
     "data": {
      "text/plain": [
       "array([0.06182102, 0.02918025, 0.08191327, 0.06543323, 0.05913642,\n",
       "       0.03683792, 0.05738625, 0.0398685 , 0.08730591, 0.05016115,\n",
       "       0.03166846, 0.03338796, 0.08035337, 0.09032095, 0.03505132,\n",
       "       0.05151705, 0.04415883, 0.0359631 , 0.02853503])"
      ]
     },
     "execution_count": 56,
     "metadata": {},
     "output_type": "execute_result"
    }
   ],
   "source": [
    "rf_class.feature_importances_"
   ]
  },
  {
   "cell_type": "code",
   "execution_count": null,
   "metadata": {},
   "outputs": [],
   "source": [
    "# feat_importances = pd.Series(rf_class.feature_importances_, index=X_train.columns)\n",
    "# feat_importances.nlargest(20).sort_values(ascending=True).plot(kind='barh',color='cornflowerblue')"
   ]
  },
  {
   "cell_type": "code",
   "execution_count": null,
   "metadata": {},
   "outputs": [],
   "source": [
    "# from sklearn.feature_selection import SelectFromModel\n",
    "\n",
    "# sfm = SelectFromModel(rf_class, threshold=0.02)\n",
    "# sfm.fit(X_train, Y_train)\n",
    "# X_important_train = sfm.transform(X_train)\n",
    "# X_important_test = sfm.transform(X_test)\n",
    "\n",
    "# rf_class_2 = RandomForestClassifier(n_estimators = 100, max_features = 5, bootstrap = True, random_state = 45) ##Random Forest\n",
    "# rf_class_2.fit(X_important_train, Y_train)\n",
    "# Y_pred_train = rf_class_2.predict(X_important_train)\n",
    "# Y_pred_test = rf_class_2.predict(X_important_test) \n",
    "# print('Random Forest Training Accuracy:', acc(Y_train, Y_pred_train))\n",
    "# print('Random Forest Testing Accuracy:', acc(Y_test, Y_pred_test))"
   ]
  },
  {
   "cell_type": "code",
   "execution_count": 57,
   "metadata": {},
   "outputs": [
    {
     "name": "stdout",
     "output_type": "stream",
     "text": [
      "Adaboost Training Accuracy: 0.81\n",
      "Adaboost Testing Accuracy: 0.22\n"
     ]
    }
   ],
   "source": [
    "adaboost_class.fit(X_train, Y_train)\n",
    "Y_pred_train = adaboost_class.predict(X_train)\n",
    "Y_pred_test = adaboost_class.predict(X_test) \n",
    "print('Adaboost Training Accuracy:', acc(Y_train, Y_pred_train))\n",
    "print('Adaboost Testing Accuracy:', acc(Y_test, Y_pred_test))"
   ]
  },
  {
   "cell_type": "code",
   "execution_count": 58,
   "metadata": {},
   "outputs": [
    {
     "name": "stdout",
     "output_type": "stream",
     "text": [
      "KNN Training Accuracy: 0.56\n",
      "KNN Testing Accuracy: 0.22\n"
     ]
    }
   ],
   "source": [
    "knn_class.fit(X_train, Y_train)\n",
    "Y_pred_train = knn_class.predict(X_train)\n",
    "Y_pred_test = knn_class.predict(X_test) \n",
    "print('KNN Training Accuracy:', acc(Y_train, Y_pred_train))\n",
    "print('KNN Testing Accuracy:', acc(Y_test, Y_pred_test))"
   ]
  },
  {
   "cell_type": "code",
   "execution_count": 59,
   "metadata": {
    "scrolled": true
   },
   "outputs": [
    {
     "name": "stdout",
     "output_type": "stream",
     "text": [
      "Decision Tree Training Accuracy: 1.0\n",
      "Decision Tree Testing Accuracy: 0.44\n"
     ]
    }
   ],
   "source": [
    "dt.fit(X_train, Y_train)\n",
    "Y_pred_train = dt.predict(X_train)\n",
    "Y_pred_test = dt.predict(X_test) \n",
    "print('Decision Tree Training Accuracy:', acc(Y_train, Y_pred_train))\n",
    "print('Decision Tree Testing Accuracy:', acc(Y_test, Y_pred_test))"
   ]
  },
  {
   "cell_type": "code",
   "execution_count": 60,
   "metadata": {},
   "outputs": [
    {
     "name": "stdout",
     "output_type": "stream",
     "text": [
      "Confusion matrix of test data is: \n",
      "           Predicted 0  Predicted 1  Predicted 2\n",
      "Actual 0            1            1            0\n",
      "Actual 1            1            1            2\n",
      "Actual 2            0            1            2\n"
     ]
    }
   ],
   "source": [
    "from sklearn.metrics import confusion_matrix\n",
    "y_true = Y_test\n",
    "y_pred = rf_class.predict(X_test)\n",
    "cm = confusion_matrix(y_true, y_pred)\n",
    "\n",
    "ConfusionMatrix=pd.DataFrame(cm, columns=['Predicted 0','Predicted 1','Predicted 2'],index=['Actual 0','Actual 1','Actual 2'])\n",
    "print('Confusion matrix of test data is: \\n',ConfusionMatrix)"
   ]
  }
 ],
 "metadata": {
  "kernelspec": {
   "display_name": "Python 3",
   "language": "python",
   "name": "python3"
  },
  "language_info": {
   "codemirror_mode": {
    "name": "ipython",
    "version": 3
   },
   "file_extension": ".py",
   "mimetype": "text/x-python",
   "name": "python",
   "nbconvert_exporter": "python",
   "pygments_lexer": "ipython3",
   "version": "3.7.0"
  }
 },
 "nbformat": 4,
 "nbformat_minor": 2
}
